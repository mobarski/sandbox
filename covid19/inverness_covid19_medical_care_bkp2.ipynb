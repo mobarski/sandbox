{
 "cells": [
  {
   "cell_type": "markdown",
   "metadata": {},
   "source": [
    "# Notebook structure\n",
    "\n",
    "- [Approach idea](#Approach-idea)\n",
    "- [Common section for all sub-tasks](#Common-section-for-all-sub-tasks)\n",
    "- [Outcomes data for COVID-19 after mechanical ventilation adjusted for age](#Outcomes-data-for-COVID-19-after-mechanical-ventilation-adjusted-for-age) -> [results](#Display-results)\n",
    "- [Model recalculation](#Model-recalculation)\n"
   ]
  },
  {
   "cell_type": "markdown",
   "metadata": {},
   "source": [
    "# Approach idea\n",
    "\n",
    "### PROS\n",
    "\n",
    "- todo\n",
    "- todo\n",
    "\n",
    "### CONS\n",
    "\n",
    "- todo\n",
    "- todo\n"
   ]
  },
  {
   "cell_type": "markdown",
   "metadata": {},
   "source": [
    "# Common section for all sub-tasks"
   ]
  },
  {
   "cell_type": "markdown",
   "metadata": {},
   "source": [
    "### Installation of required packages"
   ]
  },
  {
   "cell_type": "code",
   "execution_count": 261,
   "metadata": {
    "collapsed": true
   },
   "outputs": [
    {
     "name": "stdout",
     "output_type": "stream",
     "text": [
      "Requirement already satisfied: inverness in c:\\apps\\python36\\lib\\site-packages (0.0.3)\n",
      "Requirement already satisfied: gensim in c:\\apps\\python36\\lib\\site-packages (from inverness) (3.8.1)\n",
      "Requirement already satisfied: nmslib in c:\\apps\\python36\\lib\\site-packages (from inverness) (2.0.5)\n",
      "Requirement already satisfied: tqdm in c:\\apps\\python36\\lib\\site-packages (from inverness) (4.44.1)\n",
      "Requirement already satisfied: dill in c:\\apps\\python36\\lib\\site-packages (from inverness) (0.3.1.1)\n",
      "Requirement already satisfied: six>=1.5.0 in c:\\apps\\python36\\lib\\site-packages (from gensim->inverness) (1.14.0)\n",
      "Requirement already satisfied: smart-open>=1.8.1 in c:\\apps\\python36\\lib\\site-packages (from gensim->inverness) (1.10.0)\n",
      "Requirement already satisfied: numpy>=1.11.3 in c:\\apps\\python36\\lib\\site-packages (from gensim->inverness) (1.18.2)\n",
      "Requirement already satisfied: scipy>=0.18.1 in c:\\apps\\python36\\lib\\site-packages (from gensim->inverness) (1.4.1)\n",
      "Requirement already satisfied: psutil in c:\\apps\\python36\\lib\\site-packages (from nmslib->inverness) (5.7.0)\n",
      "Requirement already satisfied: pybind11>=2.2.3 in c:\\apps\\python36\\lib\\site-packages (from nmslib->inverness) (2.5.0)\n",
      "Requirement already satisfied: requests in c:\\apps\\python36\\lib\\site-packages (from smart-open>=1.8.1->gensim->inverness) (2.23.0)\n",
      "Requirement already satisfied: boto3 in c:\\apps\\python36\\lib\\site-packages (from smart-open>=1.8.1->gensim->inverness) (1.12.34)\n",
      "Requirement already satisfied: google-cloud-storage in c:\\apps\\python36\\lib\\site-packages (from smart-open>=1.8.1->gensim->inverness) (1.26.0)\n",
      "Requirement already satisfied: chardet<4,>=3.0.2 in c:\\apps\\python36\\lib\\site-packages (from requests->smart-open>=1.8.1->gensim->inverness) (3.0.4)\n",
      "Requirement already satisfied: urllib3!=1.25.0,!=1.25.1,<1.26,>=1.21.1 in c:\\apps\\python36\\lib\\site-packages (from requests->smart-open>=1.8.1->gensim->inverness) (1.25.8)\n",
      "Requirement already satisfied: idna<3,>=2.5 in c:\\apps\\python36\\lib\\site-packages (from requests->smart-open>=1.8.1->gensim->inverness) (2.9)\n",
      "Requirement already satisfied: certifi>=2017.4.17 in c:\\apps\\python36\\lib\\site-packages (from requests->smart-open>=1.8.1->gensim->inverness) (2019.11.28)\n",
      "Requirement already satisfied: jmespath<1.0.0,>=0.7.1 in c:\\apps\\python36\\lib\\site-packages (from boto3->smart-open>=1.8.1->gensim->inverness) (0.9.5)\n",
      "Requirement already satisfied: botocore<1.16.0,>=1.15.34 in c:\\apps\\python36\\lib\\site-packages (from boto3->smart-open>=1.8.1->gensim->inverness) (1.15.34)\n",
      "Requirement already satisfied: s3transfer<0.4.0,>=0.3.0 in c:\\apps\\python36\\lib\\site-packages (from boto3->smart-open>=1.8.1->gensim->inverness) (0.3.3)\n",
      "Requirement already satisfied: google-resumable-media<0.6dev,>=0.5.0 in c:\\apps\\python36\\lib\\site-packages (from google-cloud-storage->smart-open>=1.8.1->gensim->inverness) (0.5.0)\n",
      "Requirement already satisfied: google-auth<2.0dev,>=1.11.0 in c:\\apps\\python36\\lib\\site-packages (from google-cloud-storage->smart-open>=1.8.1->gensim->inverness) (1.12.0)\n",
      "Requirement already satisfied: google-cloud-core<2.0dev,>=1.2.0 in c:\\apps\\python36\\lib\\site-packages (from google-cloud-storage->smart-open>=1.8.1->gensim->inverness) (1.3.0)\n",
      "Requirement already satisfied: docutils<0.16,>=0.10 in c:\\apps\\python36\\lib\\site-packages (from botocore<1.16.0,>=1.15.34->boto3->smart-open>=1.8.1->gensim->inverness) (0.15.2)\n",
      "Requirement already satisfied: python-dateutil<3.0.0,>=2.1 in c:\\apps\\python36\\lib\\site-packages (from botocore<1.16.0,>=1.15.34->boto3->smart-open>=1.8.1->gensim->inverness) (2.8.1)\n",
      "Requirement already satisfied: cachetools<5.0,>=2.0.0 in c:\\apps\\python36\\lib\\site-packages (from google-auth<2.0dev,>=1.11.0->google-cloud-storage->smart-open>=1.8.1->gensim->inverness) (4.0.0)\n",
      "Requirement already satisfied: rsa<4.1,>=3.1.4 in c:\\apps\\python36\\lib\\site-packages (from google-auth<2.0dev,>=1.11.0->google-cloud-storage->smart-open>=1.8.1->gensim->inverness) (4.0)\n",
      "Requirement already satisfied: pyasn1-modules>=0.2.1 in c:\\apps\\python36\\lib\\site-packages (from google-auth<2.0dev,>=1.11.0->google-cloud-storage->smart-open>=1.8.1->gensim->inverness) (0.2.8)\n",
      "Requirement already satisfied: setuptools>=40.3.0 in c:\\apps\\python36\\lib\\site-packages (from google-auth<2.0dev,>=1.11.0->google-cloud-storage->smart-open>=1.8.1->gensim->inverness) (40.6.2)\n",
      "Requirement already satisfied: google-api-core<2.0.0dev,>=1.16.0 in c:\\apps\\python36\\lib\\site-packages (from google-cloud-core<2.0dev,>=1.2.0->google-cloud-storage->smart-open>=1.8.1->gensim->inverness) (1.16.0)\n",
      "Requirement already satisfied: pyasn1>=0.1.3 in c:\\apps\\python36\\lib\\site-packages (from rsa<4.1,>=3.1.4->google-auth<2.0dev,>=1.11.0->google-cloud-storage->smart-open>=1.8.1->gensim->inverness) (0.4.8)\n",
      "Requirement already satisfied: pytz in c:\\apps\\python36\\lib\\site-packages (from google-api-core<2.0.0dev,>=1.16.0->google-cloud-core<2.0dev,>=1.2.0->google-cloud-storage->smart-open>=1.8.1->gensim->inverness) (2019.3)\n",
      "Requirement already satisfied: googleapis-common-protos<2.0dev,>=1.6.0 in c:\\apps\\python36\\lib\\site-packages (from google-api-core<2.0.0dev,>=1.16.0->google-cloud-core<2.0dev,>=1.2.0->google-cloud-storage->smart-open>=1.8.1->gensim->inverness) (1.51.0)\n",
      "Requirement already satisfied: protobuf>=3.4.0 in c:\\apps\\python36\\lib\\site-packages (from google-api-core<2.0.0dev,>=1.16.0->google-cloud-core<2.0dev,>=1.2.0->google-cloud-storage->smart-open>=1.8.1->gensim->inverness) (3.11.3)\n"
     ]
    }
   ],
   "source": [
    "!pip install inverness"
   ]
  },
  {
   "cell_type": "markdown",
   "metadata": {},
   "source": [
    "### Model load"
   ]
  },
  {
   "cell_type": "code",
   "execution_count": 104,
   "metadata": {},
   "outputs": [
    {
     "name": "stderr",
     "output_type": "stream",
     "text": [
      "load done in 2.94 seconds\n"
     ]
    }
   ],
   "source": [
    "import inverness\n",
    "model = inverness.Model('model_all_v7/').load(['fun','meta','phraser','dictionary','tfidf','lsi','dense_ann'])"
   ]
  },
  {
   "cell_type": "markdown",
   "metadata": {},
   "source": [
    "### Standard imports"
   ]
  },
  {
   "cell_type": "code",
   "execution_count": 105,
   "metadata": {},
   "outputs": [],
   "source": [
    "from IPython.core.display import display, HTML\n",
    "from matplotlib import pyplot as plt\n",
    "from tqdm import tqdm\n",
    "import pandas as pd\n",
    "import re\n",
    "pd.set_option('display.max_rows', 100)"
   ]
  },
  {
   "cell_type": "markdown",
   "metadata": {},
   "source": [
    "### Helper functions\n"
   ]
  },
  {
   "cell_type": "code",
   "execution_count": 106,
   "metadata": {},
   "outputs": [],
   "source": [
    "def score_text(text, criteria):\n",
    "    \"\"\"\"\"\"\n",
    "    total = 0\n",
    "    value = 1\n",
    "    for c in criteria:\n",
    "        if type(c) in (int,float):\n",
    "            value = c\n",
    "        else:\n",
    "            c = c.replace('_',r'\\b')\n",
    "            matches = re.findall(c,text,re.I)\n",
    "            total += value if matches else 0\n",
    "            #total += value*len(matches)\n",
    "    return total\n",
    "\n",
    "\n",
    "def score_results(i_d_lists, criteria, mark=None):\n",
    "    \"\"\"\"\"\"\n",
    "    results = []\n",
    "    for i,d in zip(*i_d_lists):\n",
    "        doc = model.get_doc(i)\n",
    "        text = model.doc_to_text(doc).replace('\\n',' ').replace('\\r',' ')\n",
    "        s = score_text(text, criteria)\n",
    "        html = highlight(text, criteria, style_by_group_id, default_style)\n",
    "        rec = s,d,i,html,doc\n",
    "        results += [rec]\n",
    "    results.sort(key=lambda x:(-x[0],x[1]))\n",
    "    return results\n",
    "\n",
    "\n",
    "# TODO ??? tqdm\n",
    "def score_queries(queries, criteria, K=50):\n",
    "    \"\"\"\"\"\"\n",
    "    by_score = []\n",
    "    for query in queries:\n",
    "        q = model.text_to_dense(query)\n",
    "        i_d = model.dense_ann_query(q,K)\n",
    "        results = score_results(i_d, criteria)\n",
    "        score = agg_results(results)\n",
    "        by_score += [(score,query)]\n",
    "    by_score.sort()\n",
    "    return by_score\n",
    "\n",
    "\n",
    "def highlight(text, criteria, styles={}, default='w=bold'):\n",
    "    \"\"\"\"\"\"\n",
    "    group_id = 0\n",
    "    for c in criteria:\n",
    "        if type(c) in (int,float):\n",
    "            group_id += 1\n",
    "        else:\n",
    "            c = c.replace('_',r'\\b')\n",
    "            c = f'({c}\\\\w*)'\n",
    "            style = styles.get(group_id,default)\n",
    "            style_props = []\n",
    "            for prop in style.split(','):\n",
    "                k,_,v = prop.partition('=')\n",
    "                if k=='w':\n",
    "                    style_props += [f'font-weight:{v}']\n",
    "                if k=='fg':\n",
    "                    style_props += [f'foreground-color:{v}']\n",
    "                if k=='bg':\n",
    "                    style_props += [f'background-color:{v}']\n",
    "            before = f'<span style=\"{\";\".join(style_props)}\">'\n",
    "            after = '</span>'\n",
    "            text = re.sub(c, before+'\\\\1'+after, text, flags=re.I)\n",
    "            # TODO default\n",
    "    return text\n",
    "\n",
    "\n",
    "# L2 score\n",
    "def agg_results(results):\n",
    "    \"\"\"\"\"\"\n",
    "    scores = [x[0] for x in results]\n",
    "    return sum([x*x for x in scores])**0.5\n",
    "\n",
    "\n",
    "# TODO break title into multiple lines\n",
    "def plot_results(results,title=''):\n",
    "    \"\"\"\"\"\"\n",
    "    scores = [x[0] for x in results]\n",
    "    scores.sort(reverse=True)\n",
    "    plt.plot(scores)\n",
    "    if title: plt.title(title)\n",
    "    score = agg_results(results)\n",
    "    plt.figtext(0.4, 1, f\"L2 score: {score:.02f}\")\n",
    "    plt.show()\n",
    "\n",
    "    \n",
    "# TEST\n",
    "#highlight_old(\"this is a test of this function\",['thi',5,'_is'],mark=[1])\n",
    "#highlight(\"this is a test of this function\",['thi',5,'_is'],styles={0:'w=bold',1:'bold,bg=#FF0000,fg=#0000FF'})\n",
    "#highlight(\"this is a test of this function\",['thi',5,'_is'])"
   ]
  },
  {
   "cell_type": "markdown",
   "metadata": {},
   "source": [
    "## Outcomes data for COVID-19 after mechanical ventilation adjusted for age"
   ]
  },
  {
   "cell_type": "markdown",
   "metadata": {},
   "source": [
    "### Scoring criteria\n",
    "\n",
    "#### Color codes:\n",
    "\n",
    "- **green** - positive outcome\n",
    "- **red** - negative outcome\n",
    "- **amber** - estimator\n",
    "- **yellow** - age related\n",
    "- **cyan** - outcome / result\n",
    "- **magenta** - table / chart / figure\n"
   ]
  },
  {
   "cell_type": "code",
   "execution_count": 257,
   "metadata": {},
   "outputs": [],
   "source": [
    "criteria = [\n",
    "    50,'mechanical','ventilat',\n",
    "    2,'adjust','_age','_years','_old',\n",
    "    2,'_surviv','discharge','extubate','alive',\n",
    "    2,'nonsurviv','_died','dead','death','mortality','complication',\n",
    "    5,'Kaplan.Meier','APACHE','SOFA','RIFLE','Glasgow.Coma','GCS','SAPS','_RESP_','RSBI','1000.person_',\n",
    "    2,'figure','_fig[.]','_table',\n",
    "    2,'outcome','result','occurr','cohort','median',\n",
    "    1,'duration','time','_day','patients','_stay','_week'\n",
    "]\n",
    "\n",
    "style_by_group_id = {1:'w=bold',2:'bg=#FFFF00',3:'bg=#00FF00',4:'bg=#FFAAAA',5:'bg=#FFCC00',6:'bg=#FFAAFF',7:'bg=#00FFFF'}\n",
    "default_style = ''\n",
    "\n",
    "# https://www.mdcalc.com/covid-19"
   ]
  },
  {
   "cell_type": "markdown",
   "metadata": {},
   "source": [
    "### Query selection\n",
    "\n",
    "While we could query our model with verbatim task question the intuition/experience tells that keyword based query can give better results.\n",
    "\n",
    "Here we score different queries (including verbatim task question) using criteria defined above."
   ]
  },
  {
   "cell_type": "code",
   "execution_count": 258,
   "metadata": {},
   "outputs": [
    {
     "name": "stdout",
     "output_type": "stream",
     "text": [
      "     58.02 -- results after mechnical ventilation discharged dead died survived survivors adjusted age years old\n",
      "     58.02 -- results after mechnical ventilation discharged dead died survived survivors adjusted age years old\n",
      "    446.41 -- results after mechnical ventilation discharged died survived extubated adjusted age\n",
      "    546.58 -- results outcomes after mechnical ventilation discharged died survived extubated adjusted age\n",
      "    603.41 -- Outcomes data for COVID-19 after mechanical ventilation adjusted for age\n",
      "    690.27 -- results after mechnical ventilation discharged dead died\n",
      "    704.74 -- results outcomes after mechnical ventilation discharged died survived extubated\n",
      "    718.88 -- results outcomes mechnical ventilation discharged died survived extubated\n",
      "    726.37 -- outcomes after mechnical ventilation discharged died survived extubated adjusted\n",
      "    731.40 -- results after mechnical ventilation discharged died survived extubated adjusted\n",
      "    753.34 -- results after mechnical ventilation discharged died survived survivors extubated adjusted\n",
      "    756.94 -- results outcomes after mechnical ventilation discharged died survived extubated adjusted\n"
     ]
    }
   ],
   "source": [
    "K = 50\n",
    "queries = [\n",
    "        'Outcomes data for COVID-19 after mechanical ventilation adjusted for age',\n",
    "        'results after mechnical ventilation discharged dead died',\n",
    "        'results after mechnical ventilation discharged dead died survived survivors adjusted age years old',\n",
    "        'results after mechnical ventilation discharged died survived survivors extubated adjusted',\n",
    "        'results after mechnical ventilation discharged dead died survived survivors adjusted age years old',\n",
    "        'results after mechnical ventilation discharged died survived extubated adjusted',\n",
    "        'results after mechnical ventilation discharged died survived extubated adjusted age',\n",
    "        'outcomes after mechnical ventilation discharged died survived extubated adjusted',\n",
    "        'results outcomes after mechnical ventilation discharged died survived extubated adjusted age',\n",
    "        'results outcomes after mechnical ventilation discharged died survived extubated',\n",
    "        'results outcomes mechnical ventilation discharged died survived extubated',\n",
    "        'results outcomes after mechnical ventilation discharged died survived extubated adjusted',\n",
    "]\n",
    "\n",
    "for score,query in score_queries(queries, criteria, K):\n",
    "    print(f\"{score:10.02f} -- {query}\")"
   ]
  },
  {
   "cell_type": "markdown",
   "metadata": {},
   "source": [
    "### Final query"
   ]
  },
  {
   "cell_type": "code",
   "execution_count": 241,
   "metadata": {},
   "outputs": [],
   "source": [
    "query = 'results outcomes after mechnical ventilation \\n discharged died survived extubated adjusted'"
   ]
  },
  {
   "cell_type": "markdown",
   "metadata": {},
   "source": [
    "### Query the model"
   ]
  },
  {
   "cell_type": "code",
   "execution_count": 259,
   "metadata": {
    "scrolled": true
   },
   "outputs": [
    {
     "data": {
      "image/png": "[encoded data removed]",
      "text/plain": [
       "<Figure size 432x288 with 1 Axes>"
      ]
     },
     "metadata": {
      "needs_background": "light"
     },
     "output_type": "display_data"
    }
   ],
   "source": [
    "K = 500\n",
    "q = model.text_to_dense(query)\n",
    "i_d_lists = model.dense_ann_query(q, K)\n",
    "results = score_results(i_d_lists, criteria, mark)\n",
    "plot_results(results, title=query)"
   ]
  },
  {
   "cell_type": "markdown",
   "metadata": {},
   "source": [
    "### Display results"
   ]
  },
  {
   "cell_type": "code",
   "execution_count": 260,
   "metadata": {
    "scrolled": false
   },
   "outputs": [
    {
     "data": {
      "text/html": [
       "153 :: 0.208 :: 164967<br>The overall ICU <span style=\"background-color:#FFAAAA\">mortality</span> rate was 74.2 % (n = 23). The <span style=\"background-color:#00FFFF\">median</span> ICU and hospital lengths of <span style=\"\">stay</span> were 9 (IQR: 4-16) and 12 (IQR: 4-16) <span style=\"\">days</span>, respectively. The major causes of <span style=\"background-color:#FFAAAA\">death</span> were hypoxemic respiratory failure (52.2 %) and refractory septic shock (26.1 %). One patient <span style=\"background-color:#FFAAAA\">died</span> from sudden cardiac arrest after ICU <span style=\"background-color:#00FF00\">discharge</span> but while still in the hospital. Furthermore, one patient <span style=\"background-color:#FFAAAA\">died</span> within 1 year after <span style=\"background-color:#00FF00\">discharge</span> from the ICU because of septic shock related to an infected wound. Only one patient was lost to follow-up after hospital <span style=\"background-color:#00FF00\">discharge</span>. The <span style=\"background-color:#FFCC00\">SOFA</span> score and <span style=\"background-color:#FFCC00\">Glasgow Coma</span> Scale (<span style=\"background-color:#FFCC00\">GCS</span>) increased markedly over the first 2 <span style=\"\">weeks</span> in the ICU in the whole <span style=\"background-color:#00FFFF\">cohort</span>, while other parameters of organ function remained largely unchanged (Additional file 3). Compared with those who were <span style=\"background-color:#00FF00\">discharged</span> <span style=\"background-color:#00FF00\">alive</span> from the ICU, <span style=\"background-color:#FFAAAA\">nonsurvivors</span> were <span style=\"background-color:#FFFF00\">older</span>, had higher <span style=\"background-color:#FFCC00\">APACHE</span> II and <span style=\"background-color:#FFCC00\">SOFA</span> scores on admission to the ICU, and were more likely to require invasive <span style=\"font-weight:bold\">mechanical</span> <span style=\"font-weight:bold\">ventilation</span> and vasopressor therapy and to have been <span style=\"font-weight:bold\">ventilated</span> using highfrequency oscillation (<span style=\"background-color:#FFAAFF\">Tables</span> 1 and 2 , and Additional files 1 and 2). <span style=\"background-color:#FFAAAA\">Nonsurvivors</span> had a persistently low PaO2/FiO 2 throughout the first 2 <span style=\"\">weeks</span> in the ICU, whereas <span style=\"background-color:#00FF00\">survivors</span> showed a slight increase over <span style=\"\">time</span> (<span style=\"background-color:#FFAAFF\">Fig.</span> 2) . After <span style=\"background-color:#FFFF00\">adjustment</span> for the severity of illness and the degree of organ dysfunction, the need for vasopressors was the only independent risk factor for <span style=\"background-color:#FFAAAA\">death</span> in the ICU (OR 18.33, 95 % confidence interval 1.11-302.1, P 0.04) (Additional file 4). Morbidity and <span style=\"background-color:#FFAAAA\">mortality</span> Characteristics of <span style=\"\">patients</span> on admission to the intensive care unit <span style=\"background-color:#FFCC00\">APACHE</span> acute physiology and chronic health evaluation, COPD chronic obstructive pulmonary disease, ICU intensive care unit, IQR interquartile range, NA not applicable, SD standard deviation, <span style=\"background-color:#FFCC00\">SOFA</span> sequential organ failure assessment Box plot representing the <span style=\"\">time</span> course of PaO2/FiO2 according to ICU <span style=\"background-color:#00FFFF\">outcome</span>. *P < 0.005 compared to <span style=\"background-color:#00FF00\">survivors</span> "
      ],
      "text/plain": [
       "<IPython.core.display.HTML object>"
      ]
     },
     "metadata": {},
     "output_type": "display_data"
    },
    {
     "data": {
      "text/html": [
       "150 :: 0.224 :: 516403<br>The <span style=\"background-color:#FFCC00\">SOFA</span> score and <span style=\"background-color:#FFCC00\">Glasgow Coma</span> Scale (<span style=\"background-color:#FFCC00\">GCS</span>) increased markedly over the first 2 <span style=\"\">weeks</span> in the ICU in the whole <span style=\"background-color:#00FFFF\">cohort</span>, while other parameters of organ function remained largely unchanged (Additional file 3). Compared with those who were <span style=\"background-color:#00FF00\">discharged</span> <span style=\"background-color:#00FF00\">alive</span> from the ICU, <span style=\"background-color:#FFAAAA\">nonsurvivors</span> were <span style=\"background-color:#FFFF00\">older</span>, had higher <span style=\"background-color:#FFCC00\">APACHE</span> II and <span style=\"background-color:#FFCC00\">SOFA</span> scores on admission to the ICU, and were more likely to require invasive <span style=\"font-weight:bold\">mechanical</span> <span style=\"font-weight:bold\">ventilation</span> and vasopressor therapy and to have been <span style=\"font-weight:bold\">ventilated</span> using high-frequency oscillation (<span style=\"background-color:#FFAAFF\">Tables</span> 1 and 2, and Additional files 1 and 2). <span style=\"background-color:#FFAAAA\">Nonsurvivors</span> had a persistently low PaO2/FiO2 throughout the first 2 <span style=\"\">weeks</span> in the ICU, whereas <span style=\"background-color:#00FF00\">survivors</span> showed a slight increase over <span style=\"\">time</span> (<span style=\"background-color:#FFAAFF\">Fig.</span> 2). After <span style=\"background-color:#FFFF00\">adjustment</span> for the severity of illness and the degree of organ dysfunction, the need for vasopressors was the only independent risk factor for <span style=\"background-color:#FFAAAA\">death</span> in the ICU (OR 18.33, 95 % confidence interval 1.11–302.1, P 0.04) (Additional file 4). Morbidity and <span style=\"background-color:#FFAAAA\">mortality</span> ::: <span style=\"background-color:#00FFFF\">Results</span> <span style=\"background-color:#FFAAFF\">Table</span> 1: Characteristics of <span style=\"\">patients</span> on admission to the intensive care unit  <span style=\"background-color:#FFCC00\">APACHE</span> acute physiology and chronic health evaluation, COPD chronic obstructive pulmonary disease, ICU intensive care unit, IQR interquartile range, NA not applicable, SD standard deviation, <span style=\"background-color:#FFCC00\">SOFA</span> sequential organ failure assessment <span style=\"background-color:#FFAAFF\">Table</span> 2: Procedures and therapies  ECMO extracorporeal membrane oxygenator, IQR interquartile range, RRT renal replacement therapy  aComparisons done for frequencies  bNorepinephrine  cIntravenous hydrocortisone (200–300 mg per <span style=\"\">day</span>) in four <span style=\"\">patients</span> and methyprednisolone in four <span style=\"\">patients</span> (maintenance therapy for underlying disease) <span style=\"background-color:#FFAAFF\">Fig.</span> 2: Box plot representing the <span style=\"\">time</span> course of PaO2/FiO2 according to ICU <span style=\"background-color:#00FFFF\">outcome</span>. *P < 0.005 compared to <span style=\"background-color:#00FF00\">survivors</span> "
      ],
      "text/plain": [
       "<IPython.core.display.HTML object>"
      ]
     },
     "metadata": {},
     "output_type": "display_data"
    },
    {
     "data": {
      "text/html": [
       "142 :: 0.289 :: 297634<br>Infections are a frequent <span style=\"background-color:#FFAAAA\">complication</span> after stroke. Pneumonia is the most frequent site of infection and is associated with lower <span style=\"background-color:#00FF00\">survival</span> and impaired neurologic <span style=\"background-color:#00FFFF\">outcome</span>. Studies focusing on intensive care <span style=\"\">patients</span> show the highest incidence of pneumonia, but are very heterogeneous in the severity of selected <span style=\"\">patients</span>. To date, there is no study focusing exclusively on the epidemiology and prognostic impact of pneumonia in <span style=\"font-weight:bold\">mechanically</span> <span style=\"font-weight:bold\">ventilated</span> stroke <span style=\"\">patients</span>. Furthermore, previous studies lack the <span style=\"background-color:#FFFF00\">adjustment</span> for early decisions to forgo life-sustaining treatment (DFLST) which is a significant confounder in these <span style=\"\">patients</span>. <span style=\"\">Patients</span> and methods: We conducted a retrospective analysis of a large prospective multicenter database over a 20-year period (1997) (1998) (1999) (2000) (2001) (2002) (2003) (2004) (2005) (2006) (2007) (2008) (2009) (2010) (2011) (2012) (2013) (2014) (2015) (2016) . We included all adult ischemic stroke <span style=\"\">patients</span> admitted to the ICU who required invasive <span style=\"font-weight:bold\">mechanical</span> <span style=\"font-weight:bold\">ventilation</span> at ICU admission. The relation between the <span style=\"background-color:#00FFFF\">occurrence</span> of pneumonia during ICU <span style=\"\">stay</span> and 30-<span style=\"\">day</span> <span style=\"background-color:#FFAAAA\">mortality</span> was investigated using a Cox proportional hazard model, <span style=\"background-color:#FFFF00\">adjusted</span> on DFLST. Data are presented as <span style=\"background-color:#00FFFF\">median</span> (interquartile range) or numbers (percentages). <span style=\"background-color:#00FFFF\">Results</span>: We identified 195 <span style=\"\">patients</span> (<span style=\"background-color:#FFFF00\">age</span> 69 (61-76) <span style=\"background-color:#FFFF00\">years</span>, male gender 132 (67.7%) <span style=\"\">patients</span>) from 11 ICUs. On ICU admission, the <span style=\"background-color:#FFCC00\">Glasgow coma</span> scale score (<span style=\"background-color:#FFCC00\">GCS</span>) was 6 (3-, 0) and the Simplified Acute Physiology score 2 (<span style=\"background-color:#FFCC00\">SAPS</span> 2) score was 56 (45-66). <span style=\"\">Patients</span> required vasopressors in 92 (47.2%) cases and renal replacement therapy in 17 (8.7%) cases. DFLST <span style=\"background-color:#00FFFF\">occurred</span> 5 (2-8) <span style=\"\">days</span> after ICU admission in 65 (33.3%) <span style=\"\">patients</span>. Withholding of care and withdrawal of care were observed in 31 (15.9%) and 34 (17.4%) cases, respectively. <span style=\"background-color:#00FF00\">Survival</span> at <span style=\"\">day</span> 3six, 6 months and one year was 44%, 32, 6% and 29.7% respectively. During ICU <span style=\"\">stay</span>, there were 90 pneumonia episodes, <span style=\"background-color:#00FFFF\">occurring</span> at least once in 74 (37.9%) <span style=\"\">patients</span>. Pneumonia caused sepsis and septic shock (SEPSIS-3 definition) in 40 (44.4%) and 33 (36.7%) cases respectively. After <span style=\"background-color:#FFFF00\">adjustment</span>, the <span style=\"background-color:#00FFFF\">occurrence</span> of pneumonia during ICU <span style=\"\">stay</span> was not associated with 30-<span style=\"\">day</span> <span style=\"background-color:#FFAAAA\">mortality</span> (<span style=\"background-color:#FFAAFF\">figure</span> 1). Conclusion: In this <span style=\"background-color:#00FFFF\">cohort</span> of <span style=\"font-weight:bold\">mechanically</span> <span style=\"font-weight:bold\">ventilated</span> <span style=\"\">patients</span> with acute ischemic stroke, pneumonia was a frequent <span style=\"background-color:#FFAAAA\">complication</span> but was not associated with 30-<span style=\"\">day</span> <span style=\"background-color:#FFAAAA\">mortality</span>. Impact of pneumonia on functional <span style=\"background-color:#00FFFF\">outcomes</span> in <span style=\"background-color:#00FF00\">survivors</span> should be investigated in further studies. Introduction:   "
      ],
      "text/plain": [
       "<IPython.core.display.HTML object>"
      ]
     },
     "metadata": {},
     "output_type": "display_data"
    },
    {
     "data": {
      "text/html": [
       "135 :: 0.300 :: 284306<br>Overall ICU and hospital <span style=\"background-color:#FFAAAA\">mortality</span> were 17% and 24%, respectively, without significant variation over the study period (Additional file 3: <span style=\"background-color:#FFAAFF\">Table</span> S3 ). The main causes of <span style=\"background-color:#FFAAAA\">death</span> were: multi-organ failure in 10 <span style=\"\">patients</span> (42%), refractory ARDS in 5 <span style=\"\">patients</span> (21%), and septic shock in <span style=\"background-color:#FFAAFF\">Fig.</span> 1 Imaging characteristics from lung CT. A 46-year-<span style=\"background-color:#FFFF00\">old</span> woman was admitted to the ICU for acute respiratory failure. She underwent kidney transplantation 12 <span style=\"background-color:#FFFF00\">years</span> ago. She reported fever and a typical chickenpox skin rash 5 <span style=\"\">days</span> before admission. The onset of respiratory symptoms started 2 <span style=\"\">days</span> before ICU admission and invasive <span style=\"font-weight:bold\">mechanical</span> <span style=\"font-weight:bold\">ventilation</span> was implemented at <span style=\"\">day</span> 1. She developed a severe ARDS requiring prone positioning, neuromuscular blockers, and 14 <span style=\"\">days</span> of invasive <span style=\"font-weight:bold\">mechanical</span> <span style=\"font-weight:bold\">ventilation</span>. Lung CT scan demonstrated diffuse bilateral nodules, patchy ground glass opacities, and interlobular septal thickening. A fiber bronchoscopy with bronchoalveolar lavage documented a Staphylococcus aureus co-infection. She received intravenous aciclovir 10 mg/kg/8 h during 15 <span style=\"\">days</span> associated with 10 <span style=\"\">days</span> of oxacilline and was <span style=\"background-color:#00FF00\">discharge</span> <span style=\"background-color:#00FF00\">alive</span> from the ICU 17 <span style=\"\">days</span> after admission 4 <span style=\"\">patients</span> (17%). One (4%) patient <span style=\"background-color:#FFAAAA\">died</span> from fulminant hepatic failure attributed to VZV infection and 1 (4%) patient <span style=\"background-color:#FFAAAA\">died</span> from brain edema. The cause of <span style=\"background-color:#FFAAAA\">death</span> was missing for 3 <span style=\"\">patients</span>. By univariate analysis, factors associated with hospital <span style=\"background-color:#FFAAAA\">mortality</span> were: <span style=\"background-color:#FFFF00\">age</span> (60 (49-72.5) vs. 36 (31) (32) (33) (34) (35) (36) (37) (38) (39) (40) (41) (42) (43) (44) (45) ; p < 0.0001), underlying immunosuppression (92% vs. 40%; p < 0.0001), <span style=\"background-color:#FFCC00\">SOFA</span> score on <span style=\"\">day</span> 1 (7 (5-10.75) vs. 4 (2-5.25) ; p = 0.0002), disseminated intravascular coagulation (42% vs. 4%; p = 0.0001), and empiric antibiotic treatment on ICU admission (91% vs. 53%; p < 0.0001) (Additional file 4: <span style=\"background-color:#FFAAFF\">Table</span> S2 , Additional file 5: <span style=\"background-color:#FFAAFF\">Figure</span> S2 , and Additional file 6: <span style=\"background-color:#FFAAFF\">Figure</span> S3 ). Treatments related to VZV pneumonia and <span style=\"background-color:#00FFFF\">outcome</span> ICU management and <span style=\"background-color:#00FFFF\">outcome</span> data Characteristics of the pulmonary involvement (n = 102)Macroscopic examination of the fluid was not reported in 12 cases BAL bronchoalveolar lavage, CT computed tomography, ICU intensive care unit, PCR polymerase chain reaction Risk factors associated with the need for invasive <span style=\"font-weight:bold\">mechanical</span> <span style=\"font-weight:bold\">ventilation</span> in <span style=\"\">patients</span> with VZV pneumonia. OR odds ratio, <span style=\"background-color:#FFCC00\">SOFA</span> Sequential Organ Failure Assessment Recurrent varicella-zoster virus infections in apparently immunocompetent children Reinfection with varicella-zoster virus in immunocompromised <span style=\"\">patients</span> Varicella-zoster virus antibody avidity and IgG-subclass patterns in children with recurrent chickenpox Identifying cancer subjects with acute respiratory failure at high risk for intubation and <span style=\"font-weight:bold\">mechanical</span> <span style=\"font-weight:bold\">ventilation</span> Predictors of noninvasive <span style=\"font-weight:bold\">ventilation</span> failure in <span style=\"\">patients</span> with hematologic malignancy and acute respiratory failure Predictors of failure of noninvasive positive pressure <span style=\"font-weight:bold\">ventilation</span> in <span style=\"\">patients</span> with acute hypoxemic respiratory failure: a multi-center study Varicella-zoster virus pneumonitis Bacterial <span style=\"background-color:#FFAAAA\">complications</span> of primary varicella in children Corticosteroids in life-threatening varicella pneumonia Effect of corticosteroids on adult varicella pneumonia: <span style=\"background-color:#00FFFF\">cohort</span> study and literature review Combining corticosteroids and acyclovir in the management of varicella pneumonia: a prospective study Corticosteroids as adjunctive therapy for severe Pneumocystis carinii pneumonia in the acquired immunodeficiency syndrome. A double-blind, placebo-controlled trial A controlled trial of early adjunctive treatment with corticosteroids for Pneumocystis carinii pneumonia in the acquired immunodeficiency syndrome. California Collaborative Treatment Group Efficacy and safety of corticosteroids for community-acquired pneumonia: a systematic review and meta-analysis The influence of corticosteroid treatment on the <span style=\"background-color:#00FFFF\">outcome</span> of influenza A(H1N1pdm09)-related critical illness"
      ],
      "text/plain": [
       "<IPython.core.display.HTML object>"
      ]
     },
     "metadata": {},
     "output_type": "display_data"
    },
    {
     "data": {
      "text/html": [
       "132 :: 0.196 :: 2069893<br>In this analysis, a total of 175 <span style=\"\">patients</span> were admitted to ICUs and received <span style=\"font-weight:bold\">mechanical</span> <span style=\"font-weight:bold\">ventilation</span> during the study period. Most of the <span style=\"\">patients</span> were below 1 month (89% of the whole population) and 59% were boys. A total of 30 (17%) of this study population <span style=\"background-color:#FFAAAA\">died</span> after the date of <span style=\"font-weight:bold\">mechanical</span> <span style=\"font-weight:bold\">ventilation</span> with a <span style=\"background-color:#00FFFF\">median</span> <span style=\"background-color:#00FF00\">survival</span> <span style=\"\">time</span> of 16 <span style=\"\">days</span> (IQR 7-37 <span style=\"\">days</span>). The <span style=\"background-color:#FFAAAA\">mortality</span> rate was 9.9 per <span style=\"background-color:#FFCC00\">1000-person</span> <span style=\"background-color:#FFFF00\">years</span> (95%, CI 6.96 to 14.25). The <span style=\"background-color:#FFCC00\">Kaplan-Meier</span> <span style=\"background-color:#00FF00\">survival</span> curves for 30-<span style=\"\">day</span> ICU <span style=\"background-color:#FFAAAA\">mortality</span> as shown in <span style=\"background-color:#FFAAFF\">Figure</span> 3. The curve shows that by the end of one month, 75% of <span style=\"\">patients</span> on <span style=\"font-weight:bold\">mechanical</span> <span style=\"font-weight:bold\">ventilation</span> are still <span style=\"background-color:#00FF00\">alive</span>. The characteristic of the population as demonstrated in <span style=\"background-color:#FFAAFF\">Table</span> 3. The main source of the admission of those neonates was labor and delivery by C-section, with the mean gestational <span style=\"\">week</span> being 32 (SD 5) <span style=\"\">weeks</span>. Prematurity with respiratory problems (50%) was the main recorded cause of the initiation of <span style=\"font-weight:bold\">mechanical</span> <span style=\"font-weight:bold\">ventilation</span>, followed by respiratory distress syndrome (37%). The majority of admissions to ICUs were premature. Neonates who received <span style=\"font-weight:bold\">mechanical</span> <span style=\"font-weight:bold\">ventilation</span> within the first month of their life and who were born extremely preterm had a high <span style=\"background-color:#FFAAAA\">mortality</span> rate after the initiation of <span style=\"font-weight:bold\">mechanical</span> <span style=\"font-weight:bold\">ventilation</span>. A total of 169 (96%) of the neonates were intubated in ICU while only 3% had already been intubated before their ICU admission. Variables related to <span style=\"font-weight:bold\">mechanical</span> <span style=\"font-weight:bold\">ventilation</span> parameters on <span style=\"\">day</span> one of <span style=\"font-weight:bold\">mechanical</span> <span style=\"font-weight:bold\">ventilation</span> are presented in <span style=\"background-color:#FFAAFF\">Table</span> 3. For the <span style=\"background-color:#00FFFF\">results</span> of the univariate analysis of factors associated with <span style=\"background-color:#FFAAAA\">mortality</span> among this population, <span style=\"background-color:#FFAAFF\">Table</span> 4 shows that neonates who received <span style=\"font-weight:bold\">mechanical</span> <span style=\"font-weight:bold\">ventilation</span> within the first month of life and who were born extremely preterm had a high <span style=\"background-color:#FFAAAA\">mortality</span> rate after the initiation of <span style=\"font-weight:bold\">mechanical</span> <span style=\"font-weight:bold\">ventilation</span>. In addition, those neonates who had respiratory distress syndrome as the cause of initiating the <span style=\"font-weight:bold\">mechanical</span> <span style=\"font-weight:bold\">ventilation</span> had a high rate of <span style=\"background-color:#FFAAAA\">mortality</span>; however, the univariate analysis showed no significant association. Neonates who had congenital anomalies as the cause of receiving <span style=\"font-weight:bold\">mechanical</span> <span style=\"font-weight:bold\">ventilation</span> were more likely to have a lower <span style=\"background-color:#00FF00\">survival</span> rate (OR 13, 95% CI 2.68-62.8). <span style=\"background-color:#00FFFF\">Results</span> <span style=\"background-color:#FFAAFF\">Table</span> 3: Demographic, clinical characteristics, and initial <span style=\"font-weight:bold\">ventilator</span> modes of the pediatric <span style=\"\">patients</span> on the inanition of the <span style=\"font-weight:bold\">mechanical</span> <span style=\"font-weight:bold\">ventilation</span> in the ICU between 2016-2018 (N=175).  <span style=\"background-color:#FFAAFF\">Table</span> 3: Demographic, clinical characteristics, and initial <span style=\"font-weight:bold\">ventilator</span> modes of the pediatric <span style=\"\">patients</span> on the inanition of the <span style=\"font-weight:bold\">mechanical</span> <span style=\"font-weight:bold\">ventilation</span> in the ICU between 2016-2018 (N=175).  <span style=\"background-color:#FFAAFF\">Table</span> 4: The univariate analysis of factors associated with <span style=\"background-color:#FFAAAA\">mortality</span> among adult <span style=\"\">patients</span> who admitted to ICU and received <span style=\"font-weight:bold\">mechanical</span> <span style=\"font-weight:bold\">ventilation</span> between 2016-2018.  <span style=\"background-color:#FFAAFF\">Figure</span> 3: <span style=\"background-color:#FFCC00\">Kaplan-Meier</span> curves of the probability of <span style=\"background-color:#00FF00\">survival</span> over<span style=\"\">time</span> for pediatric <span style=\"font-weight:bold\">mechanical</span> <span style=\"font-weight:bold\">ventilated</span> <span style=\"\">patients</span> (N=175) admitted to the intensive care unit between 2016-2108. "
      ],
      "text/plain": [
       "<IPython.core.display.HTML object>"
      ]
     },
     "metadata": {},
     "output_type": "display_data"
    },
    {
     "data": {
      "text/html": [
       "132 :: 0.199 :: 1979939<br>In this analysis, a total of 175 <span style=\"\">patients</span> were admitted to ICUs and received <span style=\"font-weight:bold\">mechanical</span> <span style=\"font-weight:bold\">ventilation</span> during the study period. Most of the <span style=\"\">patients</span> were below 1 month (89% of the whole population) and 59% were boys. A total of 30 (17%) of this study population <span style=\"background-color:#FFAAAA\">died</span> after the date of <span style=\"font-weight:bold\">mechanical</span> <span style=\"font-weight:bold\">ventilation</span> with a <span style=\"background-color:#00FFFF\">median</span> <span style=\"background-color:#00FF00\">survival</span> <span style=\"\">time</span> of 16 <span style=\"\">days</span> (IQR 7-37 <span style=\"\">days</span>). The <span style=\"background-color:#FFAAAA\">mortality</span> rate was 9.9 per <span style=\"background-color:#FFCC00\">1000-person</span> <span style=\"background-color:#FFFF00\">years</span> (95%, CI 6.96 to 14.25). The <span style=\"background-color:#FFCC00\">Kaplan-Meier</span> <span style=\"background-color:#00FF00\">survival</span> curves for 30-<span style=\"\">day</span> ICU <span style=\"background-color:#FFAAAA\">mortality</span> as shown in <span style=\"background-color:#FFAAFF\">Figure</span> 3 . The curve shows that by the end of one month, 75% of <span style=\"\">patients</span> on <span style=\"font-weight:bold\">mechanical</span> <span style=\"font-weight:bold\">ventilation</span> are still <span style=\"background-color:#00FF00\">alive</span>. The characteristic of the population as demonstrated in <span style=\"background-color:#FFAAFF\">Table</span> 3 . The main source of the admission of those neonates was labor and delivery by C-section, with the mean gestational <span style=\"\">week</span> being 32 (SD 5) <span style=\"\">weeks</span>. Prematurity with respiratory problems (50%) was the main recorded cause of the initiation of <span style=\"font-weight:bold\">mechanical</span> <span style=\"font-weight:bold\">ventilation</span>, followed by respiratory distress syndrome (37%). The majority of admissions to ICUs were premature. Neonates who received <span style=\"font-weight:bold\">mechanical</span> <span style=\"font-weight:bold\">ventilation</span> within the first month of their life and who were born extremely preterm had a high <span style=\"background-color:#FFAAAA\">mortality</span> rate after the initiation of <span style=\"font-weight:bold\">mechanical</span> <span style=\"font-weight:bold\">ventilation</span>. A total of 169 (96%) of the neonates were intubated in ICU while only 3% had already been intubated before their ICU admission. Variables related to <span style=\"font-weight:bold\">mechanical</span> <span style=\"font-weight:bold\">ventilation</span> parameters on <span style=\"\">day</span> one of <span style=\"font-weight:bold\">mechanical</span> <span style=\"font-weight:bold\">ventilation</span> are presented in <span style=\"background-color:#FFAAFF\">Table</span> 3 . For the <span style=\"background-color:#00FFFF\">results</span> of the univariate analysis of factors associated with <span style=\"background-color:#FFAAAA\">mortality</span> among this population, <span style=\"background-color:#FFAAFF\">Table</span> 4 shows that neonates who received <span style=\"font-weight:bold\">mechanical</span> <span style=\"font-weight:bold\">ventilation</span> within the first month of life and who were born extremely preterm had a high <span style=\"background-color:#FFAAAA\">mortality</span> rate after the initiation of <span style=\"font-weight:bold\">mechanical</span> <span style=\"font-weight:bold\">ventilation</span>. In addition, those neonates who had respiratory distress syndrome as the cause of initiating the <span style=\"font-weight:bold\">mechanical</span> <span style=\"font-weight:bold\">ventilation</span> had a high rate of <span style=\"background-color:#FFAAAA\">mortality</span>; however, the univariate analysis showed no significant association. Neonates who had congenital anomalies as the cause of receiving <span style=\"font-weight:bold\">mechanical</span> <span style=\"font-weight:bold\">ventilation</span> were more likely to have a lower <span style=\"background-color:#00FF00\">survival</span> rate (OR 13, 95% CI 2.68-62.8).  Demographic Demographic The univariate analysis of factors associated with <span style=\"background-color:#FFAAAA\">mortality</span> among adult <span style=\"\">patients</span> who admitted to ICU and received <span style=\"font-weight:bold\">mechanical</span> <span style=\"font-weight:bold\">ventilation</span> between 2016-2018. Values are presented as numbers and percentage (%). CI -confidence interval <span style=\"background-color:#FFAAAA\">mortality</span>, as 72% such <span style=\"\">patients</span> <span style=\"background-color:#FFAAAA\">died</span> in ICUs. <span style=\"background-color:#FFCC00\">Kaplan-Meier</span> curves of the probability of <span style=\"background-color:#00FF00\">survival</span> over<span style=\"\">time</span> for pediatric <span style=\"font-weight:bold\">mechanical</span> <span style=\"font-weight:bold\">ventilated</span> <span style=\"\">patients</span> (N=175) admitted to the intensive care unit between 2016-2108. "
      ],
      "text/plain": [
       "<IPython.core.display.HTML object>"
      ]
     },
     "metadata": {},
     "output_type": "display_data"
    },
    {
     "data": {
      "text/html": [
       "132 :: 0.278 :: 1258014<br>Patient delay was defined as the number of <span style=\"\">days</span> from the onset of illness to hospital admission. Length of <span style=\"\">stay</span> (for either hospital or ICU) was defined as the number of <span style=\"\">days</span> from admission to <span style=\"background-color:#00FF00\">discharge</span> or <span style=\"background-color:#FFAAAA\">death</span>. Re-admission b7 <span style=\"\">days</span> after <span style=\"background-color:#00FF00\">discharge</span> was considered as a continuous <span style=\"\">stay</span>. ICU admission criteria included a quick deteriorating disease course with potential need for vasopressive therapy and/or <span style=\"font-weight:bold\">mechanical</span> <span style=\"font-weight:bold\">ventilation</span>. Organ failure was defined when ≥3 points on the <span style=\"background-color:#FFCC00\">SOFA</span> scale were scored for a particular organ system [15] . Circulatory failure was defined as a mean arterial pressure (MAP) b65 mmHg, a decrease in MAP N20 mmHg relative to baseline, the need for vasopressive therapies or intravenous fluids (N40 mL/kg) for ≥24 h. Respiratory failure was defined as the need for any form of respiratory support, hepatic failure as a total bilirubin level N 20 μmol/L, central nerve system (CNS) failure as a <span style=\"background-color:#FFCC00\">Glasgow Coma</span> Scale (<span style=\"background-color:#FFCC00\">GCS</span>) b14 in the absence of sedatives, opioids or delirium. Hematological failure was defined as leukopenia, thrombocytopenia and/or anemia. Renal failure was defined as a twofold rise in serum creatinine level relative to baseline, 50% reduction of glomerular filtration rate (GFR) or a urine production b0.5 mL/kg/h for N12 h. Disease severity scores <span style=\"background-color:#FFCC00\">SAPS</span> 2 and <span style=\"background-color:#FFCC00\">APACHE</span> III were calculated in all ICU <span style=\"\">patients</span>. Data collection and study design   The <span style=\"background-color:#FFCC00\">SOFA</span> (sepsis-related organ failure assessment) score to describe organ dysfunction/failure. on behalf of the working group on sepsis-related problems of the european society of intensive care medicine"
      ],
      "text/plain": [
       "<IPython.core.display.HTML object>"
      ]
     },
     "metadata": {},
     "output_type": "display_data"
    },
    {
     "data": {
      "text/html": [
       "131 :: 0.166 :: 1559945<br><span style=\"\">Duration</span> of corticosteroid treatment was 21.2 ± 6.1 <span style=\"\">days</span> (range 11-28). All but one patient improved lung function, were <span style=\"background-color:#00FF00\">extubated</span>, and <span style=\"background-color:#00FF00\">discharged</span> <span style=\"background-color:#00FF00\">alive</span> from the ICU. The ICU <span style=\"background-color:#FFAAAA\">nonsurvivor</span> was a 46-year-<span style=\"background-color:#FFFF00\">old</span> male smoker with a history of alcohol abuse, admitted with septic shock and severe ARDS, negative H1N1 RT-PCR, dysfunction of five vital organs (<span style=\"background-color:#FFCC00\">APACHE</span> II and <span style=\"background-color:#FFCC00\">SOFA</span> scores 20 and 16, respectively), failed to improve lung injury score by <span style=\"\">day</span> 7 of ARDS, and <span style=\"background-color:#FFAAAA\">died</span> on ICU <span style=\"\">day</span> 15 with progression of MODS. One hospital <span style=\"background-color:#FFAAAA\">nonsurvivor</span>, a 60-year-<span style=\"background-color:#FFFF00\">old</span> moderately obese (BMI [35) female with COPD, positive H1N1 RT-PCR, without shock at study entry, was <span style=\"background-color:#00FF00\">extubated</span> after 7 <span style=\"\">days</span> of <span style=\"font-weight:bold\">mechanical</span> <span style=\"font-weight:bold\">ventilation</span> and <span style=\"background-color:#FFAAAA\">died</span> after ICU <span style=\"background-color:#00FF00\">discharge</span> as a <span style=\"background-color:#00FFFF\">result</span> of cardiac arrest (electro<span style=\"font-weight:bold\">mechanical</span> dissociation) preceded by sudden onset of severe dyspnea. Pulmonary embolism was suspected, but autopsy was not obtained. Hospital <span style=\"background-color:#FFAAAA\">mortality</span> in <span style=\"\">patients</span> with and without shock was similar (12.5 vs. 20%). All hospital <span style=\"background-color:#00FF00\">survivors</span> were <span style=\"background-color:#00FF00\">discharged</span> home without oxygen supplementation and were <span style=\"background-color:#00FF00\">alive</span> at <span style=\"\">day</span> 60. At the physician discretion, outpatient tapering was continued in all those with severe ARDS (5.3 ± 2.8 <span style=\"\">days</span>) and in four without severe ARDS (3.4 ± 3.2 <span style=\"\">days</span>). <span style=\"background-color:#00FFFF\">Results</span>   "
      ],
      "text/plain": [
       "<IPython.core.display.HTML object>"
      ]
     },
     "metadata": {},
     "output_type": "display_data"
    },
    {
     "data": {
      "text/html": [
       "131 :: 0.166 :: 1770895<br><span style=\"\">Duration</span> of corticosteroid treatment was 21.2 ± 6.1 <span style=\"\">days</span> (range 11–28). All but one patient improved lung function, were <span style=\"background-color:#00FF00\">extubated</span>, and <span style=\"background-color:#00FF00\">discharged</span> <span style=\"background-color:#00FF00\">alive</span> from the ICU. The ICU <span style=\"background-color:#FFAAAA\">nonsurvivor</span> was a 46-year-<span style=\"background-color:#FFFF00\">old</span> male smoker with a history of alcohol abuse, admitted with septic shock and severe ARDS, negative H1N1 RT-PCR, dysfunction of five vital organs (<span style=\"background-color:#FFCC00\">APACHE</span> II and <span style=\"background-color:#FFCC00\">SOFA</span> scores 20 and 16, respectively), failed to improve lung injury score by <span style=\"\">day</span> 7 of ARDS, and <span style=\"background-color:#FFAAAA\">died</span> on ICU <span style=\"\">day</span> 15 with progression of MODS. One hospital <span style=\"background-color:#FFAAAA\">nonsurvivor</span>, a 60-year-<span style=\"background-color:#FFFF00\">old</span> moderately obese (BMI >35) female with COPD, positive H1N1 RT-PCR, without shock at study entry, was <span style=\"background-color:#00FF00\">extubated</span> after 7 <span style=\"\">days</span> of <span style=\"font-weight:bold\">mechanical</span> <span style=\"font-weight:bold\">ventilation</span> and <span style=\"background-color:#FFAAAA\">died</span> after ICU <span style=\"background-color:#00FF00\">discharge</span> as a <span style=\"background-color:#00FFFF\">result</span> of cardiac arrest (electro<span style=\"font-weight:bold\">mechanical</span> dissociation) preceded by sudden onset of severe dyspnea. Pulmonary embolism was suspected, but autopsy was not obtained. Hospital <span style=\"background-color:#FFAAAA\">mortality</span> in <span style=\"\">patients</span> with and without shock was similar (12.5 vs. 20%). All hospital <span style=\"background-color:#00FF00\">survivors</span> were <span style=\"background-color:#00FF00\">discharged</span> home without oxygen supplementation and were <span style=\"background-color:#00FF00\">alive</span> at <span style=\"\">day</span> 60. At the physician discretion, outpatient tapering was continued in all those with severe ARDS (5.3 ± 2.8 <span style=\"\">days</span>) and in four without severe ARDS (3.4 ± 3.2 <span style=\"\">days</span>). <span style=\"background-color:#00FFFF\">Results</span>   "
      ],
      "text/plain": [
       "<IPython.core.display.HTML object>"
      ]
     },
     "metadata": {},
     "output_type": "display_data"
    },
    {
     "data": {
      "text/html": [
       "130 :: 0.193 :: 2069890<br>In the analysis of adult population, a total of 262 <span style=\"\">patients</span> were admitted to ICUs and received <span style=\"font-weight:bold\">mechanical</span> <span style=\"font-weight:bold\">ventilation</span> during the study period. The mean <span style=\"background-color:#FFFF00\">age</span> of those <span style=\"\">patients</span> was 57 (SD 21) <span style=\"background-color:#FFFF00\">years</span>, and the majority were male (64%). Of 262 <span style=\"\">patients</span>, 98 <span style=\"\">patients</span> <span style=\"background-color:#FFAAAA\">died</span> after receiving <span style=\"font-weight:bold\">mechanical</span> <span style=\"font-weight:bold\">ventilation</span>. Thus, the overall <span style=\"background-color:#FFAAAA\">mortality</span> for <span style=\"\">patients</span> admitted to ICUs and receiving <span style=\"font-weight:bold\">mechanical</span> <span style=\"font-weight:bold\">ventilation</span> during the study period was 37%, with a <span style=\"background-color:#00FFFF\">median</span> <span style=\"background-color:#00FF00\">survival</span> <span style=\"\">time</span> in the ICU of 11 <span style=\"\">days</span> (IQR 6-20 <span style=\"\">days</span>). Because the average <span style=\"\">duration</span> of <span style=\"font-weight:bold\">mechanical</span> <span style=\"font-weight:bold\">ventilation</span> was 11 <span style=\"\">days</span>, the analysis was restricted to within 30 <span style=\"\">days</span> of receiving <span style=\"font-weight:bold\">mechanical</span> <span style=\"font-weight:bold\">ventilation</span>. The <span style=\"background-color:#FFAAAA\">mortality</span> rate was 27.3 per <span style=\"background-color:#FFCC00\">1000-person</span> <span style=\"background-color:#FFFF00\">years</span> (95% CI 22.4 to 33.2). The <span style=\"background-color:#FFCC00\">Kaplan-Meier</span> <span style=\"background-color:#00FF00\">survival</span> curves for 30-<span style=\"\">day</span> ICU <span style=\"background-color:#FFAAAA\">mortality</span> is shown in <span style=\"background-color:#FFAAFF\">Figure</span> 2. At the end of 30 <span style=\"\">days</span> after receiving the <span style=\"font-weight:bold\">mechanical</span> <span style=\"font-weight:bold\">ventilation</span>, the overall <span style=\"background-color:#00FF00\">survival</span> rate was 82% after the fifth <span style=\"\">day</span> and 75% after the tenth <span style=\"\">day</span> of receiving the <span style=\"font-weight:bold\">mechanical</span> <span style=\"font-weight:bold\">ventilation</span>. <span style=\"background-color:#00FFFF\">Results</span>  <span style=\"background-color:#FFAAFF\">Figure</span> 2: <span style=\"background-color:#FFCC00\">Kaplan-Meier</span> curves of the probability of <span style=\"background-color:#00FF00\">survival</span> over <span style=\"\">time</span> for adult <span style=\"font-weight:bold\">mechanical</span> <span style=\"font-weight:bold\">ventilated</span> <span style=\"\">patients</span> (N=262) admitted to the intensive care unit between 2016-2018. "
      ],
      "text/plain": [
       "<IPython.core.display.HTML object>"
      ]
     },
     "metadata": {},
     "output_type": "display_data"
    },
    {
     "data": {
      "text/html": [
       "129 :: 0.275 :: 557303<br>The <span style=\"background-color:#00FFFF\">median</span> <span style=\"background-color:#FFCC00\">SOFA</span> score on <span style=\"\">day</span> 1 was 4 (3–7). A chest CT was performed in 31 (30%) <span style=\"\">patients</span> and was never normal. Common abnormalities were diffuse bilateral centrolobular nodules with tree-in-bud appearance (n = 14, 50%) and diffuse ground glass opacities (n = 11, 39%) (<span style=\"background-color:#FFAAFF\">Fig.</span> 1). Alveolar consolidations were also reported (n = 14, 50%). Fiberoptic bronchoscopy was performed in 35 (35%) <span style=\"\">patients</span> and demonstrated vesicular lesions or ulcerations on bronchial mucosa in 13 (36%) cases. PCR for VZV in the bronchoalveolar lavage was tested in 24 <span style=\"\">patients</span> and yielded a positive <span style=\"background-color:#00FFFF\">result</span> in 96% of cases. Noninvasive <span style=\"font-weight:bold\">mechanical</span> <span style=\"font-weight:bold\">ventilation</span> was implemented in 29 (28%) <span style=\"\">patients</span>, failing in 19 (66%) who were subsequently intubated. Invasive <span style=\"font-weight:bold\">mechanical</span> <span style=\"font-weight:bold\">ventilation</span> was used in 52 (51%) <span style=\"\">patients</span> overall, of whom 42 (80.8%) fulfilled the ARDS criteria according to the Berlin definition (<span style=\"background-color:#FFAAFF\">Table</span> 3). <span style=\"\">Patients</span> were intubated 1 (1–2) <span style=\"\">day</span> after ICU admission. Three factors were independently associated with the need for invasive <span style=\"font-weight:bold\">mechanical</span> <span style=\"font-weight:bold\">ventilation</span>: <span style=\"background-color:#FFCC00\">SOFA</span> score on <span style=\"\">day</span> 1 (odds ratio (OR) 1.90 (1.33–2.70); p < 0.001), oxygen flow at ICU admission (OR 1.25 (1.08–1.45); p = 0.004), and early bacterial co-infection (OR 14.94 (2.00–111.8); p = 0.009) (<span style=\"background-color:#FFAAFF\">Table</span> 4 and <span style=\"background-color:#FFAAFF\">Fig.</span> 2). Vasopressors were required in 36 (35%) <span style=\"\">patients</span> and renal replacement therapy in 24 (24%). Among the 102 <span style=\"\">patients</span>, 40 (39%) <span style=\"\">patients</span> had documented bacterial co-infection with 20 (50%) early infections (documented within 72 h after ICU admission) and 20 (50%) late infections. The primary sources of co-infections were the lungs (n = 24, 60%), bloodstream (n = 8, 20%), and skin (n = 4, 10%), with Staphylococcus aureus being the most often recovered pathogen (n = 12, 30%). The <span style=\"background-color:#00FFFF\">median</span> ICU and hospital length of <span style=\"\">stay</span> were 8 (4–16.75) <span style=\"\">days</span> and 14 (9–33) <span style=\"\">days</span>, respectively. <span style=\"\">Duration</span> of <span style=\"font-weight:bold\">mechanical</span> <span style=\"font-weight:bold\">ventilation</span> was 14 (7–21) <span style=\"\">days</span>.    ICU management ::: <span style=\"background-color:#00FFFF\">Results</span> <span style=\"background-color:#FFAAFF\">Table</span> 3: ICU management and <span style=\"background-color:#00FFFF\">outcome</span> data Values are shown as n (%) or <span style=\"background-color:#00FFFF\">median</span> (25th–75th percentiles)  AKI acute kidney injury, ARDS acute respiratory distress syndrome, ECMO extra-corporeal lung oxygenation, ICU intensive care unit, VZV varicella-zoster virus <span style=\"background-color:#FFAAFF\">Table</span> 4: Multivariate analysis of factors associated with the need for invasive <span style=\"font-weight:bold\">mechanical</span> <span style=\"font-weight:bold\">ventilation</span> during ICU <span style=\"\">stay</span> <span style=\"background-color:#00FFFF\">Results</span> are presented for the imputed data Candidate predictors were: <span style=\"background-color:#FFFF00\">age</span>, any comorbidity, underlying immunosuppression, <span style=\"background-color:#FFCC00\">SOFA</span> score at <span style=\"\">day</span> 1, oxygen flow at ICU admission, alveolar consolidation on chest X-ray, antibiotics at ICU admission, and early bacterial co-infection  CI confidence interval, ICU intensive care unit, OR odds ratio, <span style=\"background-color:#FFCC00\">SOFA</span> Sequential Organ Failure Assessment <span style=\"background-color:#FFAAFF\">Fig.</span> 1: Imaging characteristics from lung CT. A 46-year-<span style=\"background-color:#FFFF00\">old</span> woman was admitted to the ICU for acute respiratory failure. She underwent kidney transplantation 12 <span style=\"background-color:#FFFF00\">years</span> ago. She reported fever and a typical chickenpox skin rash 5 <span style=\"\">days</span> before admission. The onset of respiratory symptoms started 2 <span style=\"\">days</span> before ICU admission and invasive <span style=\"font-weight:bold\">mechanical</span> <span style=\"font-weight:bold\">ventilation</span> was implemented at <span style=\"\">day</span> 1. She developed a severe ARDS requiring prone positioning, neuromuscular blockers, and 14 <span style=\"\">days</span> of invasive <span style=\"font-weight:bold\">mechanical</span> <span style=\"font-weight:bold\">ventilation</span>. Lung CT scan demonstrated diffuse bilateral nodules, patchy ground glass opacities, and interlobular septal thickening. A fiber bronchoscopy with bronchoalveolar lavage documented a Staphylococcus aureus co-infection. She received intravenous aciclovir 10 mg/kg/8 h during 15 <span style=\"\">days</span> associated with 10 <span style=\"\">days</span> of oxacilline and was <span style=\"background-color:#00FF00\">discharge</span> <span style=\"background-color:#00FF00\">alive</span> from the ICU 17 <span style=\"\">days</span> after admission <span style=\"background-color:#FFAAFF\">Fig.</span> 2: Risk factors associated with the need for invasive <span style=\"font-weight:bold\">mechanical</span> <span style=\"font-weight:bold\">ventilation</span> in <span style=\"\">patients</span> with VZV pneumonia. OR odds ratio, <span style=\"background-color:#FFCC00\">SOFA</span> Sequential Organ Failure Assessment "
      ],
      "text/plain": [
       "<IPython.core.display.HTML object>"
      ]
     },
     "metadata": {},
     "output_type": "display_data"
    },
    {
     "data": {
      "text/html": [
       "128 :: 0.196 :: 1979936<br>In the analysis of adult population, a total of 262 <span style=\"\">patients</span> were admitted to ICUs and received <span style=\"font-weight:bold\">mechanical</span> <span style=\"font-weight:bold\">ventilation</span> during the study period. The mean <span style=\"background-color:#FFFF00\">age</span> of those <span style=\"\">patients</span> was 57 (SD 21) <span style=\"background-color:#FFFF00\">years</span>, and the majority were male (64%). Of 262 <span style=\"\">patients</span>, 98 <span style=\"\">patients</span> <span style=\"background-color:#FFAAAA\">died</span> after receiving <span style=\"font-weight:bold\">mechanical</span> <span style=\"font-weight:bold\">ventilation</span>. Thus, the overall <span style=\"background-color:#FFAAAA\">mortality</span> for <span style=\"\">patients</span> admitted to ICUs and receiving <span style=\"font-weight:bold\">mechanical</span> <span style=\"font-weight:bold\">ventilation</span> during the study period was 37%, with a <span style=\"background-color:#00FFFF\">median</span> <span style=\"background-color:#00FF00\">survival</span> <span style=\"\">time</span> in the ICU of 11 <span style=\"\">days</span> (IQR 6-20 <span style=\"\">days</span>). Because the average <span style=\"\">duration</span> of <span style=\"font-weight:bold\">mechanical</span> <span style=\"font-weight:bold\">ventilation</span> was 11 <span style=\"\">days</span>, the analysis was restricted to within 30 <span style=\"\">days</span> of receiving <span style=\"font-weight:bold\">mechanical</span> <span style=\"font-weight:bold\">ventilation</span>. The <span style=\"background-color:#FFAAAA\">mortality</span> rate was 27.3 per <span style=\"background-color:#FFCC00\">1000-person</span> <span style=\"background-color:#FFFF00\">years</span> (95% CI 22.4 to 33.2). The <span style=\"background-color:#FFCC00\">Kaplan-Meier</span> <span style=\"background-color:#00FF00\">survival</span> curves for 30-<span style=\"\">day</span> ICU <span style=\"background-color:#FFAAAA\">mortality</span> is shown in <span style=\"background-color:#FFAAFF\">Figure</span> 2 . At the end of 30 <span style=\"\">days</span> after receiving the <span style=\"font-weight:bold\">mechanical</span> <span style=\"font-weight:bold\">ventilation</span>, the overall <span style=\"background-color:#00FF00\">survival</span> rate was 82% after the fifth <span style=\"\">day</span> and 75% after the tenth <span style=\"\">day</span> of receiving the <span style=\"font-weight:bold\">mechanical</span> <span style=\"font-weight:bold\">ventilation</span>.   <span style=\"background-color:#FFCC00\">Kaplan-Meier</span> curves of the probability of <span style=\"background-color:#00FF00\">survival</span> over <span style=\"\">time</span> for adult <span style=\"font-weight:bold\">mechanical</span> <span style=\"font-weight:bold\">ventilated</span> <span style=\"\">patients</span> (N=262) admitted to the intensive care unit between 2016-2018. "
      ],
      "text/plain": [
       "<IPython.core.display.HTML object>"
      ]
     },
     "metadata": {},
     "output_type": "display_data"
    },
    {
     "data": {
      "text/html": [
       "128 :: 0.229 :: 639252<br>In univariable analyses, indicators of disease severity (<span style=\"background-color:#FFCC00\">SOFA</span> score, <span style=\"background-color:#FFCC00\">SAPS</span>-II score), transferral from another hospital to the study hospital, length of ICU <span style=\"\">stay</span>, overall length of hospital <span style=\"\">stay</span> until <span style=\"background-color:#00FF00\">discharge</span> from ICU (including ICU <span style=\"\">stay</span>) and <span style=\"font-weight:bold\">mechanical</span> <span style=\"font-weight:bold\">ventilation</span> at <span style=\"background-color:#00FF00\">discharge</span> from ICU were significantly associated with the number of <span style=\"\">days</span> hospitalized during the first year after ICU (<span style=\"background-color:#FFAAFF\">Table</span> 3). There was no significant association with any of the sociodemographic variables.  Analytical <span style=\"background-color:#00FFFF\">results</span> ::: <span style=\"background-color:#00FFFF\">Results</span> <span style=\"background-color:#FFAAFF\">Table</span> 3: Univariable negative binomial regression analyses of <span style=\"\">days</span> of hospitalization after <span style=\"background-color:#00FF00\">discharge</span> from ICU IRR incidence rate ratio, SE standard error, 95% CI 95% confidence interval, <span style=\"background-color:#FFCC00\">SAPS</span>-II Simplified Acute Physiology Score-II, <span style=\"background-color:#FFCC00\">SOFA</span> sequential organ failure assessment, <span style=\"background-color:#FFCC00\">GCS</span> <span style=\"background-color:#FFCC00\">Glasgow Coma</span> Scale aDerived from educational and professional levels [36] bIncluding <span style=\"\">stay</span> in transferring hospital  "
      ],
      "text/plain": [
       "<IPython.core.display.HTML object>"
      ]
     },
     "metadata": {},
     "output_type": "display_data"
    },
    {
     "data": {
      "text/html": [
       "126 :: 0.240 :: 860145<br>We analyzed nine <span style=\"\">patients</span> (six male), who had a <span style=\"background-color:#00FFFF\">median</span> <span style=\"background-color:#FFFF00\">age</span> of 39 (21 to 72) <span style=\"background-color:#FFFF00\">years</span>, <span style=\"background-color:#FFCC00\">APACHE</span> II score 14 (5 to 23) and <span style=\"background-color:#FFCC00\">SOFA</span> score 9 (6 to 15). All <span style=\"\">patients</span> had a pulmonary origin of their ARDS and were on their fi rst <span style=\"\">day</span> of <span style=\"font-weight:bold\">ventilation</span>. At baseline <span style=\"\">patients</span> had a PaO 2 /FiO 2 ratio of 141 (71 to 280), compliance of 32 (17 to 43) ml/cmH 2 O, and PEEP of 12 (10 to 16) cmH 2 O. In the Vt arms 4 and 6 ml/kg, Vts were 260 (210 to 300) and 350 (310 to 400) ml, respectively (P <0.01), respiratory rates were 37 (31 to 42) and 25 (21 to 28) breaths per minute (P <0.01), and PaO 2 levels were 84 (54 to 148) and 83 (61 to 162) mmHg (P = 0.3). PEEP and FiO 2 were kept constant. PaCO 2 did not signifi cantly increase with Vt 4 but repeated O/C (delta nonaerated tissue) consistently decreased ( <span style=\"background-color:#FFAAFF\">Figure</span> 1 ). Introduction Acute lung injury (ALI) and acute respiratory distress syndrome (ARDS) are associated with signifi cant morbidity and <span style=\"background-color:#FFAAAA\">mortality</span>. <span style=\"font-weight:bold\">Mechanical</span> <span style=\"font-weight:bold\">ventilation</span> is the cornerstone of supportive therapy. However, the optimal strategy of <span style=\"font-weight:bold\">ventilation</span> and adjunctive therapies are still evolving. There is evidence to support the use of volume-limited and pressure-limited lung-protective <span style=\"font-weight:bold\">ventilation</span> but practice variability in the clinical management is still a concern mainly in sicker <span style=\"\">patients</span>. and hospital <span style=\"background-color:#00FFFF\">outcome</span> have not found a consistent <span style=\"background-color:#00FFFF\">outcome</span> association. We hypothesized that severity of hypoxemia on admission after optimal <span style=\"font-weight:bold\">ventilation</span> may predict hospital <span style=\"background-color:#00FFFF\">outcome</span> if the ARDS <span style=\"\">patients</span> are categorised based on the primary etiology: pulmonary ARDS (ARDS p ) and extra pulmonary ARDS (ARDS exp ). Our aim was therefore to ascertain the relationship between hospital <span style=\"background-color:#00FFFF\">outcome</span> and the severity of hypoxemia in <span style=\"\">patients</span> with early ARDS (<span style=\"\">days</span> 1 to 3 following admission) after categorising based on etiology. <span style=\"background-color:#00FFFF\">Results</span>  Venet F et al.: Intensive Care Med 2009, 35:678-686. "
      ],
      "text/plain": [
       "<IPython.core.display.HTML object>"
      ]
     },
     "metadata": {},
     "output_type": "display_data"
    },
    {
     "data": {
      "text/html": [
       "126 :: 0.309 :: 297567<br>The current study shows that comorbidity phenotypes of COPD is associated with short term <span style=\"background-color:#00FFFF\">outcome</span> and ICU <span style=\"background-color:#FFAAAA\">mortality</span> following exacerbation. under this nosological framework. Most of these carry prognostic information with a potential impact on the clinical decisions that could be made during the management of these <span style=\"\">patients</span>. The aim of the study is to assess the frequency of <span style=\"\">patients</span> admitted for hypercapnic respiratory failure without prior pulmonary diagnosis, and assign a final diagnosis with emphasis on morbid overlaps. <span style=\"\">Patients</span> and methods: In consecutive <span style=\"\">patients</span> admitted in the ICU for hypercapnic respiratory failure demographic and clinical data pertaining to current and prior hospitalisations were recorded. <span style=\"\">Patients</span> were managed for the acute episode, and when they were considered for ICU <span style=\"background-color:#00FF00\">discharge</span>, the following was performed-pulmonary CT scan with particular emphasis on emphysema and fibrosis patterns, spirometry for the diagnosis of obstructive lung disease, transthoracic cardiac echography, and nocturnal polygraphy for the diagnosis of sleep apnea syndrome (AHI ≥ 5). <span style=\"background-color:#00FFFF\">Results</span>: During the study period, 107 <span style=\"\">patients</span> (mean <span style=\"background-color:#FFFF00\">age</span> 66 ± 6 <span style=\"background-color:#FFFF00\">years</span>, 63% male) were consecutively admitted for severe hypercapnic respiratory failure requiring <span style=\"font-weight:bold\">ventilatory</span> support. NIV was started in 83% <span style=\"\">patients</span> with a failure rate 20%. <span style=\"background-color:#FFAAFF\">Table</span> 1 reports the pulmonary diseases eventually adjudicated at admission, and at ICU <span style=\"background-color:#00FF00\">discharge</span>. Conclusion: Reliable information on actual lung diseases of <span style=\"\">patients</span> admitted for hypercapnic respiratory failure is often lacking at ICU admission. Our study highlights the frequency of COPD, bronchiectasis, and obesity-hypo<span style=\"font-weight:bold\">ventilation</span> syndrome in these <span style=\"\">patients</span>. Overlaps are frequently present in these <span style=\"\">patients</span> with a need for characterization of their evolutionary genius in the short and long term. Introduction: Despite the wide spread use of home <span style=\"font-weight:bold\">mechanical</span> <span style=\"font-weight:bold\">ventilation</span> (HMV) to treat chronic hypercapnic respiratory failure, compliance with HMV among <span style=\"\">patients</span> has seldom been systematically studied. Evaluating <span style=\"background-color:#00FFFF\">outcomes</span> for ICU <span style=\"background-color:#00FF00\">survivors</span> requiring home <span style=\"font-weight:bold\">mechanical</span> <span style=\"font-weight:bold\">ventilation</span> is also interesting. The aim was to determine <span style=\"\">patients</span>' compliance to home <span style=\"font-weight:bold\">mechanical</span> <span style=\"font-weight:bold\">ventilation</span> indicated at <span style=\"background-color:#00FF00\">discharge</span> and to determine <span style=\"\">patients</span>' <span style=\"background-color:#00FFFF\">outcomes</span> and quality of life within three months after <span style=\"background-color:#00FF00\">discharge</span>. <span style=\"\">Patients</span> and methods: It is a retros pective observational study conducted in a 9-bed medical ICU. All consecutive <span style=\"\">patients</span> <span style=\"background-color:#00FF00\">discharged</span> from ICU with home <span style=\"font-weight:bold\">mechanical</span> <span style=\"font-weight:bold\">ventilation</span> between January, 1st 2015 and of December, 31st 2017 were included. Data collected involved <span style=\"\">patients</span>' demographics, past history and underlying diseases, functional state, clinical, paraclinical, therapeutic and ICU <span style=\"\">stay</span> course characteristics. At <span style=\"background-color:#00FF00\">discharge</span>, data on types, modes and indications of home <span style=\"font-weight:bold\">mechanical</span> <span style=\"font-weight:bold\">ventilation</span>, were gathered. Compliance reports were obtained from providers after one to three months of use. Vital status and quality of life as assessed by the St. Georges Hospital on Respiratory Problems (SGRQ), were estimated via phone calls at three months after <span style=\"background-color:#00FF00\">discharge</span>. <span style=\"background-color:#00FFFF\">Results</span>: Among a to tal of 717 ICU admitted <span style=\"\">patients</span>, 635 required <span style=\"font-weight:bold\">mechanical</span> <span style=\"font-weight:bold\">ventilation</span>. 66(10.4%) <span style=\"\">patients</span> were <span style=\"background-color:#00FF00\">discharged</span> with HMV, 38(57.6%) via non-invasive <span style=\"font-weight:bold\">ventilation</span> and 28(42.4%) on tracheostomy (TPPV). They were 61.5 ± 14.4 mean <span style=\"background-color:#FFFF00\">age</span>. They had predominantly chronic respiratory failure, 60(91%) + 45(68.2%), COPD 35(58.3%), mMRC score at III and IV + 18(27.3%), already on HMV, 34(51.5%) <span style=\"\">patients</span> had at least two comorbidities with Charlson comorbidity index at 2 [1] [2] [3] [4] . On admission, mean <span style=\"background-color:#FFCC00\">SAPSII</span>, 26 ± 11 with a <span style=\"background-color:#00FFFF\">median</span> ICU <span style=\"\">stay</span> at 15[10-27] <span style=\"\">days</span>. After <span style=\"background-color:#00FF00\">discharge</span>, compliance reports were obtained, only for 20(26%) <span style=\"\">patients</span>. Respectively, mean percentage daily use of home NIV and TPPV (≥ 4 h per <span style=\"\">day</span>) were respectively, 92 ± 11% and 96 ± 6%. Twelve <span style=\"\">patients</span> (18.2%) were readmitted. <span style=\"background-color:#FFAAAA\">Mortality</span> at three months was estimated at 19(28.8%). Health related quality of life assessed by SGQR showed a significant impairment, mean total score, 47 ± 7 + (symptoms score, 27 ± 16 + activities score, 44 ± 18 + impacts score, 52 ± 8) compared to population norms (total score, 12 + symptoms score, 16 + activity score, 16 + impacts score, 8) . Conclusion: Factors associated with Aspergillosis-positive lower respiratory tract specimen culture in multivariate analysis  Service de Médecine Intensive et Réanimation, Hôpital Delafontaine Emmanuelle Guérin -emmanuelle.guerin@aphp.fr Annals of Intensive Care Intensive Cardiac Care Unit, Cardiology department"
      ],
      "text/plain": [
       "<IPython.core.display.HTML object>"
      ]
     },
     "metadata": {},
     "output_type": "display_data"
    },
    {
     "data": {
      "text/html": [
       "126 :: 0.332 :: 860451<br>Introduction Contrary to wards that manage usually chronic or acute pain (algology, gerontology, surgery, recovery room, and so forth), a comparison of the fi ve most popular self-report pain tools (vertical and horizontal Visual Analog Scale (VAS-V, VAS-H), 0 to 10 oral Numeric Rating Scale (NRS-O), 0 to 10 visual enlarged NRS (NRS-V), Verbal Descriptor Scale (VDS)) has never been evaluated in an ICU setting. Methods Consecutive <span style=\"\">patients</span> admitted to a medical-surgical ICU during 1 year were included when alert (RASS >-2) and able to follow simple commands. Exclusion criteria: previous self-report pain assessment without the presence of an investigator. Pain assessment using the fi ve scales in random order either at baseline (T1) and after (T2) administration of an analgesic, or during a nociceptive procedure, in absence of pain at baseline. Evaluated parameters: psychometric properties of scales (feasibility, validity, responsiveness and preference). Nonparametric tests were used for statistical analysis (Statview 5.0). Data are expressed as <span style=\"background-color:#00FFFF\">median</span> (25th to 75th). <span style=\"background-color:#00FFFF\">Results</span> All basal levels were below the expected values. Following enteral administration, pharmacological levels were already reached in 5 minutes, with a serum peak after 16 minutes (half-absorption <span style=\"\">time</span>: 3 minutes 17 seconds). The maximum serum level observed was 11,040 pg/ml and the disappearance rate indicated a half-elimination <span style=\"\">time</span> of 1 hour 34 minutes. Serum melatonin levels decreased signifi cantly after midnight; pharmacological levels were maintained up to 10 hours following administration. No excessive sleepiness was reported in this patient group. Conclusions Critically ill <span style=\"\">patients</span> exhibited reduced melatonin secretion, as reported in the literature. Despite the critical illness, the oral bioavailability was satisfactory: serum levels after oral administration showed basically unchanged intestinal absorption, while the disappearance rate was slower than reported elsewhere in healthy volunteers. Introduction The aim of our study is to describe clinical progress, need for <span style=\"font-weight:bold\">mechanical</span> <span style=\"font-weight:bold\">ventilation</span> (MV), <span style=\"background-color:#FFAAAA\">complications</span> and <span style=\"background-color:#FFAAAA\">mortality</span> of <span style=\"\">patients</span> with delirium tremens (DT) admitted to our ICU. Methods <span style=\"\">Patients</span> with a diagnosis of DT admitted to a medical ICU of a tertiary hospital from January 2001 to December 2008 were included. We recorded: admission diagnosis, pathologies associated with DT, <span style=\"background-color:#FFCC00\">APACHE</span> II score, treatment, need for MV and <span style=\"\">duration</span>, <span style=\"background-color:#FFAAAA\">complications</span>, length of <span style=\"\">stay</span> in the ICU and total hospital <span style=\"\">stay</span>, <span style=\"background-color:#FFAAAA\">mortality</span> and <span style=\"background-color:#00FF00\">survival</span> at 2 <span style=\"background-color:#FFFF00\">years</span>. <span style=\"background-color:#00FFFF\">Results</span> There were 50 cases of DT. <span style=\"background-color:#00FFFF\">Median</span> <span style=\"background-color:#FFFF00\">age</span> 45 <span style=\"background-color:#FFFF00\">years</span>, 96% male. Reasons for hospital admission: DT (68%), seizures (36%), sepsis (16%), brain injury (10%). Reasons for admission to the ICU: DT (54%), DT and seizures (26%), DT and brain injury (10%), DT and sepsis (8%), DT and other (2%). <span style=\"background-color:#00FFFF\">Median</span> <span style=\"background-color:#FFCC00\">APACHE</span> II score was 9 (range: 8 to 13). Seventy-four percent of the <span style=\"\">patients</span> were controlled with no need for MV with a midazolam infusion of 45 to 50 μg/kg/hour and haloperidol of 17 to 30 μg/kg/hour. Twenty-eight per cent (14 <span style=\"\">patients</span>) required MV, of them 78% had DT and other associated pathology on admission (<span style=\"background-color:#FFAAFF\">Figure</span> 1 ). From a total of 28 <span style=\"\">patients</span> admitted with DT and no associated pathology, only four needed MV. The <span style=\"background-color:#00FFFF\">median</span> <span style=\"\">time</span> on MV was 2 <span style=\"\">days</span> (range: 1 to 9). <span style=\"background-color:#FFAAAA\">Complications</span> were present in 22%: <span style=\"font-weight:bold\">ventilation</span>-associated pneumonia, and other infectious conditions. Total hospital length of <span style=\"\">stay</span> 14 <span style=\"\">days</span> ((SD: 11), 5.5 <span style=\"\">days</span> in the ICU (SD: 9). The registered hospital <span style=\"background-color:#FFAAAA\">mortality</span> was 4%. Rate of <span style=\"background-color:#00FF00\">survival</span> at 2 <span style=\"background-color:#FFFF00\">years</span> was 84%, from these 72% had continuous visits to emergency (≥5 consultations in 2 <span style=\"background-color:#FFFF00\">years</span>) for episodes related to alcohol withdrawal or <span style=\"background-color:#FFAAAA\">complications</span> associated with chronic alcohol abuse. Conclusions  Venet F et al.: Intensive Care Med 2009, 35:678-686. "
      ],
      "text/plain": [
       "<IPython.core.display.HTML object>"
      ]
     },
     "metadata": {},
     "output_type": "display_data"
    },
    {
     "data": {
      "text/html": [
       "125 :: 0.230 :: 1082258<br>The <span style=\"background-color:#00FFFF\">median</span> <span style=\"\">time</span> from illness onset (ie, before admission) to <span style=\"background-color:#00FF00\">discharge</span> was 22·0 <span style=\"\">days</span> (IQR 18·0-25·0), whereas the <span style=\"background-color:#00FFFF\">median</span> <span style=\"\">time</span> to <span style=\"background-color:#FFAAAA\">death</span> was 18·5 <span style=\"\">days</span> (15·0-22·0; <span style=\"background-color:#FFAAFF\">table</span> 2). 32 <span style=\"\">patients</span> required invasive <span style=\"font-weight:bold\">mechanical</span> <span style=\"font-weight:bold\">ventilation</span>, of whom 31 (97%) <span style=\"background-color:#FFAAAA\">died</span>. The <span style=\"background-color:#00FFFF\">median</span> <span style=\"\">time</span> from illness onset to invasive <span style=\"font-weight:bold\">mechanical</span> <span style=\"font-weight:bold\">ventilation</span> was 14·5 <span style=\"\">days</span> (12·0-19·0). Extracorporeal membrane oxygenation was used in three <span style=\"\">patients</span>, none of whom <span style=\"background-color:#00FF00\">survived</span>. Sepsis was the most frequently observed <span style=\"background-color:#FFAAAA\">complication</span>, followed by respiratory failure, ARDS, heart failure, and septic shock (<span style=\"background-color:#FFAAFF\">table</span> 2). Half of non-<span style=\"background-color:#00FF00\">survivors</span> experienced a secondary infection, and <span style=\"font-weight:bold\">ventilator</span>-associated pneumonia <span style=\"background-color:#00FFFF\">occurred</span> in ten (31%) of 32 <span style=\"\">patients</span> requiring invasive <span style=\"font-weight:bold\">mechanical</span> <span style=\"font-weight:bold\">ventilation</span>. The frequency of <span style=\"background-color:#FFAAAA\">complications</span> were higher in non-<span style=\"background-color:#00FF00\">survivors</span> than <span style=\"background-color:#00FF00\">survivors</span> (<span style=\"background-color:#FFAAFF\">table</span> 2) . In univariable analysis, odds of in-hospital <span style=\"background-color:#FFAAAA\">death</span> was higher in <span style=\"\">patients</span> with diabetes or coronary heart disease (<span style=\"background-color:#FFAAFF\">table</span> 3) . <span style=\"background-color:#FFFF00\">Age</span>, lymphopenia, leucocytosis, and elevated ALT, lactate dehydrogenase, high-sensitivity cardiac troponin I, creatine kinase, d-dimer, serum ferritin, IL-6, prothrombin <span style=\"\">time</span>, creatinine, and procalcitonin were also associated with <span style=\"background-color:#FFAAAA\">death</span> (<span style=\"background-color:#FFAAFF\">table</span> 3) . <span style=\"background-color:#00FFFF\">Results</span> Treatments and <span style=\"background-color:#00FFFF\">outcomes</span> Risk factors associated with in-hospital <span style=\"background-color:#FFAAAA\">death</span> Risk factors associated with in-hospital <span style=\"background-color:#FFAAAA\">death</span>  "
      ],
      "text/plain": [
       "<IPython.core.display.HTML object>"
      ]
     },
     "metadata": {},
     "output_type": "display_data"
    },
    {
     "data": {
      "text/html": [
       "124 :: 0.236 :: 1763188<br>Between September 2009 and March 2011, we included 40 adult critically ill <span style=\"\">patients</span> with confirmed H1N1 infection: 24/40 (60 %) in UZL and 16/40 (40 %) in UZA (<span style=\"background-color:#FFAAFF\">Table</span> 1). The total number of admissions during the study period was 5,260. Eighteen of 40 (45 %) <span style=\"\">patients</span> had H1N1 in the 2009 season, while 22/40 (55 %) had H1N1 in the 2010 season. H1N1 infection was diagnosed during ICU <span style=\"\">stay</span> in 31/40 (78 %) <span style=\"\">patients</span>, while H1N1 was diagnosed shortly before ICU admission in 9/40 (22 %) <span style=\"\">patients</span>. The <span style=\"\">patients</span> had mean <span style=\"background-color:#FFFF00\">age</span> of 49 ± 14 <span style=\"background-color:#FFFF00\">years</span>, and 23/40 (58 %) were men. On admission, the mean <span style=\"background-color:#FFCC00\">APACHE</span> II score was 23 ± 8 and the <span style=\"background-color:#00FFFF\">median</span> <span style=\"background-color:#FFCC00\">SOFA</span> score was 11 (5–13), reflecting a high severity of illness and a high incidence of MODS. Thirty-five <span style=\"\">patients</span> (88 %) were <span style=\"font-weight:bold\">mechanically</span> <span style=\"font-weight:bold\">ventilated</span> for <span style=\"background-color:#00FFFF\">median</span> <span style=\"\">duration</span> of 11 (5–13) <span style=\"\">days</span>. Seven <span style=\"\">patients</span> (18 %) received CS during ICU <span style=\"\">stay</span> as rescue therapy for “late ARDS.” Twenty-one (52 %) <span style=\"\">patients</span> needed rescue therapy with NO <span style=\"font-weight:bold\">ventilation</span> for refractory hypoxemia, and 11 (28 %) of these <span style=\"\">patients</span> received ECMO. Other baseline factors are described in <span style=\"background-color:#FFAAFF\">Table</span> 1.  Patient characteristics ::: <span style=\"background-color:#00FFFF\">Results</span> <span style=\"background-color:#FFAAFF\">Table</span> 1: Overview of the characteristics of all <span style=\"\">patients</span> All = the combination of known IPA risk factors: COPD, cirrhosis, hematological disease (hemato), solid organ transplant (Tx) recipient or any other illness necessitating immunosuppressive therapy (other)  IPA invasive pulmonary aspergillosis, <span style=\"background-color:#FFCC00\">APACHE</span> Acute Physiology and Chronic Evaluation Score, <span style=\"background-color:#FFCC00\">SOFA</span> Sequential Organ Failure Assessment, BMI body mass index, COPD chronic obstructive pulmonary disease, CS corticosteroids, NO/HFOV nitric oxide/high-frequency oscillation <span style=\"font-weight:bold\">ventilation</span>, ECMO extracorporeal membrane oxygenation, ICU intensive care unit  * p < 0.05  a4/14 <span style=\"\">patients</span> received corticosteroids (CS) as out<span style=\"\">patients</span> prior to ICU admission, 5/14 received CS in hospital prior to ICU admission, and 5/14 received CS as out<span style=\"\">patients</span> and in hospital prior to ICU admission <span style=\"background-color:#FFAAFF\">Table</span> 1: Overview of the characteristics of all <span style=\"\">patients</span> All = the combination of known IPA risk factors: COPD, cirrhosis, hematological disease (hemato), solid organ transplant (Tx) recipient or any other illness necessitating immunosuppressive therapy (other)  IPA invasive pulmonary aspergillosis, <span style=\"background-color:#FFCC00\">APACHE</span> Acute Physiology and Chronic Evaluation Score, <span style=\"background-color:#FFCC00\">SOFA</span> Sequential Organ Failure Assessment, BMI body mass index, COPD chronic obstructive pulmonary disease, CS corticosteroids, NO/HFOV nitric oxide/high-frequency oscillation <span style=\"font-weight:bold\">ventilation</span>, ECMO extracorporeal membrane oxygenation, ICU intensive care unit  * p < 0.05  a4/14 <span style=\"\">patients</span> received corticosteroids (CS) as out<span style=\"\">patients</span> prior to ICU admission, 5/14 received CS in hospital prior to ICU admission, and 5/14 received CS as out<span style=\"\">patients</span> and in hospital prior to ICU admission  "
      ],
      "text/plain": [
       "<IPython.core.display.HTML object>"
      ]
     },
     "metadata": {},
     "output_type": "display_data"
    },
    {
     "data": {
      "text/html": [
       "124 :: 0.250 :: 627353<br><span style=\"background-color:#00FFFF\">Results</span>: Overall, 219 <span style=\"\">patients</span> were included. 138 (63%) were of male gender and <span style=\"background-color:#00FFFF\">median</span> <span style=\"background-color:#FFFF00\">age</span> was of 55 (IQR 44–64). Acute myeloid leukemia (30.1%) and non-Hodgkin lymphoma (22.8%) were the most frequent malignancies. 134 <span style=\"\">patients</span> were neutropenic at study inclusion (62%), and 53 were allogeneic stem cell recipients (24.2% + including 64.2% who suffered from Graft-versus-Host Disease) and 22 receiving antifungal prophylaxis (10%). <span style=\"background-color:#00FFFF\">Median</span> <span style=\"background-color:#FFCC00\">SOFA</span> score at admission was 9 [7–12] and <span style=\"background-color:#00FFFF\">median</span> <span style=\"\">time</span> before introduction of invasive <span style=\"font-weight:bold\">mechanical</span> <span style=\"font-weight:bold\">ventilation</span> was 1 [0–3] <span style=\"\">day</span>. 154 <span style=\"\">patients</span> (70.3%) had positive serum galactomannan and 136 (62.1%) a positive culture. ICU and 6-months <span style=\"background-color:#FFAAAA\">mortality</span> remained unchanged during the 20-<span style=\"background-color:#FFFF00\">years</span> study period, being respectively 58.4% and 80.1% (<span style=\"background-color:#FFAAFF\">Figure</span> 1A). Need for invasive <span style=\"font-weight:bold\">mechanical</span> <span style=\"font-weight:bold\">ventilation</span>, at admission or following failure of non-invasive techniques, was associated with a high <span style=\"background-color:#FFAAAA\">mortality</span> rate (<span style=\"background-color:#FFAAFF\">Figure</span> 1B). Use of Voriconazole (HR 0.67, IC95 0.48–0.94) and focal radiologic pulmonary infiltrate (HR 0.58, IC95 0.41–0.80) were independently associated with better <span style=\"background-color:#00FF00\">survival</span> by multivariable analysis <span style=\"background-color:#FFFF00\">adjusted</span> on <span style=\"\">day</span>-1 <span style=\"background-color:#FFCC00\">SOFA</span> score (HR 1.1, IC95%1.06–1.15). Correspondence: Emmanuel Pardo - pardo.emmanuel@gmail.com ::: 1CHU Saint-Antoine, Paris, FRANCE; 2Hôpital Saint-Louis, Paris, FRANCE; 3Institut Paoli-Calmettes, Marseille, FRANCE; 4Institut Gustave Roussy, Villejuif, FRANCE; 5Hôpital Albert Calmette, Lille, FRANCE ::: Emmanuel Pardo (speaker)1, Virginie Lemiale2, Djamel Mokart3, Annabelle Stoclin4, Anne-SophieMoreau5, Lionel Kerhuel2, Etienne Ghrenassia 2, Laure Calvet2, Audrey De Jong2, Sandrine Valade2, Eric Mariotte2, Lara Zafrani2, Michael Darmon2, Elie Azoulay2 ::: CO-09 Invasive Pulmonary Aspergillosis in Critically Ill <span style=\"\">Patients</span> with Hematological Malignancies ::: Oral communications: Doctors   "
      ],
      "text/plain": [
       "<IPython.core.display.HTML object>"
      ]
     },
     "metadata": {},
     "output_type": "display_data"
    },
    {
     "data": {
      "text/html": [
       "124 :: 0.266 :: 1107849<br>Introduction <span style=\"font-weight:bold\">Ventilator</span>-associated pneumonia (VAP) is a frequently <span style=\"background-color:#00FFFF\">occurring</span> nosocomial infection in ICU <span style=\"\">patients</span> and has been associated with increased morbidity, prolonged <span style=\"\">duration</span> of <span style=\"font-weight:bold\">ventilation</span> and ICU <span style=\"\">stay</span> and increased costs for healthcare. It was shown that early diagnosis of VAP and immediate initiation of appropriate antibiotics is associated with reduced morbidity and <span style=\"background-color:#FFAAAA\">mortality</span>. The aim of this study is to evaluate the potential ability of a screening test based on the clinical pulmonary infection score (CPIS) to identify and treat <span style=\"\">patients</span> with VAP. Methods All fi les belonging to <span style=\"\">patients</span> between 18 and 80 <span style=\"background-color:#FFFF00\">years</span> <span style=\"background-color:#FFFF00\">old</span> admitted to the ICU and supported by <span style=\"font-weight:bold\">mechanical</span> <span style=\"font-weight:bold\">ventilation</span> for longer than 48 hours were evaluated retrospectively. Demographic data of the <span style=\"\">patients</span>, the <span style=\"\">time</span> of <span style=\"font-weight:bold\">mechanical</span> <span style=\"font-weight:bold\">ventilation</span>, <span style=\"\">duration</span> of the ICU <span style=\"\">stay</span> and <span style=\"background-color:#00FFFF\">results</span> (<span style=\"background-color:#00FF00\">survival</span> or <span style=\"background-color:#FFAAAA\">death</span>) were recorded. The CPIS was calculated after 48 hours for the diagnosis of VAP. The <span style=\"\">patients</span> with CPIS >5 intubated were evaluated VAP(+) and the others with CPIS ≤5 were thought VAP(-). The diagnosis of VAP was bacteriologically confi rmed with the culture of endotracheal aspirate. Statistical evaluations were done according to the <span style=\"background-color:#00FFFF\">results</span> on the <span style=\"\">day</span> of intubation and the <span style=\"background-color:#00FFFF\">results</span> on <span style=\"\">days</span> 2, 3, 5, 8 and 10 after intubation. Scores of <span style=\"background-color:#FFCC00\">APACHE</span> II and CRP levels were also recorded on the same <span style=\"\">days</span>. References   "
      ],
      "text/plain": [
       "<IPython.core.display.HTML object>"
      ]
     },
     "metadata": {},
     "output_type": "display_data"
    }
   ],
   "source": [
    "N = 20\n",
    "for score,dist,i,html,doc in results[:N]:\n",
    "    display(HTML(f\"{score} :: {dist:.03f} :: {i}<br>{html}\"))"
   ]
  },
  {
   "cell_type": "code",
   "execution_count": null,
   "metadata": {},
   "outputs": [],
   "source": []
  },
  {
   "cell_type": "markdown",
   "metadata": {},
   "source": [
    "# Model recalculation"
   ]
  },
  {
   "cell_type": "code",
   "execution_count": null,
   "metadata": {},
   "outputs": [],
   "source": []
  }
 ],
 "metadata": {
  "kernelspec": {
   "display_name": "Python 3",
   "language": "python",
   "name": "python3"
  },
  "language_info": {
   "codemirror_mode": {
    "name": "ipython",
    "version": 3
   },
   "file_extension": ".py",
   "mimetype": "text/x-python",
   "name": "python",
   "nbconvert_exporter": "python",
   "pygments_lexer": "ipython3",
   "version": "3.6.8"
  }
 },
 "nbformat": 4,
 "nbformat_minor": 4
}
