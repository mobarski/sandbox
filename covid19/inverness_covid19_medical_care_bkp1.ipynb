{
 "cells": [
  {
   "cell_type": "markdown",
   "metadata": {},
   "source": [
    "### Idea"
   ]
  },
  {
   "cell_type": "markdown",
   "metadata": {},
   "source": [
    "### Inverness"
   ]
  },
  {
   "cell_type": "code",
   "execution_count": 3,
   "metadata": {},
   "outputs": [
    {
     "name": "stderr",
     "output_type": "stream",
     "text": [
      "load done in 12.12 seconds\n"
     ]
    }
   ],
   "source": [
    "import inverness\n",
    "model = inverness.Model('model_all/').load()"
   ]
  },
  {
   "cell_type": "markdown",
   "metadata": {},
   "source": [
    "### Standard imports"
   ]
  },
  {
   "cell_type": "code",
   "execution_count": 4,
   "metadata": {},
   "outputs": [],
   "source": [
    "from IPython.core.display import display, HTML\n",
    "from matplotlib import pyplot as plt\n",
    "from tqdm import tqdm\n",
    "import pandas as pd\n",
    "import re\n",
    "pd.set_option('display.max_rows', 100)"
   ]
  },
  {
   "cell_type": "markdown",
   "metadata": {},
   "source": [
    "### Helper functions\n"
   ]
  },
  {
   "cell_type": "code",
   "execution_count": 104,
   "metadata": {},
   "outputs": [
    {
     "data": {
      "text/plain": [
       "'<b>this</b> <mark style=\"background-color: #FFFF00\">is</mark> a test of <b>this</b> function'"
      ]
     },
     "execution_count": 104,
     "metadata": {},
     "output_type": "execute_result"
    }
   ],
   "source": [
    "def score_text(text, criteria):\n",
    "    \"\"\"\"\"\"\n",
    "    total = 0\n",
    "    value = 1\n",
    "    for c in criteria:\n",
    "        if type(c) in (int,float):\n",
    "            value = c\n",
    "        else:\n",
    "            c = c.replace('_',r'\\b')\n",
    "            matches = re.findall(c,text,re.I)\n",
    "            total += value if matches else 0\n",
    "            #total += value*len(matches)\n",
    "    return total\n",
    "\n",
    "\n",
    "def score_results(i_d_lists, criteria, mark=None):\n",
    "    \"\"\"\"\"\"\n",
    "    results = []\n",
    "    for i,d in zip(*i_d_lists):\n",
    "        doc = model.get_doc(i)\n",
    "        text = model.doc_to_text(doc).replace('\\n',' ').replace('\\r',' ')\n",
    "        s = score_text(text, criteria)\n",
    "        text = highlight(text, criteria, mark)\n",
    "        rec = s,d,i,text,doc\n",
    "        results += [rec]\n",
    "    results.sort(key=lambda x:(-x[0],x[1]))\n",
    "    return results\n",
    "\n",
    "\n",
    "def score_queries(queries, criteria, N=50):\n",
    "    \"\"\"\"\"\"\n",
    "    by_score = []\n",
    "    for query in queries:\n",
    "        q = model.text_to_dense(query)\n",
    "        i_d = model.dense_ann_query(q,N)\n",
    "        results = score_results(i_d, criteria)\n",
    "        score = agg_results(results)\n",
    "        by_score += [(score,query)]\n",
    "    by_score.sort()\n",
    "    return by_score\n",
    "\n",
    "# TODO styles: mark_color/bold/text_color\n",
    "def highlight(text, criteria, mark=None):\n",
    "    \"\"\"\"\"\"\n",
    "    group_id = 0\n",
    "    for c in criteria:\n",
    "        if type(c) in (int,float):\n",
    "            group_id += 1\n",
    "        else:\n",
    "            c = c.replace('_',r'\\b')\n",
    "            c = f'({c}\\\\w*)'\n",
    "            if mark and group_id in mark:\n",
    "                text = re.sub(c, '<mark style=\"background-color: #FFFF00\">\\\\1</mark>', text, flags=re.I)\n",
    "            else:\n",
    "                text = re.sub(c, '<b>\\\\1</b>', text, flags=re.I)\n",
    "    return text\n",
    "\n",
    "\n",
    "# L2 score\n",
    "def agg_results(results):\n",
    "    \"\"\"\"\"\"\n",
    "    scores = [x[0] for x in results]\n",
    "    return sum([x*x for x in scores])**0.5\n",
    "\n",
    "\n",
    "# TODO break title into multiple lines\n",
    "def plot_results(results,title=''):\n",
    "    \"\"\"\"\"\"\n",
    "    scores = [x[0] for x in results]\n",
    "    scores.sort(reverse=True)\n",
    "    plt.plot(scores)\n",
    "    if title: plt.title(title)\n",
    "    score = agg_results(results)\n",
    "    plt.figtext(0.4, 1, f\"L2 score: {score:.02f}\")\n",
    "    plt.show()\n",
    "\n",
    "# TEST\n",
    "highlight(\"this is a test of this function\",['thi',5,'_is'],mark=[1])"
   ]
  },
  {
   "cell_type": "markdown",
   "metadata": {},
   "source": [
    "# Outcomes data for COVID-19 after mechanical ventilation adjusted for age"
   ]
  },
  {
   "cell_type": "markdown",
   "metadata": {},
   "source": [
    "### Scoring criteria"
   ]
  },
  {
   "cell_type": "code",
   "execution_count": 83,
   "metadata": {},
   "outputs": [],
   "source": [
    "criteria = [\n",
    "    5,'mechanical','ventilat',\n",
    "    2,'adjust','_age','years','_old',\n",
    "    2,'surviv','discharge','extubate','died','dead','death','mortality','Kaplan-Meier',\n",
    "    1,'duration','_day','\\d+ patients',\n",
    "    2,'figure','table',\n",
    "]\n",
    "\n",
    "# TODO criteria display style\n",
    "mark = [2,3]"
   ]
  },
  {
   "cell_type": "markdown",
   "metadata": {},
   "source": [
    "### Query selection\n"
   ]
  },
  {
   "cell_type": "code",
   "execution_count": 78,
   "metadata": {},
   "outputs": [
    {
     "name": "stdout",
     "output_type": "stream",
     "text": [
      "     44.31 -- results after mechnical ventilation discharged dead died survived survivors adjusted age years old\n",
      "     44.31 -- results after mechnical ventilation discharged dead died survived survivors adjusted age years old\n",
      "     94.86 -- results after mechnical ventilation discharged died survived extubated adjusted age\n",
      "    104.51 -- results after mechnical ventilation discharged dead died\n",
      "    110.89 -- results outcomes after mechnical ventilation discharged died survived extubated adjusted age\n",
      "    116.46 -- results after mechnical ventilation discharged died survived extubated adjusted\n",
      "    119.23 -- results after mechnical ventilation discharged died survived survivors extubated adjusted\n",
      "    119.60 -- outcomes after mechnical ventilation discharged died survived extubated adjusted\n",
      "    123.27 -- results outcomes after mechnical ventilation discharged died survived extubated adjusted\n"
     ]
    }
   ],
   "source": [
    "queries = [\n",
    "        'results after mechnical ventilation discharged dead died',\n",
    "        'results after mechnical ventilation discharged dead died survived survivors adjusted age years old',\n",
    "        'results after mechnical ventilation discharged died survived survivors extubated adjusted',\n",
    "        'results after mechnical ventilation discharged dead died survived survivors adjusted age years old',\n",
    "        'results after mechnical ventilation discharged died survived extubated adjusted',\n",
    "        'results after mechnical ventilation discharged died survived extubated adjusted age',\n",
    "        'outcomes after mechnical ventilation discharged died survived extubated adjusted',\n",
    "        'results outcomes after mechnical ventilation discharged died survived extubated adjusted age',\n",
    "        'results outcomes after mechnical ventilation discharged died survived extubated adjusted',\n",
    "]\n",
    "\n",
    "for score,query in score_queries(queries, criteria, 50):\n",
    "    print(f\"{score:10.02f} -- {query}\")"
   ]
  },
  {
   "cell_type": "markdown",
   "metadata": {},
   "source": [
    "### Final query"
   ]
  },
  {
   "cell_type": "code",
   "execution_count": 90,
   "metadata": {},
   "outputs": [],
   "source": [
    "query = 'results outcomes after mechnical ventilation \\n discharged died survived extubated adjusted'"
   ]
  },
  {
   "cell_type": "markdown",
   "metadata": {},
   "source": [
    "### Query the model"
   ]
  },
  {
   "cell_type": "code",
   "execution_count": 107,
   "metadata": {
    "scrolled": true
   },
   "outputs": [
    {
     "data": {
      "image/png": "[encoded data removed]",
      "text/plain": [
       "<Figure size 432x288 with 1 Axes>"
      ]
     },
     "metadata": {
      "needs_background": "light"
     },
     "output_type": "display_data"
    }
   ],
   "source": [
    "K = 50\n",
    "q = model.text_to_dense(query)\n",
    "i_d_lists = model.dense_ann_query(q, K)\n",
    "results = score_results(i_d_lists, criteria, mark)\n",
    "plot_results(results, title=query)"
   ]
  },
  {
   "cell_type": "markdown",
   "metadata": {},
   "source": [
    "### Display results"
   ]
  },
  {
   "cell_type": "code",
   "execution_count": 106,
   "metadata": {
    "scrolled": false
   },
   "outputs": [
    {
     "data": {
      "text/html": [
       "27 :: 0.207 :: 1817665<br>In the analysis of adult population, a total of <b>262 patients</b> were admitted to ICUs and received <b>mechanical</b> <b>ventilation</b> during the study period. The mean <mark style=\"background-color: #FFFF00\">age</mark> of those patients was 57 (SD 21) <mark style=\"background-color: #FFFF00\">years</mark>, and the majority were male (64%). Of <b>262 patients</b>, <b>98 patients</b> <mark style=\"background-color: #FFFF00\">died</mark> after receiving <b>mechanical</b> <b>ventilation</b>. Thus, the overall <mark style=\"background-color: #FFFF00\">mortality</mark> for patients admitted to ICUs and receiving <b>mechanical</b> <b>ventilation</b> during the study period was 37%, with a median <mark style=\"background-color: #FFFF00\">survival</mark> time in the ICU of 11 <b>days</b> (IQR 6-20 <b>days</b>). Because the average <b>duration</b> of <b>mechanical</b> <b>ventilation</b> was 11 <b>days</b>, the analysis was restricted to within 30 <b>days</b> of receiving <b>mechanical</b> <b>ventilation</b>. The <mark style=\"background-color: #FFFF00\">mortality</mark> rate was 27.3 per 1000-person <mark style=\"background-color: #FFFF00\">years</mark> (95% CI 22.4 to 33.2). The <mark style=\"background-color: #FFFF00\">Kaplan-Meier</mark> <mark style=\"background-color: #FFFF00\">survival</mark> curves for 30-<b>day</b> ICU <mark style=\"background-color: #FFFF00\">mortality</mark> is shown in <b>Figure</b> 2. At the end of 30 <b>days</b> after receiving the <b>mechanical</b> <b>ventilation</b>, the overall <mark style=\"background-color: #FFFF00\">survival</mark> rate was 82% after the fifth <b>day</b> and 75% after the tenth <b>day</b> of receiving the <b>mechanical</b> <b>ventilation</b>. Results  <b>Figure</b> 2: <mark style=\"background-color: #FFFF00\">Kaplan-Meier</mark> curves of the probability of <mark style=\"background-color: #FFFF00\">survival</mark> over time for adult <b>mechanical</b> <b>ventilated</b> patients (N=262) admitted to the intensive care unit between 2016-2018. "
      ],
      "text/plain": [
       "<IPython.core.display.HTML object>"
      ]
     },
     "metadata": {},
     "output_type": "display_data"
    },
    {
     "data": {
      "text/html": [
       "27 :: 0.207 :: 1729272<br>In the analysis of adult population, a total of <b>262 patients</b> were admitted to ICUs and received <b>mechanical</b> <b>ventilation</b> during the study period. The mean <mark style=\"background-color: #FFFF00\">age</mark> of those patients was 57 (SD 21) <mark style=\"background-color: #FFFF00\">years</mark>, and the majority were male (64%). Of <b>262 patients</b>, <b>98 patients</b> <mark style=\"background-color: #FFFF00\">died</mark> after receiving <b>mechanical</b> <b>ventilation</b>. Thus, the overall <mark style=\"background-color: #FFFF00\">mortality</mark> for patients admitted to ICUs and receiving <b>mechanical</b> <b>ventilation</b> during the study period was 37%, with a median <mark style=\"background-color: #FFFF00\">survival</mark> time in the ICU of 11 <b>days</b> (IQR 6-20 <b>days</b>). Because the average <b>duration</b> of <b>mechanical</b> <b>ventilation</b> was 11 <b>days</b>, the analysis was restricted to within 30 <b>days</b> of receiving <b>mechanical</b> <b>ventilation</b>. The <mark style=\"background-color: #FFFF00\">mortality</mark> rate was 27.3 per 1000-person <mark style=\"background-color: #FFFF00\">years</mark> (95% CI 22.4 to 33.2). The <mark style=\"background-color: #FFFF00\">Kaplan-Meier</mark> <mark style=\"background-color: #FFFF00\">survival</mark> curves for 30-<b>day</b> ICU <mark style=\"background-color: #FFFF00\">mortality</mark> is shown in <b>Figure</b> 2 . At the end of 30 <b>days</b> after receiving the <b>mechanical</b> <b>ventilation</b>, the overall <mark style=\"background-color: #FFFF00\">survival</mark> rate was 82% after the fifth <b>day</b> and 75% after the tenth <b>day</b> of receiving the <b>mechanical</b> <b>ventilation</b>.   <mark style=\"background-color: #FFFF00\">Kaplan-Meier</mark> curves of the probability of <mark style=\"background-color: #FFFF00\">survival</mark> over time for adult <b>mechanical</b> <b>ventilated</b> patients (N=262) admitted to the intensive care unit between 2016-2018. "
      ],
      "text/plain": [
       "<IPython.core.display.HTML object>"
      ]
     },
     "metadata": {},
     "output_type": "display_data"
    },
    {
     "data": {
      "text/html": [
       "27 :: 0.233 :: 152787<br>The overall ICU <mark style=\"background-color: #FFFF00\">mortality</mark> rate was 74.2 % (n = 23). The median ICU and hospital lengths of stay were 9 (IQR: 4-16) and 12 (IQR: 4-16) <b>days</b>, respectively. The major causes of <mark style=\"background-color: #FFFF00\">death</mark> were hypoxemic respiratory failure (52.2 %) and refractory septic shock (26.1 %). One patient <mark style=\"background-color: #FFFF00\">died</mark> from sudden cardiac arrest after ICU <mark style=\"background-color: #FFFF00\">discharge</mark> but while still in the hospital. Furthermore, one patient <mark style=\"background-color: #FFFF00\">died</mark> within 1 year after <mark style=\"background-color: #FFFF00\">discharge</mark> from the ICU because of septic shock related to an infected wound. Only one patient was lost to follow-up after hospital <mark style=\"background-color: #FFFF00\">discharge</mark>. The SOFA score and Glasgow Coma Scale (GCS) increased markedly over the first 2 weeks in the ICU in the whole cohort, while other parameters of organ function remained largely unchanged (Additional file 3). Compared with those who were <mark style=\"background-color: #FFFF00\">discharged</mark> alive from the ICU, non<mark style=\"background-color: #FFFF00\">survivors</mark> were <mark style=\"background-color: #FFFF00\">older</mark>, had higher APACHE II and SOFA scores on admission to the ICU, and were more likely to require invasive <b>mechanical</b> <b>ventilation</b> and vasopressor therapy and to have been <b>ventilated</b> using highfrequency oscillation (<b>Tables</b> 1 and 2 , and Additional files 1 and 2). Non<mark style=\"background-color: #FFFF00\">survivors</mark> had a persistently low PaO2/FiO 2 throughout the first 2 weeks in the ICU, whereas <mark style=\"background-color: #FFFF00\">survivors</mark> showed a slight increase over time (Fig. 2) . After <mark style=\"background-color: #FFFF00\">adjustment</mark> for the severity of illness and the degree of organ dysfunction, the need for vasopressors was the only independent risk factor for <mark style=\"background-color: #FFFF00\">death</mark> in the ICU (OR 18.33, 95 % confidence interval 1.11-302.1, P 0.04) (Additional file 4). Morbidity and <mark style=\"background-color: #FFFF00\">mortality</mark> Characteristics of patients on admission to the intensive care unit APACHE acute physiology and chronic health evaluation, COPD chronic obstructive pulmonary disease, ICU intensive care unit, IQR interquartile range, NA not applicable, SD standard deviation, SOFA sequential organ failure assessment Box plot representing the time course of PaO2/FiO2 according to ICU outcome. *P < 0.005 compared to <mark style=\"background-color: #FFFF00\">survivors</mark> "
      ],
      "text/plain": [
       "<IPython.core.display.HTML object>"
      ]
     },
     "metadata": {},
     "output_type": "display_data"
    },
    {
     "data": {
      "text/html": [
       "26 :: 0.202 :: 1817668<br>In this analysis, a total of <b>175 patients</b> were admitted to ICUs and received <b>mechanical</b> <b>ventilation</b> during the study period. Most of the patients were below 1 month (89% of the whole population) and 59% were boys. A total of 30 (17%) of this study population <mark style=\"background-color: #FFFF00\">died</mark> after the date of <b>mechanical</b> <b>ventilation</b> with a median <mark style=\"background-color: #FFFF00\">survival</mark> time of 16 <b>days</b> (IQR 7-37 <b>days</b>). The <mark style=\"background-color: #FFFF00\">mortality</mark> rate was 9.9 per 1000-person <mark style=\"background-color: #FFFF00\">years</mark> (95%, CI 6.96 to 14.25). The <mark style=\"background-color: #FFFF00\">Kaplan-Meier</mark> <mark style=\"background-color: #FFFF00\">survival</mark> curves for 30-<b>day</b> ICU <mark style=\"background-color: #FFFF00\">mortality</mark> as shown in <b>Figure</b> 3. The curve shows that by the end of one month, 75% of patients on <b>mechanical</b> <b>ventilation</b> are still alive. The characteristic of the population as demonstrated in <b>Table</b> 3. The main source of the admission of those neonates was labor and delivery by C-section, with the mean gestational week being 32 (SD 5) weeks. Prematurity with respiratory problems (50%) was the main recorded cause of the initiation of <b>mechanical</b> <b>ventilation</b>, followed by respiratory distress syndrome (37%). The majority of admissions to ICUs were premature. Neonates who received <b>mechanical</b> <b>ventilation</b> within the first month of their life and who were born extremely preterm had a high <mark style=\"background-color: #FFFF00\">mortality</mark> rate after the initiation of <b>mechanical</b> <b>ventilation</b>. A total of 169 (96%) of the neonates were intubated in ICU while only 3% had already been intubated before their ICU admission. Variables related to <b>mechanical</b> <b>ventilation</b> parameters on <b>day</b> one of <b>mechanical</b> <b>ventilation</b> are presented in <b>Table</b> 3. For the results of the univariate analysis of factors associated with <mark style=\"background-color: #FFFF00\">mortality</mark> among this population, <b>Table</b> 4 shows that neonates who received <b>mechanical</b> <b>ventilation</b> within the first month of life and who were born extremely preterm had a high <mark style=\"background-color: #FFFF00\">mortality</mark> rate after the initiation of <b>mechanical</b> <b>ventilation</b>. In addition, those neonates who had respiratory distress syndrome as the cause of initiating the <b>mechanical</b> <b>ventilation</b> had a high rate of <mark style=\"background-color: #FFFF00\">mortality</mark>; however, the univariate analysis showed no significant association. Neonates who had congenital anomalies as the cause of receiving <b>mechanical</b> <b>ventilation</b> were more likely to have a lower <mark style=\"background-color: #FFFF00\">survival</mark> rate (OR 13, 95% CI 2.68-62.8). Results <b>Table</b> 3: Demographic, clinical characteristics, and initial <b>ventilator</b> modes of the pediatric patients on the inanition of the <b>mechanical</b> <b>ventilation</b> in the ICU between 2016-2018 (N=175).  <b>Table</b> 3: Demographic, clinical characteristics, and initial <b>ventilator</b> modes of the pediatric patients on the inanition of the <b>mechanical</b> <b>ventilation</b> in the ICU between 2016-2018 (N=175).  <b>Table</b> 4: The univariate analysis of factors associated with <mark style=\"background-color: #FFFF00\">mortality</mark> among adult patients who admitted to ICU and received <b>mechanical</b> <b>ventilation</b> between 2016-2018.  <b>Figure</b> 3: <mark style=\"background-color: #FFFF00\">Kaplan-Meier</mark> curves of the probability of <mark style=\"background-color: #FFFF00\">survival</mark> overtime for pediatric <b>mechanical</b> <b>ventilated</b> patients (N=175) admitted to the intensive care unit between 2016-2108. "
      ],
      "text/plain": [
       "<IPython.core.display.HTML object>"
      ]
     },
     "metadata": {},
     "output_type": "display_data"
    },
    {
     "data": {
      "text/html": [
       "26 :: 0.213 :: 1729275<br>In this analysis, a total of <b>175 patients</b> were admitted to ICUs and received <b>mechanical</b> <b>ventilation</b> during the study period. Most of the patients were below 1 month (89% of the whole population) and 59% were boys. A total of 30 (17%) of this study population <mark style=\"background-color: #FFFF00\">died</mark> after the date of <b>mechanical</b> <b>ventilation</b> with a median <mark style=\"background-color: #FFFF00\">survival</mark> time of 16 <b>days</b> (IQR 7-37 <b>days</b>). The <mark style=\"background-color: #FFFF00\">mortality</mark> rate was 9.9 per 1000-person <mark style=\"background-color: #FFFF00\">years</mark> (95%, CI 6.96 to 14.25). The <mark style=\"background-color: #FFFF00\">Kaplan-Meier</mark> <mark style=\"background-color: #FFFF00\">survival</mark> curves for 30-<b>day</b> ICU <mark style=\"background-color: #FFFF00\">mortality</mark> as shown in <b>Figure</b> 3 . The curve shows that by the end of one month, 75% of patients on <b>mechanical</b> <b>ventilation</b> are still alive. The characteristic of the population as demonstrated in <b>Table</b> 3 . The main source of the admission of those neonates was labor and delivery by C-section, with the mean gestational week being 32 (SD 5) weeks. Prematurity with respiratory problems (50%) was the main recorded cause of the initiation of <b>mechanical</b> <b>ventilation</b>, followed by respiratory distress syndrome (37%). The majority of admissions to ICUs were premature. Neonates who received <b>mechanical</b> <b>ventilation</b> within the first month of their life and who were born extremely preterm had a high <mark style=\"background-color: #FFFF00\">mortality</mark> rate after the initiation of <b>mechanical</b> <b>ventilation</b>. A total of 169 (96%) of the neonates were intubated in ICU while only 3% had already been intubated before their ICU admission. Variables related to <b>mechanical</b> <b>ventilation</b> parameters on <b>day</b> one of <b>mechanical</b> <b>ventilation</b> are presented in <b>Table</b> 3 . For the results of the univariate analysis of factors associated with <mark style=\"background-color: #FFFF00\">mortality</mark> among this population, <b>Table</b> 4 shows that neonates who received <b>mechanical</b> <b>ventilation</b> within the first month of life and who were born extremely preterm had a high <mark style=\"background-color: #FFFF00\">mortality</mark> rate after the initiation of <b>mechanical</b> <b>ventilation</b>. In addition, those neonates who had respiratory distress syndrome as the cause of initiating the <b>mechanical</b> <b>ventilation</b> had a high rate of <mark style=\"background-color: #FFFF00\">mortality</mark>; however, the univariate analysis showed no significant association. Neonates who had congenital anomalies as the cause of receiving <b>mechanical</b> <b>ventilation</b> were more likely to have a lower <mark style=\"background-color: #FFFF00\">survival</mark> rate (OR 13, 95% CI 2.68-62.8).  Demographic Demographic The univariate analysis of factors associated with <mark style=\"background-color: #FFFF00\">mortality</mark> among adult patients who admitted to ICU and received <b>mechanical</b> <b>ventilation</b> between 2016-2018. Values are presented as numbers and percentage (%). CI -confidence interval <mark style=\"background-color: #FFFF00\">mortality</mark>, as 72% such patients <mark style=\"background-color: #FFFF00\">died</mark> in ICUs. <mark style=\"background-color: #FFFF00\">Kaplan-Meier</mark> curves of the probability of <mark style=\"background-color: #FFFF00\">survival</mark> overtime for pediatric <b>mechanical</b> <b>ventilated</b> patients (N=175) admitted to the intensive care unit between 2016-2108. "
      ],
      "text/plain": [
       "<IPython.core.display.HTML object>"
      ]
     },
     "metadata": {},
     "output_type": "display_data"
    },
    {
     "data": {
      "text/html": [
       "24 :: 0.204 :: 1431100<br><b>Duration</b> of corticosteroid treatment was 21.2 ± 6.1 <b>days</b> (range 11-28). All but one patient improved lung function, were <mark style=\"background-color: #FFFF00\">extubated</mark>, and <mark style=\"background-color: #FFFF00\">discharged</mark> alive from the ICU. The ICU non<mark style=\"background-color: #FFFF00\">survivor</mark> was a 46-year-<mark style=\"background-color: #FFFF00\">old</mark> male smoker with a history of alcohol abuse, admitted with septic shock and severe ARDS, negative H1N1 RT-PCR, dysfunction of five vital organs (APACHE II and SOFA scores 20 and 16, respectively), failed to improve lung injury score by <b>day</b> 7 of ARDS, and <mark style=\"background-color: #FFFF00\">died</mark> on ICU <b>day</b> 15 with progression of MODS. One hospital non<mark style=\"background-color: #FFFF00\">survivor</mark>, a 60-year-<mark style=\"background-color: #FFFF00\">old</mark> moderately obese (BMI [35) female with COPD, positive H1N1 RT-PCR, without shock at study entry, was <mark style=\"background-color: #FFFF00\">extubated</mark> after 7 <b>days</b> of <b>mechanical</b> <b>ventilation</b> and <mark style=\"background-color: #FFFF00\">died</mark> after ICU <mark style=\"background-color: #FFFF00\">discharge</mark> as a result of cardiac arrest (electro<b>mechanical</b> dissociation) preceded by sudden onset of severe dyspnea. Pulmonary embolism was suspected, but autopsy was not obtained. Hospital <mark style=\"background-color: #FFFF00\">mortality</mark> in patients with and without shock was similar (12.5 vs. 20%). All hospital <mark style=\"background-color: #FFFF00\">survivors</mark> were <mark style=\"background-color: #FFFF00\">discharged</mark> home without oxygen supplementation and were alive at <b>day</b> 60. At the physician discretion, outpatient tapering was continued in all those with severe ARDS (5.3 ± 2.8 <b>days</b>) and in four without severe ARDS (3.4 ± 3.2 <b>days</b>). Results   "
      ],
      "text/plain": [
       "<IPython.core.display.HTML object>"
      ]
     },
     "metadata": {},
     "output_type": "display_data"
    },
    {
     "data": {
      "text/html": [
       "24 :: 0.204 :: 1617486<br><b>Duration</b> of corticosteroid treatment was 21.2 ± 6.1 <b>days</b> (range 11–28). All but one patient improved lung function, were <mark style=\"background-color: #FFFF00\">extubated</mark>, and <mark style=\"background-color: #FFFF00\">discharged</mark> alive from the ICU. The ICU non<mark style=\"background-color: #FFFF00\">survivor</mark> was a 46-year-<mark style=\"background-color: #FFFF00\">old</mark> male smoker with a history of alcohol abuse, admitted with septic shock and severe ARDS, negative H1N1 RT-PCR, dysfunction of five vital organs (APACHE II and SOFA scores 20 and 16, respectively), failed to improve lung injury score by <b>day</b> 7 of ARDS, and <mark style=\"background-color: #FFFF00\">died</mark> on ICU <b>day</b> 15 with progression of MODS. One hospital non<mark style=\"background-color: #FFFF00\">survivor</mark>, a 60-year-<mark style=\"background-color: #FFFF00\">old</mark> moderately obese (BMI >35) female with COPD, positive H1N1 RT-PCR, without shock at study entry, was <mark style=\"background-color: #FFFF00\">extubated</mark> after 7 <b>days</b> of <b>mechanical</b> <b>ventilation</b> and <mark style=\"background-color: #FFFF00\">died</mark> after ICU <mark style=\"background-color: #FFFF00\">discharge</mark> as a result of cardiac arrest (electro<b>mechanical</b> dissociation) preceded by sudden onset of severe dyspnea. Pulmonary embolism was suspected, but autopsy was not obtained. Hospital <mark style=\"background-color: #FFFF00\">mortality</mark> in patients with and without shock was similar (12.5 vs. 20%). All hospital <mark style=\"background-color: #FFFF00\">survivors</mark> were <mark style=\"background-color: #FFFF00\">discharged</mark> home without oxygen supplementation and were alive at <b>day</b> 60. At the physician discretion, outpatient tapering was continued in all those with severe ARDS (5.3 ± 2.8 <b>days</b>) and in four without severe ARDS (3.4 ± 3.2 <b>days</b>). Results   "
      ],
      "text/plain": [
       "<IPython.core.display.HTML object>"
      ]
     },
     "metadata": {},
     "output_type": "display_data"
    },
    {
     "data": {
      "text/html": [
       "24 :: 0.247 :: 1114333<br>The median time from illness onset (ie, before admission) to <mark style=\"background-color: #FFFF00\">discharge</mark> was 22·0 <b>days</b> (IQR 18·0-25·0), whereas the median time to <mark style=\"background-color: #FFFF00\">death</mark> was 18·5 <b>days</b> (15·0-22·0; <b>table</b> 2). <b>32 patients</b> required invasive <b>mechanical</b> <b>ventilation</b>, of whom 31 (97%) <mark style=\"background-color: #FFFF00\">died</mark>. The median time from illness onset to invasive <b>mechanical</b> <b>ventilation</b> was 14·5 <b>days</b> (12·0-19·0). Extracorporeal membrane oxygenation was used in three patients, none of whom <mark style=\"background-color: #FFFF00\">survived</mark>. Sepsis was the most frequently observed complication, followed by respiratory failure, ARDS, heart failure, and septic shock (<b>table</b> 2). Half of non-<mark style=\"background-color: #FFFF00\">survivors</mark> experienced a secondary infection, and <b>ventilator</b>-associated pneumonia occurred in ten (31%) of <b>32 patients</b> requiring invasive <b>mechanical</b> <b>ventilation</b>. The frequency of complications were higher in non-<mark style=\"background-color: #FFFF00\">survivors</mark> than <mark style=\"background-color: #FFFF00\">survivors</mark> (<b>table</b> 2) . In univariable analysis, odds of in-hospital <mark style=\"background-color: #FFFF00\">death</mark> was higher in patients with diabetes or coronary heart disease (<b>table</b> 3) . <mark style=\"background-color: #FFFF00\">Age</mark>, lymphopenia, leucocytosis, and elevated ALT, lactate dehydrogenase, high-sensitivity cardiac troponin I, creatine kinase, d-dimer, serum ferritin, IL-6, prothrombin time, creatinine, and procalcitonin were also associated with <mark style=\"background-color: #FFFF00\">death</mark> (<b>table</b> 3) . Results Treatments and outcomes Risk factors associated with in-hospital <mark style=\"background-color: #FFFF00\">death</mark> Risk factors associated with in-hospital <mark style=\"background-color: #FFFF00\">death</mark>  "
      ],
      "text/plain": [
       "<IPython.core.display.HTML object>"
      ]
     },
     "metadata": {},
     "output_type": "display_data"
    },
    {
     "data": {
      "text/html": [
       "23 :: 0.196 :: 330000<br>The primary outcome, weaning <b>duration</b>, defined from the first <b>day</b> of randomization to the <b>day</b> the patient was successfully weaned, was shorter with trach collar than with pressure support: 15 versus 19 <b>days</b>. Patients were considered weaning successes when they breathed without <b>ventilator</b> assistance for at least 5 <b>days</b>. A Cox proportional hazards model revealed that the rate of successful weaning was 1.43 times faster with trach collar than with pressure support. <mark style=\"background-color: #FFFF00\">Mortality</mark> was equivalent in the two arms, but, of course, the study was not powered to detect a difference in <mark style=\"background-color: #FFFF00\">mortality</mark>. Of the entire 500 randomized and non-randomized patients, 54 % were alive at 6 months after enrollment and 45 % were alive at 12 months. This <mark style=\"background-color: #FFFF00\">survival</mark> rate is surprisingly high. To put the numbers in perspective, 1-year <mark style=\"background-color: #FFFF00\">survival</mark> in <mark style=\"background-color: #FFFF00\">older</mark> (66 <mark style=\"background-color: #FFFF00\">years</mark>) patients <b>ventilated</b> in an ICU was approximately 40 % [64, 65] . That is, the LTACH patients in the study of Jubran et al., who were <b>ventilated</b> for 67 <b>days</b>, had a 1-year <mark style=\"background-color: #FFFF00\">mortality</mark> comparable to ICU patients who were <b>ventilated</b> for 9 <b>days</b>. Indeed, 72 % of the <b>260 patients</b> who had been weaned by <mark style=\"background-color: #FFFF00\">discharge</mark> were alive at 12 months. Conclusion   Longterm <mark style=\"background-color: #FFFF00\">mortality</mark> and quality of life after prolonged <b>mechanical</b> <b>ventilation</b> <mark style=\"background-color: #FFFF00\">Survival</mark> and quality of life: short-term versus long-term <b>ventilator</b> patients"
      ],
      "text/plain": [
       "<IPython.core.display.HTML object>"
      ]
     },
     "metadata": {},
     "output_type": "display_data"
    },
    {
     "data": {
      "text/html": [
       "23 :: 0.207 :: 485080<br>The primary outcome, weaning <b>duration</b>, defined from the first <b>day</b> of randomization to the <b>day</b> the patient was successfully weaned, was shorter with trach collar than with pressure support: 15 versus 19 <b>days</b>. Patients were considered weaning successes when they breathed without <b>ventilator</b> assistance for at least 5 <b>days</b>. A Cox proportional hazards model revealed that the rate of successful weaning was 1.43 times faster with trach collar than with pressure support. <mark style=\"background-color: #FFFF00\">Mortality</mark> was equivalent in the two arms, but, of course, the study was not powered to detect a difference in <mark style=\"background-color: #FFFF00\">mortality</mark>. Of the entire 500 randomized and non-randomized patients, 54 % were alive at 6 months after enrollment and 45 % were alive at 12 months. This <mark style=\"background-color: #FFFF00\">survival</mark> rate is surprisingly high. To put the numbers in perspective, 1-year <mark style=\"background-color: #FFFF00\">survival</mark> in <mark style=\"background-color: #FFFF00\">older</mark> (66 <mark style=\"background-color: #FFFF00\">years</mark>) patients <b>ventilated</b> in an ICU was approximately 40 % [64, 65]. That is, the LTACH patients in the study of Jubran et al., who were <b>ventilated</b> for 67 <b>days</b>, had a 1-year <mark style=\"background-color: #FFFF00\">mortality</mark> comparable to ICU patients who were <b>ventilated</b> for 9 <b>days</b>. Indeed, 72 % of the <b>260 patients</b> who had been weaned by <mark style=\"background-color: #FFFF00\">discharge</mark> were alive at 12 months. Weaning in long-term acute care hospitals in the United States Hospitals (Martin Tobin, Amal Jubran) ::: Conclusion   Long-term <mark style=\"background-color: #FFFF00\">mortality</mark> and quality of life after prolonged <b>mechanical</b> <b>ventilation</b> <mark style=\"background-color: #FFFF00\">Survival</mark> and quality of life: short-term versus long-term <b>ventilator</b> patients"
      ],
      "text/plain": [
       "<IPython.core.display.HTML object>"
      ]
     },
     "metadata": {},
     "output_type": "display_data"
    }
   ],
   "source": [
    "N = 10\n",
    "for s,d,i,text,doc in results[:N]:\n",
    "    display(HTML(f\"{s} :: {d:.03f} :: {i}<br>{text}\"))"
   ]
  },
  {
   "cell_type": "code",
   "execution_count": null,
   "metadata": {},
   "outputs": [],
   "source": []
  }
 ],
 "metadata": {
  "kernelspec": {
   "display_name": "Python 3",
   "language": "python",
   "name": "python3"
  },
  "language_info": {
   "codemirror_mode": {
    "name": "ipython",
    "version": 3
   },
   "file_extension": ".py",
   "mimetype": "text/x-python",
   "name": "python",
   "nbconvert_exporter": "python",
   "pygments_lexer": "ipython3",
   "version": "3.6.8"
  }
 },
 "nbformat": 4,
 "nbformat_minor": 4
}
