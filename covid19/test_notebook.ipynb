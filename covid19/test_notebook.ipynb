{
 "cells": [
  {
   "cell_type": "code",
   "execution_count": 98,
   "metadata": {},
   "outputs": [],
   "source": [
    "from IPython.core.display import display, HTML\n",
    "from tqdm import tqdm\n",
    "import pandas as pd\n",
    "import re\n",
    "pd.set_option('display.max_rows', 100)"
   ]
  },
  {
   "cell_type": "code",
   "execution_count": 2,
   "metadata": {},
   "outputs": [
    {
     "name": "stderr",
     "output_type": "stream",
     "text": [
      "load done in 12.05 seconds\n"
     ]
    }
   ],
   "source": [
    "from horacy import HoracyModel\n",
    "model = HoracyModel('model_all/').load()"
   ]
  },
  {
   "cell_type": "code",
   "execution_count": 150,
   "metadata": {},
   "outputs": [],
   "source": [
    "def score_text(text, criteria):\n",
    "    total = 0\n",
    "    value = 1\n",
    "    for c in criteria:\n",
    "        if type(c) in (int,float):\n",
    "            value = c\n",
    "        else:\n",
    "            c = c.replace('_',r'\\b')\n",
    "            total += value if re.findall(c,text,re.I) else 0\n",
    "    return total\n",
    "\n",
    "def score_results(i_d_lists, criteria):\n",
    "    results = []\n",
    "    for i,d in zip(*i_d_lists):\n",
    "        doc = model.get_doc(i)\n",
    "        text = model.doc_to_text(doc).replace('\\n',' ').replace('\\r',' ')\n",
    "        s = score_text(text, criteria)\n",
    "        text = highlight(text, criteria)\n",
    "        rec = s,d,i,text,doc\n",
    "        results += [rec]\n",
    "    results.sort(key=lambda x:(-x[0],x[1]))\n",
    "    return results\n",
    "\n",
    "def highlight(text, criteria, before='<b>', after='</b>'):\n",
    "    for c in criteria:\n",
    "        if type(c) in (int,float):\n",
    "            continue\n",
    "        else:\n",
    "            c = '('+c.replace('_',r'\\b')+'\\w*)'\n",
    "            text = re.sub(c, before+r'\\1'+after, text, flags=re.I)\n",
    "    return text\n",
    "\n",
    "\n",
    "def agg_scores(results):\n",
    "    scores = [x[0] for x in results]\n",
    "    scores.sort(reverse=True)\n",
    "    return max(scores),sum(scores),sum([x*x for x in scores])/len(scores),min(scores)\n"
   ]
  },
  {
   "cell_type": "markdown",
   "metadata": {},
   "source": [
    "# Outcomes data for COVID-19 after mechanical ventilation adjusted for age"
   ]
  },
  {
   "cell_type": "code",
   "execution_count": 157,
   "metadata": {},
   "outputs": [
    {
     "name": "stdout",
     "output_type": "stream",
     "text": [
      "(21, 625, 169.26, 2)\n",
      "(10, 266, 31.88, 2)\n",
      "(21, 673, 201.18, 1)\n",
      "(10, 266, 31.88, 2)\n",
      "(21, 683, 198.06, 6)\n",
      "(21, 483, 120.7, 1)\n",
      "(21, 674, 204.48, 1)\n",
      "(21, 580, 163.56, 2)\n",
      "(21, 690, 212.76, 1)\n"
     ]
    }
   ],
   "source": [
    "criteria = [5,'mechanical','ventilat',2,'_age','years','_old',1,'\\d+ patients','adjust','surviv','discharge','extubate','died','dead','death','mortality','duration','_day','probability','Kaplan-Meier','curve','figure','table']\n",
    "criteria = [5,'mechanical','ventilat',2,'adjust','_age','years','_old',1,'\\d+ patients','surviv','discharge','extubate','died','dead','death','mortality','duration','_day','figure','table']\n",
    "\n",
    "for query in [\n",
    "        'results after mechnical ventilation discharged dead died',\n",
    "        'results after mechnical ventilation discharged dead died survived survivors adjusted age years old',\n",
    "        'results after mechnical ventilation discharged died survived survivors extubated adjusted',\n",
    "        'results after mechnical ventilation discharged dead died survived survivors adjusted age years old',\n",
    "        'results after mechnical ventilation discharged died survived extubated adjusted',\n",
    "        'results after mechnical ventilation discharged died survived extubated adjusted age',\n",
    "        'outcomes after mechnical ventilation discharged died survived extubated adjusted',\n",
    "        'results outcomes after mechnical ventilation discharged died survived extubated adjusted age',\n",
    "        'results outcomes after mechnical ventilation discharged died survived extubated adjusted',\n",
    "]:\n",
    "    q = model.text_to_dense(query)\n",
    "    i_d = model.dense_ann_query(q,50)\n",
    "    results = score_results(i_d, criteria)\n",
    "    scores = agg_scores(results)\n",
    "    print(scores)\n"
   ]
  },
  {
   "cell_type": "code",
   "execution_count": 158,
   "metadata": {
    "scrolled": true
   },
   "outputs": [
    {
     "name": "stdout",
     "output_type": "stream",
     "text": [
      "(21, 580, 163.56, 2)\n"
     ]
    },
    {
     "data": {
      "text/html": [
       "21 :: 0.2231106162071228 :: 1817665<br>In the analysis of adult population, a total of <b>262 patients</b> were admitted to ICUs and received <b>mechanical</b> <b>ventilation</b> during the study period. The mean <b>age</b> of those patients was 57 (SD 21) <b>years</b>, and the majority were male (64%). Of <b>262 patients</b>, <b>98 patients</b> <b>died</b> after receiving <b>mechanical</b> <b>ventilation</b>. Thus, the overall <b>mortality</b> for patients admitted to ICUs and receiving <b>mechanical</b> <b>ventilation</b> during the study period was 37%, with a median <b>survival</b> time in the ICU of 11 <b>days</b> (IQR 6-20 <b>days</b>). Because the average <b>duration</b> of <b>mechanical</b> <b>ventilation</b> was 11 <b>days</b>, the analysis was restricted to within 30 <b>days</b> of receiving <b>mechanical</b> <b>ventilation</b>. The <b>mortality</b> rate was 27.3 per 1000-person <b>years</b> (95% CI 22.4 to 33.2). The Kaplan-Meier <b>survival</b> curves for 30-<b>day</b> ICU <b>mortality</b> is shown in <b>Figure</b> 2. At the end of 30 <b>days</b> after receiving the <b>mechanical</b> <b>ventilation</b>, the overall <b>survival</b> rate was 82% after the fifth <b>day</b> and 75% after the tenth <b>day</b> of receiving the <b>mechanical</b> <b>ventilation</b>. Results  <b>Figure</b> 2: Kaplan-Meier curves of the probability of <b>survival</b> over time for adult <b>mechanical</b> <b>ventilated</b> patients (N=262) admitted to the intensive care unit between 2016-2018. "
      ],
      "text/plain": [
       "<IPython.core.display.HTML object>"
      ]
     },
     "metadata": {},
     "output_type": "display_data"
    },
    {
     "data": {
      "text/html": [
       "21 :: 0.22461026906967163 :: 1729272<br>In the analysis of adult population, a total of <b>262 patients</b> were admitted to ICUs and received <b>mechanical</b> <b>ventilation</b> during the study period. The mean <b>age</b> of those patients was 57 (SD 21) <b>years</b>, and the majority were male (64%). Of <b>262 patients</b>, <b>98 patients</b> <b>died</b> after receiving <b>mechanical</b> <b>ventilation</b>. Thus, the overall <b>mortality</b> for patients admitted to ICUs and receiving <b>mechanical</b> <b>ventilation</b> during the study period was 37%, with a median <b>survival</b> time in the ICU of 11 <b>days</b> (IQR 6-20 <b>days</b>). Because the average <b>duration</b> of <b>mechanical</b> <b>ventilation</b> was 11 <b>days</b>, the analysis was restricted to within 30 <b>days</b> of receiving <b>mechanical</b> <b>ventilation</b>. The <b>mortality</b> rate was 27.3 per 1000-person <b>years</b> (95% CI 22.4 to 33.2). The Kaplan-Meier <b>survival</b> curves for 30-<b>day</b> ICU <b>mortality</b> is shown in <b>Figure</b> 2 . At the end of 30 <b>days</b> after receiving the <b>mechanical</b> <b>ventilation</b>, the overall <b>survival</b> rate was 82% after the fifth <b>day</b> and 75% after the tenth <b>day</b> of receiving the <b>mechanical</b> <b>ventilation</b>.   Kaplan-Meier curves of the probability of <b>survival</b> over time for adult <b>mechanical</b> <b>ventilated</b> patients (N=262) admitted to the intensive care unit between 2016-2018. "
      ],
      "text/plain": [
       "<IPython.core.display.HTML object>"
      ]
     },
     "metadata": {},
     "output_type": "display_data"
    },
    {
     "data": {
      "text/html": [
       "21 :: 0.25707387924194336 :: 1720937<br>Among the <b>30 patients</b> analyzed in the present study, 60% and 73.3% showed positive results of albumin and blood on dipstick tests; 50% of patients showed a random urine ACR or PCR more than 100 mg/g Cr. Moreover, 26.7% of patients showed AKI, and the mean and median <b>durations</b> from symptom onset were 18 and 16 <b>days</b>, respectively. <b>Old</b> <b>age</b> was a predictor of the occurrence of AKI even after <b>adjustment</b> for comorbidities and the application of a <b>mechanical</b> <b>ventilator</b>. <b>Mechanical</b> <b>ventilator</b>, CRRT, and ECMO therapies were applied to 12 (40%), 3 (10%), and 5 (16.7%) patients, respectively. A total of <b>5 patients</b> <b>died</b> of septic shock progression and multiple organ failure. Diabetes, the occurrence of AKI, and the application of CRRT were risk factors predicting <b>mortality</b> in the univariate analysis. DISCUSSION   "
      ],
      "text/plain": [
       "<IPython.core.display.HTML object>"
      ]
     },
     "metadata": {},
     "output_type": "display_data"
    },
    {
     "data": {
      "text/html": [
       "21 :: 0.25707387924194336 :: 1772652<br>Among the <b>30 patients</b> analyzed in the present study, 60% and 73.3% showed positive results of albumin and blood on dipstick tests; 50% of patients showed a random urine ACR or PCR more than 100 mg/g Cr. Moreover, 26.7% of patients showed AKI, and the mean and median <b>durations</b> from symptom onset were 18 and 16 <b>days</b>, respectively. <b>Old</b> <b>age</b> was a predictor of the occurrence of AKI even after <b>adjustment</b> for comorbidities and the application of a <b>mechanical</b> <b>ventilator</b>. <b>Mechanical</b> <b>ventilator</b>, CRRT, and ECMO therapies were applied to 12 (40%), 3 (10%), and 5 (16.7%) patients, respectively. A total of <b>5 patients</b> <b>died</b> of septic shock progression and multiple organ failure. Diabetes, the occurrence of AKI, and the application of CRRT were risk factors predicting <b>mortality</b> in the univariate analysis. DISCUSSION   "
      ],
      "text/plain": [
       "<IPython.core.display.HTML object>"
      ]
     },
     "metadata": {},
     "output_type": "display_data"
    },
    {
     "data": {
      "text/html": [
       "20 :: 0.18770551681518555 :: 330000<br>The primary outcome, weaning <b>duration</b>, defined from the first <b>day</b> of randomization to the <b>day</b> the patient was successfully weaned, was shorter with trach collar than with pressure support: 15 versus 19 <b>days</b>. Patients were considered weaning successes when they breathed without <b>ventilator</b> assistance for at least 5 <b>days</b>. A Cox proportional hazards model revealed that the rate of successful weaning was 1.43 times faster with trach collar than with pressure support. <b>Mortality</b> was equivalent in the two arms, but, of course, the study was not powered to detect a difference in <b>mortality</b>. Of the entire 500 randomized and non-randomized patients, 54 % were alive at 6 months after enrollment and 45 % were alive at 12 months. This <b>survival</b> rate is surprisingly high. To put the numbers in perspective, 1-year <b>survival</b> in <b>older</b> (66 <b>years</b>) patients <b>ventilated</b> in an ICU was approximately 40 % [64, 65] . That is, the LTACH patients in the study of Jubran et al., who were <b>ventilated</b> for 67 <b>days</b>, had a 1-year <b>mortality</b> comparable to ICU patients who were <b>ventilated</b> for 9 <b>days</b>. Indeed, 72 % of the <b>260 patients</b> who had been weaned by <b>discharge</b> were alive at 12 months. Conclusion   Longterm <b>mortality</b> and quality of life after prolonged <b>mechanical</b> <b>ventilation</b> <b>Survival</b> and quality of life: short-term versus long-term <b>ventilator</b> patients"
      ],
      "text/plain": [
       "<IPython.core.display.HTML object>"
      ]
     },
     "metadata": {},
     "output_type": "display_data"
    },
    {
     "data": {
      "text/html": [
       "20 :: 0.20748543739318848 :: 485080<br>The primary outcome, weaning <b>duration</b>, defined from the first <b>day</b> of randomization to the <b>day</b> the patient was successfully weaned, was shorter with trach collar than with pressure support: 15 versus 19 <b>days</b>. Patients were considered weaning successes when they breathed without <b>ventilator</b> assistance for at least 5 <b>days</b>. A Cox proportional hazards model revealed that the rate of successful weaning was 1.43 times faster with trach collar than with pressure support. <b>Mortality</b> was equivalent in the two arms, but, of course, the study was not powered to detect a difference in <b>mortality</b>. Of the entire 500 randomized and non-randomized patients, 54 % were alive at 6 months after enrollment and 45 % were alive at 12 months. This <b>survival</b> rate is surprisingly high. To put the numbers in perspective, 1-year <b>survival</b> in <b>older</b> (66 <b>years</b>) patients <b>ventilated</b> in an ICU was approximately 40 % [64, 65]. That is, the LTACH patients in the study of Jubran et al., who were <b>ventilated</b> for 67 <b>days</b>, had a 1-year <b>mortality</b> comparable to ICU patients who were <b>ventilated</b> for 9 <b>days</b>. Indeed, 72 % of the <b>260 patients</b> who had been weaned by <b>discharge</b> were alive at 12 months. Weaning in long-term acute care hospitals in the United States Hospitals (Martin Tobin, Amal Jubran) ::: Conclusion   Long-term <b>mortality</b> and quality of life after prolonged <b>mechanical</b> <b>ventilation</b> <b>Survival</b> and quality of life: short-term versus long-term <b>ventilator</b> patients"
      ],
      "text/plain": [
       "<IPython.core.display.HTML object>"
      ]
     },
     "metadata": {},
     "output_type": "display_data"
    },
    {
     "data": {
      "text/html": [
       "19 :: 0.17577874660491943 :: 1817668<br>In this analysis, a total of <b>175 patients</b> were admitted to ICUs and received <b>mechanical</b> <b>ventilation</b> during the study period. Most of the patients were below 1 month (89% of the whole population) and 59% were boys. A total of 30 (17%) of this study population <b>died</b> after the date of <b>mechanical</b> <b>ventilation</b> with a median <b>survival</b> time of 16 <b>days</b> (IQR 7-37 <b>days</b>). The <b>mortality</b> rate was 9.9 per 1000-person <b>years</b> (95%, CI 6.96 to 14.25). The Kaplan-Meier <b>survival</b> curves for 30-<b>day</b> ICU <b>mortality</b> as shown in <b>Figure</b> 3. The curve shows that by the end of one month, 75% of patients on <b>mechanical</b> <b>ventilation</b> are still alive. The characteristic of the population as demonstrated in <b>Table</b> 3. The main source of the admission of those neonates was labor and delivery by C-section, with the mean gestational week being 32 (SD 5) weeks. Prematurity with respiratory problems (50%) was the main recorded cause of the initiation of <b>mechanical</b> <b>ventilation</b>, followed by respiratory distress syndrome (37%). The majority of admissions to ICUs were premature. Neonates who received <b>mechanical</b> <b>ventilation</b> within the first month of their life and who were born extremely preterm had a high <b>mortality</b> rate after the initiation of <b>mechanical</b> <b>ventilation</b>. A total of 169 (96%) of the neonates were intubated in ICU while only 3% had already been intubated before their ICU admission. Variables related to <b>mechanical</b> <b>ventilation</b> parameters on <b>day</b> one of <b>mechanical</b> <b>ventilation</b> are presented in <b>Table</b> 3. For the results of the univariate analysis of factors associated with <b>mortality</b> among this population, <b>Table</b> 4 shows that neonates who received <b>mechanical</b> <b>ventilation</b> within the first month of life and who were born extremely preterm had a high <b>mortality</b> rate after the initiation of <b>mechanical</b> <b>ventilation</b>. In addition, those neonates who had respiratory distress syndrome as the cause of initiating the <b>mechanical</b> <b>ventilation</b> had a high rate of <b>mortality</b>; however, the univariate analysis showed no significant association. Neonates who had congenital anomalies as the cause of receiving <b>mechanical</b> <b>ventilation</b> were more likely to have a lower <b>survival</b> rate (OR 13, 95% CI 2.68-62.8). Results <b>Table</b> 3: Demographic, clinical characteristics, and initial <b>ventilator</b> modes of the pediatric patients on the inanition of the <b>mechanical</b> <b>ventilation</b> in the ICU between 2016-2018 (N=175).  <b>Table</b> 3: Demographic, clinical characteristics, and initial <b>ventilator</b> modes of the pediatric patients on the inanition of the <b>mechanical</b> <b>ventilation</b> in the ICU between 2016-2018 (N=175).  <b>Table</b> 4: The univariate analysis of factors associated with <b>mortality</b> among adult patients who admitted to ICU and received <b>mechanical</b> <b>ventilation</b> between 2016-2018.  <b>Figure</b> 3: Kaplan-Meier curves of the probability of <b>survival</b> overtime for pediatric <b>mechanical</b> <b>ventilated</b> patients (N=175) admitted to the intensive care unit between 2016-2108. "
      ],
      "text/plain": [
       "<IPython.core.display.HTML object>"
      ]
     },
     "metadata": {},
     "output_type": "display_data"
    },
    {
     "data": {
      "text/html": [
       "19 :: 0.186578631401062 :: 1729275<br>In this analysis, a total of <b>175 patients</b> were admitted to ICUs and received <b>mechanical</b> <b>ventilation</b> during the study period. Most of the patients were below 1 month (89% of the whole population) and 59% were boys. A total of 30 (17%) of this study population <b>died</b> after the date of <b>mechanical</b> <b>ventilation</b> with a median <b>survival</b> time of 16 <b>days</b> (IQR 7-37 <b>days</b>). The <b>mortality</b> rate was 9.9 per 1000-person <b>years</b> (95%, CI 6.96 to 14.25). The Kaplan-Meier <b>survival</b> curves for 30-<b>day</b> ICU <b>mortality</b> as shown in <b>Figure</b> 3 . The curve shows that by the end of one month, 75% of patients on <b>mechanical</b> <b>ventilation</b> are still alive. The characteristic of the population as demonstrated in <b>Table</b> 3 . The main source of the admission of those neonates was labor and delivery by C-section, with the mean gestational week being 32 (SD 5) weeks. Prematurity with respiratory problems (50%) was the main recorded cause of the initiation of <b>mechanical</b> <b>ventilation</b>, followed by respiratory distress syndrome (37%). The majority of admissions to ICUs were premature. Neonates who received <b>mechanical</b> <b>ventilation</b> within the first month of their life and who were born extremely preterm had a high <b>mortality</b> rate after the initiation of <b>mechanical</b> <b>ventilation</b>. A total of 169 (96%) of the neonates were intubated in ICU while only 3% had already been intubated before their ICU admission. Variables related to <b>mechanical</b> <b>ventilation</b> parameters on <b>day</b> one of <b>mechanical</b> <b>ventilation</b> are presented in <b>Table</b> 3 . For the results of the univariate analysis of factors associated with <b>mortality</b> among this population, <b>Table</b> 4 shows that neonates who received <b>mechanical</b> <b>ventilation</b> within the first month of life and who were born extremely preterm had a high <b>mortality</b> rate after the initiation of <b>mechanical</b> <b>ventilation</b>. In addition, those neonates who had respiratory distress syndrome as the cause of initiating the <b>mechanical</b> <b>ventilation</b> had a high rate of <b>mortality</b>; however, the univariate analysis showed no significant association. Neonates who had congenital anomalies as the cause of receiving <b>mechanical</b> <b>ventilation</b> were more likely to have a lower <b>survival</b> rate (OR 13, 95% CI 2.68-62.8).  Demographic Demographic The univariate analysis of factors associated with <b>mortality</b> among adult patients who admitted to ICU and received <b>mechanical</b> <b>ventilation</b> between 2016-2018. Values are presented as numbers and percentage (%). CI -confidence interval <b>mortality</b>, as 72% such patients <b>died</b> in ICUs. Kaplan-Meier curves of the probability of <b>survival</b> overtime for pediatric <b>mechanical</b> <b>ventilated</b> patients (N=175) admitted to the intensive care unit between 2016-2108. "
      ],
      "text/plain": [
       "<IPython.core.display.HTML object>"
      ]
     },
     "metadata": {},
     "output_type": "display_data"
    },
    {
     "data": {
      "text/html": [
       "19 :: 0.2375965714454651 :: 1114333<br>The median time from illness onset (ie, before admission) to <b>discharge</b> was 22·0 <b>days</b> (IQR 18·0-25·0), whereas the median time to <b>death</b> was 18·5 <b>days</b> (15·0-22·0; <b>table</b> 2). <b>32 patients</b> required invasive <b>mechanical</b> <b>ventilation</b>, of whom 31 (97%) <b>died</b>. The median time from illness onset to invasive <b>mechanical</b> <b>ventilation</b> was 14·5 <b>days</b> (12·0-19·0). Extracorporeal membrane oxygenation was used in three patients, none of whom <b>survived</b>. Sepsis was the most frequently observed complication, followed by respiratory failure, ARDS, heart failure, and septic shock (<b>table</b> 2). Half of non-<b>survivors</b> experienced a secondary infection, and <b>ventilator</b>-associated pneumonia occurred in ten (31%) of <b>32 patients</b> requiring invasive <b>mechanical</b> <b>ventilation</b>. The frequency of complications were higher in non-<b>survivors</b> than <b>survivors</b> (<b>table</b> 2) . In univariable analysis, odds of in-hospital <b>death</b> was higher in patients with diabetes or coronary heart disease (<b>table</b> 3) . <b>Age</b>, lymphopenia, leucocytosis, and elevated ALT, lactate dehydrogenase, high-sensitivity cardiac troponin I, creatine kinase, d-dimer, serum ferritin, IL-6, prothrombin time, creatinine, and procalcitonin were also associated with <b>death</b> (<b>table</b> 3) . Results Treatments and outcomes Risk factors associated with in-hospital <b>death</b> Risk factors associated with in-hospital <b>death</b>  "
      ],
      "text/plain": [
       "<IPython.core.display.HTML object>"
      ]
     },
     "metadata": {},
     "output_type": "display_data"
    },
    {
     "data": {
      "text/html": [
       "18 :: 0.25767046213150024 :: 274006<br>Methods: Retrospectively collected data on patients admitted to the ICU between January 2013 and December 2014 were reviewed. Patients admitted to the ICU, <b>aged</b> > = 18 <b>years</b>, <b>mechanically</b> <b>ventilated</b> for > = 48 hours and with the final diagnosis of ICU-acquired weakness were selected. Predictive factors of ICU-AW were identified using multivariate logistic regression analysis. Results: From the <b>177 patients</b> included, 20,3% developed ICU-AW. The mean <b>age</b> was 57,3 <b>years</b> and 58,3% were female. The median time of <b>mechanical</b> <b>ventilation</b> was 343,5 hours. 55,6% of patients had solid tumors and 44,4% had hematological malignancies. Glucocorticoids and neuromuscular blocking <b>agents</b> were administered in 88,9% and 38,9% of patients, respectively. Septic shock developed in 72,2% of patients and was found to be a predictive factor for developing ICU-AW (OR 4,15, pvalue 0,018). 66,7% of patients started or continued physical rehabilitation during the hospital length of stay approximately 12 <b>days</b> after admission in the ICU. 44,4% of patients with ICU-AW <b>died</b> 37 <b>days</b> after admission in the ICU. <b>8 patients</b> (22,2%) with ICU-AW were re-evaluated by physical and rehabilitation medicine 144 <b>days</b> after hospital <b>discharge</b>. Significant improvement was noted in their physical status while in the program of physical therapy. Conclusions: ICU-AW is a relatively frequent problem and septic shock was found to be a predictive factor for the development of this entity. Early mobilization is an important intervention to decrease the weakness and physical deconditioning in the critically ill patients. P412   "
      ],
      "text/plain": [
       "<IPython.core.display.HTML object>"
      ]
     },
     "metadata": {},
     "output_type": "display_data"
    },
    {
     "data": {
      "text/html": [
       "17 :: 0.21437162160873413 :: 1166756<br>Results: Fifteen (65,2%) out of 23 pts were male with a median <b>age</b> of 55 <b>years</b> (range: 28-69). Patients' baseline diseases were: multiple myeloma (34,8%), non-Hodgkin´s Lymphoma (26,1%), Hodgkin´s Lymphoma (8,7%), acute lymphoblastic leukemia (8,7%), myelodisplasic syndrome (8,7%), solid tumor (8,7) and acute myeloblastic leukemia (4,3%). Fifteen (65,2%) pts received auto-HSCT, 5 (21,7%) allo-HSCT from unrelated donor, 2 (8,7%) allo-HSCT from identical sibling, and the remainder haploidentical HSCT (1) (4,3%). So, 6,6% of auto-HSCT pts and 8% of allo-HSCT were admitted in the ICU. The median stay in the ICU was 5 <b>days</b> (range: 1-30) and reasons for admission were: respiratory insufficiency (60,8%), septic shock (30,4%), renal insufficiency (4,3%) and multi-organic failure (4,3%). Twenty-one (91.3%) pts required respiratory support with: nasal cannula or oxygen mask (C/M) (19%), non-invasive <b>mechanical</b> <b>ventilation</b> (NIMV) (66,7%) and invasive <b>mechanical</b> <b>ventilation</b> (IMV) (14,3%). Fourteen (60%) pts needed inotropic <b>agents</b> for shock treatment. Finally, 4 (4,5%) pts required substitutive renal therapy with hemodialysis or haemofiltration (HD/HF). Eleven (47,8%) out of 23 pts <b>died</b>, 7 (63,6%) were male with a median <b>age</b> of 55 <b>years</b> (range: 24-64). Ten of them (90,9%) needed IMV and were treated with inotropic <b>agents</b>. All patients who required HD/HF (n=4) <b>died</b>. IMV and treatment with inotropic <b>agents</b> were associated with ICU <b>mortality</b> (OR 6,5; p=0,03, OR 7; p=0,008; respectively). P186   "
      ],
      "text/plain": [
       "<IPython.core.display.HTML object>"
      ]
     },
     "metadata": {},
     "output_type": "display_data"
    },
    {
     "data": {
      "text/html": [
       "17 :: 0.23494839668273926 :: 1819119<br>A total of <b>463 patients</b> were admitted to the MICU during the study period. Among them, <b>234 patients</b> were admitted to the MICU before its relocation, and the other 229 were admitted afterward. Patients were predominantly male (65%), with a median <b>age</b> of 66 <b>years</b> (IQR, 58 to 74 <b>years</b>) and a median APACHE II score of 28 (IQR, 19 to 36). Among the <b>463 patients</b>, 108 (23.3%) were diagnosed with sepsis, and 155 (33.5%) were diagnosed with pneumonia. The prevalence of sepsis increased significantly after the MICU relocation (18.8% to 28.0%, P=0.020). The most common underlying comorbidity was hematologic malignancy (21.8%), followed by solid organ malignancy (19.7%), diabetes mellitus (13.4%), heart failure (10.8%), end-stage renal disease (9.7%), liver cirrhosis (6.1%), solid organ transplant (5.6%), and bronchiectasis (3.5%). The proportion of patients who were transferred from other ICUs was 18.8%, which did not differ before and after the relocation (P=0.333). Antacids were administered to 87.7% of patients. <b>Mechanical</b> <b>ventilation</b> was administered to 67.8% of patients for a median of 4 <b>days</b> (IQR, 2 to 9 <b>days</b>), and <b>ventilator</b> dependency (<b>ventilator</b> use ≥21 <b>days</b>) was observed in 43 of <b>483 patients</b> (8.9%), which did not differ before and after the MICU relocation (5.1% vs. 4.8%, P=0.872). Steroids were administered to 54.2% of patients for a median of 4 <b>days</b> (IQR, 2 to 8 <b>days</b>). These baseline characteristics did not differ between the before and after MICU relocation groups. A total of 530.5 respiratory samples (95% CI, 488.2 to 572.8) were used to perform microbiological analyses per 1,000 patient-<b>days</b> before the relocation, and 513.5 samples (95% CI, 468.6 to 558.5) were used per 1,000 patientdays after the relocation, and that difference was not statistically significant (P=0.558) (<b>Table</b> 1). Baseline Characteristics ::: RESULTS <b>Table</b> 1.: Baseline characteristics of <b>463 patients</b> admitted to the medical ICU before and after its relocation   "
      ],
      "text/plain": [
       "<IPython.core.display.HTML object>"
      ]
     },
     "metadata": {},
     "output_type": "display_data"
    },
    {
     "data": {
      "text/html": [
       "16 :: 0.2446158528327942 :: 1035872<br>Methods A prospective study was done on a 24-bed mixed ICU over a period of 18 months. Eighty-three patients ≥18 <b>years</b> were included in the study. All patients were dependent on <b>mechanical</b> <b>ventilation</b> and met the CCM criteria for sepsis upon admission to the ICU. APACHE II score, SOFA score, weight, BMI and nutritional status were calculated. Patients were initiated for enteral feeding based on the established feeding protocol within 48 hours of admission. The feeding status of the patient was recorded on the start <b>day</b> (D0), <b>day</b> 3 (D3) and <b>day</b> 7 (D7). Factors aff ecting the feeding process and its progression were also recorded Results The patient mean <b>age</b> was 71.4 ± 12.2. LOS in the ICU was 9 to 21 <b>days</b>. Based on BMI, 18% of the patients were malnourished upon admission. APACHE II was 26 ± 7.8 and SOFA was 9.2 ± 4.6. The <b>mortality</b> rate was 42.5%. Enteral nutrition started early in 64 (77.1%) of the patients (D0), on <b>day</b> 3 (D3) 29 (45.31%) patients met their caloric goals and on <b>day</b> 7 (D7) only 18 (28.1%) patients achieved their caloric goals. Discontinuation of enteral feeding was mainly due to procedures, whereas late start and/or decreased hourly intake were due to GI complications, GI intolerance, excessive diarrhoea and hemodynamic instability. There was no association between compliance with the feeding protocol and the LOS, nutritional status, severity or disease progression. P423   "
      ],
      "text/plain": [
       "<IPython.core.display.HTML object>"
      ]
     },
     "metadata": {},
     "output_type": "display_data"
    },
    {
     "data": {
      "text/html": [
       "15 :: 0.178305983543396 :: 1803041<br>The median <b>age</b> was 3.5 months, (range 0.07–23.96 months), 60% were male, 12% had UMCs and 14% were premature (<37 weeks gestation) (<b>table</b> 1). Of the 375 subjects with UMCs, heart disease was the most common, 146/357 (39%). Nearly 90% of the children’s parents self-identified as Jordanian, and 7% reported Palestinian as their nationality. Primary and secondary education was the highest attainment in 41% and 44% of the mothers, respectively. The median birth weight was 3.0 kg, and 28% were born by caesarean section. The median number of siblings was 2, 1.6% attended <b>daycare</b> and 77% were exposed to smoke (73% and 18% to cigarette and hookah, respectively). Demographics and clinical characteristics ::: Results <b>Table</b> 1: Univariate and multivariable analysis of factors associated with length of stay (LOS), risk of <b>death</b>, oxygen therapy, intensive care unit (ICU) admission and <b>mechanical</b> <b>ventilation</b>   "
      ],
      "text/plain": [
       "<IPython.core.display.HTML object>"
      ]
     },
     "metadata": {},
     "output_type": "display_data"
    },
    {
     "data": {
      "text/html": [
       "15 :: 0.24389612674713135 :: 1729262<br>‫تهوية‬ ‫يتلقون‬ ‫الذين‬ ‫واألطفال‬ ‫البالغني‬ ‫املرضى‬ ‫بقاء‬ ‫تقدير‬ ‫األهداف:‬ ‫بها.‬ ‫املرتبطة‬ ‫اخلطر‬ ‫عوامل‬ ‫وحتديد‬ ‫ميكانيكية‬ ‫املركزة‬ ‫العناية‬ ‫وحدة‬ ‫في‬ ‫رجعي‬ ‫بأثر‬ ‫األتراب‬ ‫دراسة‬ ‫أجريت‬ ‫الطريقة:‬ ‫امللك‬ ‫ومستشفى‬ )KAMC( ‫الطبية‬ ‫العزيز‬ ‫عبد‬ ‫امللك‬ ‫مدينة‬ ‫في‬ )ICU( ‫العربية‬ ‫اململكة‬ ‫الرياض،‬ ،)KACSH( ‫لألطفال‬ ‫التخصصي‬ ‫الله‬ ‫عبد‬ ‫املرضى‬ ‫جلميع‬ ‫الطبية‬ ‫السجالت‬ ‫من‬ ‫بيانات‬ ‫التحليل‬ ‫يتضمن‬ ‫السعودية.‬ ‫ميكانيكية‬ ‫تهوية‬ ‫تلقوا‬ ‫الذين‬ ‫املركزة‬ ‫العناية‬ ‫وحدات‬ ‫في‬ ‫قبولهم‬ ‫مت‬ ‫الذين‬ ‫اخلطر‬ ‫عوامل‬ ‫جمع‬ ‫مت‬ ‫مريض،‬ ‫لكل‬ ‫8102م.‬ ‫6102م-‬ ‫الفترة‬ ‫خالل‬ ‫اإلقامة‬ ‫أثناء‬ ‫الوفيات‬ ‫هي‬ ‫الدراسة‬ ‫لهذه‬ ‫الرئيسية‬ ‫النتيجة‬ ‫وكانت‬ ‫احملتملة.‬ ‫امليكانيكية‬ ‫التهوية‬ ‫تلقي‬ ‫بعد‬ ‫املركزة‬ ‫العناية‬ ‫وحدة‬ ‫في‬ ‫العناية‬ ‫وحدات‬ ‫في‬ ‫األطفال‬ ‫مرضى‬ ‫من‬ ‫و571‬ ‫البالغني‬ ‫من‬ 262 ‫قبل‬ ‫النتائج:‬ ‫للمرضى‬ ‫بالنسبة‬ ‫الدراسة.‬ ‫فترة‬ ‫خالل‬ ‫ميكانيكية‬ ‫تهوية‬ ‫وتلقوا‬ ‫املركزة‬ ‫البقاء‬ ‫مدة‬ ‫متوسط‬ ‫مع‬ ،37% ‫اإلجماليه‬ ‫الوفيات‬ ‫معدل‬ ‫كان‬ ‫البالغني،‬ ‫كانت‬ ‫]‪]IQR‬أيام).‬ 6-20 ‫الرباعي‬ ‫(املدى‬ ‫يوما‬ 11 ‫من‬ ‫احلياة‬ ‫قيد‬ ‫على‬ ‫الوفيات‬ ‫معدل‬ ‫زيادة‬ ‫مع‬ ‫مستقل‬ ‫بشكل‬ ‫املرتبطة‬ ‫الرئيسية‬ ‫اخلطر‬ ‫عوامل‬ 95% ‫الثقة‬ ‫فاصل‬ ،2.6 ‫األرجحية‬ ‫(نسبة‬ 51-60 ‫بني‬ ‫أعمارهم‬ ‫تتراوح‬ ‫بالنسبة‬ ‫املركزة.‬ ‫العناية‬ ‫وحدة‬ ‫بقبول‬ ‫املتعلقة‬ ‫والعوامل‬ )CI 6.7-1.0 ‫على‬ ‫البقاء‬ ‫مدة‬ ‫متوسط‬ ‫مع‬ ،17% ‫الوفيات‬ ‫معدل‬ ‫كان‬ ‫األطفال،‬ ‫لسكان‬ ‫في‬ ‫مشاكل‬ ‫مع‬ ‫اخلداج‬ ‫كان‬ ‫يوم).‬ IQR 7-37( ‫يوما‬ 16 ‫من‬ ‫احلياة‬ ‫قيد‬ 50%( ‫امليكانيكية‬ ‫التهوية‬ ‫لبدء‬ ‫املسجل‬ ‫الرئيسي‬ ‫السبب‬ ‫التنفسي‬ ‫اجلهاز‬ ‫شهر‬ ‫خالل‬ ‫ميكانيكية‬ ‫تهوية‬ ‫لديهم‬ ‫الذين‬ ‫الوالدة‬ ‫حديثي‬ ‫املرضى).‬ ‫من‬ ‫بعد‬ ‫مرتفع‬ ‫وفيات‬ ‫معدل‬ ‫لديهم‬ ‫كان‬ ‫األوان‬ ‫قبل‬ ‫ولدوا‬ ‫والدتهم‬ ‫من‬ ‫واحد‬ ‫امليكانيكية.‬ ‫التهوية‬ ‫بدء‬ ‫على‬ ‫تؤثر‬ ‫امليكانيكية‬ ‫التهوية‬ ‫بدء‬ ‫وأسباب‬ ‫املريض‬ ‫عمر‬ ‫من‬ ‫كل‬ ‫كان‬ ‫اخلامتة:‬ ‫ميكانيكية.‬ ‫تهوية‬ ‫إلى‬ ‫يحتاجون‬ ‫الذين‬ ‫املرضى‬ ‫بقاء‬ Objectives: To estimate the <b>survival</b> of adult and pediatric patients receiving <b>mechanical</b> <b>ventilation</b> and determine the associated risk factors Methods: A retrospective cohort study was carried out in the intensive care unit (ICU) at King Abdulaziz Medical City (KAMC) and King Abdullah Children's Specialist Hospital (KACSH), Riyadh, Saudi Arabia. The analysis includes data from medical records of all patients admitted to ICUs who received <b>mechanical</b> <b>ventilation</b> between 2016-2018. For each patient, potential risk factors were collected. The main outcome of this study was the <b>mortality</b> during the stay in ICU after receiving <b>mechanical</b> <b>ventilation</b> Results: A total of 262 adults and 175 pediatric patients were admitted to ICUs and received <b>mechanical</b> <b>ventilation</b> during the study period. For adult patients, the overall <b>mortality</b> was 37%, with a median <b>survival</b> time of 11 <b>days</b> (interquartile range [IQR] 6-20 <b>days</b>). The main risk factors independently associated with the increased <b>mortality</b> rate were being <b>aged</b> 51-60 (odds ratio [OR] 2.6, 95% confidence interval [CI] 6.7-1.0) and factors related to ICU admission. For the pediatric population, the <b>mortality</b> rate was 17%, with a median <b>survival</b> time of 16 <b>days</b> (IQR 7-37 <b>days</b>) Abstract   "
      ],
      "text/plain": [
       "<IPython.core.display.HTML object>"
      ]
     },
     "metadata": {},
     "output_type": "display_data"
    },
    {
     "data": {
      "text/html": [
       "14 :: 0.2540227174758911 :: 976680<br>Results: Of the 65 case subjects, the median <b>age</b> was 41 (interquartile range [IQR], 28-57) <b>years</b>, 60.0% were men, and 55.4% had at least one underlying medical condition. Sixty-two patients started oseltamivir therapy within a median of 5 (IQR, 4-6) <b>days</b> from the onset of illness, and 31 received IV corticosteroids. ARDS developed in <b>33 patients</b>, and 24 were treated initially with noninvasive positive pressure <b>ventilation</b> (NPPV). In this group, NPPV was successful in <b>13 patients</b> (54.2%). Nine patients <b>died</b> at a median of 16 (IQR, 10-24) <b>days</b> after onset of illness. Multivariate Cox regression identifi ed two independent risk factors for <b>death</b>: progressive dyspnea after resolution of fever (relative risk, 5.852; 95% CI, 1.395-24.541; P 5 .016) and a higher APACHE (Acute Physiology and Chronic Health Evaluation) II score on presentation (relative risk for each point, 1.312; 95% CI, 1.140-1.511; P , .001). At 3-month follow-up of <b>survivors</b> with A(H1N1), ground-glass opacities were still present, although diminished, in 85.7%, and diffusing capacity for carbon monoxide was mildly reduced in 61.5%. Abstract   "
      ],
      "text/plain": [
       "<IPython.core.display.HTML object>"
      ]
     },
     "metadata": {},
     "output_type": "display_data"
    },
    {
     "data": {
      "text/html": [
       "13 :: 0.22876375913619995 :: 1166892<br>Results: 20 allograft patients were included. 14 were male, with a median <b>age</b> 47 <b>years</b> (range 23-68 <b>years</b>). 6 were female, with median <b>age</b> 61 <b>years</b> (range 51-67 <b>years</b>). Diagnosis N (%) includes ALL 3 (15%), AML 7 (35%), aCML 1 (5%), CMML 3 (15%), HL 1 (5%), MDS 2 (10%), MDS/MPN 1 (5%), FL 1 (5%), SCD 1 (5%). Sixteen (80%) patients received their first transplant, 4 (20%) received second transplant. Eight (40%) patients had sibling donor, <b>12 patients</b> (60%) had unrelated donor. Sixteen (80%) patients had 10/10 matched donor, 2 (10%) patients had 9/ 10 matched donor, 2 (10%) patients had 8/10 matched donor. Nineteen (95%) received Reduced Intensity Conditioning (RIC), one (5%) received Myeloablative (MA) conditioning. Majority of RIC allo-HSCT patients were conditioned with Fludarabine, Mephalan, Campath (FMC). A small number were conditioned with busulfan, fludarabine and ATG. The MA allo-HSCT patient was conditioned with TBI, cyclophosphamide. GvHD prophylaxis was ciclosporin alone starting on <b>day</b> -1 with a target level of 150-250 ug/L for all RIC and ciclosporin and methotrexate for the MA patients. Two (10%) allograft patients were admitted to ICU on three occasions. Both patients were male, 58 and 68 <b>years</b> <b>old</b>. One had MMUD allograft for MDS/MPN. The other had 2 nd MUD allograft for relapsed AML. The reasons for ICU admission include sepsis, cardiac arrest and respiratory failure. The median <b>duration</b> of ICU admission was 5 <b>days</b> (range 2-9). There were 2 <b>deaths</b> within 100 <b>days</b> of transplant. One patient <b>died</b> on <b>day</b> +11 during his second ICU admission with multi organ failure (MOF). One patient <b>died</b> after ICU <b>discharge</b> on <b>day</b> +23 with relapsed disease, bronchopneumonia with disseminated fungal infection. ICU <b>mortality</b> rate was 50%, and 100-<b>day</b> <b>mortality</b> rate was 10%. P211   "
      ],
      "text/plain": [
       "<IPython.core.display.HTML object>"
      ]
     },
     "metadata": {},
     "output_type": "display_data"
    },
    {
     "data": {
      "text/html": [
       "13 :: 0.23613786697387695 :: 1817669<br>The results of this study showed that the <b>mortality</b> rate of adult patients who required <b>mechanical</b> <b>ventilation</b> was 37% and that of the pediatric population was 17%. Elderly patients and those with circulatory system disease and infection as admission cause to ICU have higher <b>mortality</b> rate after the initiation of <b>mechanical</b> <b>ventilation</b>. Similarly, the gestational <b>age</b> and cause of intubation were associated with a higher <b>mortality</b> rate among neonates. Discussion   "
      ],
      "text/plain": [
       "<IPython.core.display.HTML object>"
      ]
     },
     "metadata": {},
     "output_type": "display_data"
    },
    {
     "data": {
      "text/html": [
       "13 :: 0.24545884132385254 :: 1618049<br>At 28 <b>days</b> after ICU admission <b>34 patients</b> (63%; 95% CI 49.6–74.6) were alive and not <b>mechanically</b> <b>ventilated</b>. Six patients were alive but still <b>ventilated</b> (11.3%; 95% CI 5.3–22.6) and 14 had <b>died</b> (25.9%; CI 16.1–38.9). The median length of ICU stay was 8.5 <b>days</b> (IQR 5–22.3). Results   "
      ],
      "text/plain": [
       "<IPython.core.display.HTML object>"
      ]
     },
     "metadata": {},
     "output_type": "display_data"
    },
    {
     "data": {
      "text/html": [
       "13 :: 0.24719953536987305 :: 1800705<br>At baseline, 79 (82%) of participants required oxygen, 56 (58%) were in the ICU, and 41 (43%) were on <b>mechanical</b> <b>ventilation</b>. Adults had a median APACHE II score of 13, reflecting an anticipated 15% <b>mortality</b>,[7] whereas children had a median PRISM III score of 3 reflecting an anticipated 2% <b>mortality</b>.[8] The participants randomized to receive standard care had slightly more severe illness at baseline compared to those randomized to plasma (oxygen requirement in 43 participants (88%) vs. 36 (77%) and <b>mechanical</b> <b>ventilation</b> in 24 participants (49%) vs. 17 (36%)). Thirty five (57%) participants had multi-lobar infiltrates on chest X-ray and was similar in both arms, and 31 (51%) had pleural effusions which were more common in the standard care arm (59% (19) vs 41% (12)). The protocol did not mandate any evaluation of the pleural effusions, though no empyema’s were reported. Loss to follow up for completion of the study (<b>Day</b> 28) was higher in the participants that received standard care (22% (N=10) vs. 10% (4)), though follow up through the primary endpoint (or <b>Day</b> 28 if not reaching endpoint, or <b>death</b>) was similar (82% (37) vs. 86% (36)). Results   APACHE II: a severity of disease classification system PRISM III: an updated Pediatric Risk of <b>Mortality</b> score"
      ],
      "text/plain": [
       "<IPython.core.display.HTML object>"
      ]
     },
     "metadata": {},
     "output_type": "display_data"
    },
    {
     "data": {
      "text/html": [
       "13 :: 0.255926251411438 :: 352178<br>The results for a total of five consecutive patients with severe ARDS with confirmed HAdV-55 infection were included. All five patients were immunocompetent young men with a median <b>age</b> of 32 <b>years</b>. The mean time from onset to dyspnea was 5 <b>days</b>. Arterial blood gas analysis at ICU admission revealed profound hypoxia. Mean partial oxygen pressure/fraction of inspired oxygen was 58.1. Mean <b>durations</b> from onset to a single-lobe consolidation shown on chest X-rays (CXRs) and, from the first positive CXR to bilateral multilobar lung infiltrates, were 2 <b>days</b> and 4.8 <b>days</b>, respectively. The viral load was higher than 1 × 10 8 copies in three patients and was 1 × 10 4 in one patient. It was negative in the only patient who <b>survived</b>. The mean <b>duration</b> for noninvasive positive pressure <b>ventilation</b> (NPPV) failure and IMV failure were 30.8 hours and 6.2 <b>days</b>, respectively. Four patients received venovenous ECMO. Four (80%) of the five patients <b>died</b> despite receiving appropriate respiratory support. Abstract   "
      ],
      "text/plain": [
       "<IPython.core.display.HTML object>"
      ]
     },
     "metadata": {},
     "output_type": "display_data"
    },
    {
     "data": {
      "text/html": [
       "12 :: 0.25253963470458984 :: 545877<br> Results: We included <b>50 patients</b> (34 male) with a median <b>age</b> of 52. The majority (27) were immunosuppressed: <b>21 patients</b> had human immunodeficiency virus (HIV) infection with CD4 count less than 350/mm3, 3 had hematological neoplasia under chemotherapy, 2 were under immunosuppressant drugs, and 2 had solid neoplasia under chemotherapy. The median APACHE II score was 19 and SAPSII score was 43. Eight patients had a “do not intubate” status due to their comorbidities. The most frequent reason to perform NIV was bacterial pneumonia (44 %) followed by pneumocystosis (30 %), ARDS (16 %), flu (6 %) and tuberculosis (2 %). Median time of NIV was 3,5 <b>days</b>. We had a NIV success rate of 60 % (<b>14 patients</b> were intubated, 5 did not have intubation indication and 1 patient <b>died</b> from another cause). The <b>mortality</b> rate was 28 %. We found statistically significant association between the severity scores SAPSII and APACHE and the NIV result and <b>death</b> (higher scores were associated with failure of NIV and <b>death</b>). We also found that patients with hematological neoplasia under chemotherapy had higher rates of failure of NIV and <b>death</b>. HIV infection was associated with <b>death</b> but not with NIV failure. Centro Hospitalar São João, Porto, Portugal ::: A. Silva-Pinto, A. Sarmento, L. Santos ::: P235 Use of non-invasive <b>ventilation</b> in infectious diseases besides classical indications   "
      ],
      "text/plain": [
       "<IPython.core.display.HTML object>"
      ]
     },
     "metadata": {},
     "output_type": "display_data"
    },
    {
     "data": {
      "text/html": [
       "11 :: 0.23609811067581177 :: 1729263<br>. Prematurity with respiratory problems was the main recorded cause of initiation of <b>mechanical</b> <b>ventilation</b> (50% of patients). Neonates who had <b>mechanical</b> <b>ventilation</b> within one month of their birth and were born extremely preterm had a high <b>mortality</b> rate after the initiation of <b>mechanical</b> <b>ventilation</b>. Abstract   "
      ],
      "text/plain": [
       "<IPython.core.display.HTML object>"
      ]
     },
     "metadata": {},
     "output_type": "display_data"
    },
    {
     "data": {
      "text/html": [
       "11 :: 0.25325894355773926 :: 154809<br>A total of 306 SARI patients were admitted and enrolled by the two surveillance sites between week 40, 2010 and week 39, 2014; 48 did not meet the case definition and were excluded from further analyses leaving a total of <b>258 patients</b> included in this analysis. Median <b>age</b> at admission was 63 <b>years</b> (range, 19-97 <b>years</b>) and 121 (47%) were women. One hundred thirty-one (51%) were white, non-Hispanic and 101 (39%) were Hispanic. The median time from symptom onset to hospital admission was four <b>days</b> (interquartile range (IQR); 2-6 <b>days</b>), the median <b>duration</b> of hospital stay was five <b>days</b> (IQR, 3-9 <b>days</b>); 96 (37%) patients were admitted to the ICU (<b>Table</b> 1) . Results Characteristics of all SARI patients, and by status (alive/<b>dead</b>) Three patients were co-infected; one with coronavirus HKU1/rhinovirus, one with coronavirus HKU1/human metapneumovirus and one with coronavirus 229E/rhinovirus <b>deaths</b> occurring outside the hospital; when limited to persons ≥ 65 <b>years</b> the increase was 47%. <b>Age</b> ≥ 65 <b>years</b> and admission to the ICU were significantly associated with <b>mortality</b>.  "
      ],
      "text/plain": [
       "<IPython.core.display.HTML object>"
      ]
     },
     "metadata": {},
     "output_type": "display_data"
    },
    {
     "data": {
      "text/html": [
       "11 :: 0.2607012391090393 :: 692471<br>One thousand fifty-one patients had the get-upand-go test done, and <b>441 patients</b> (41.9%) failed. Six hundred seventy-six patients had the mini-mental status examination done, and <b>311 patients</b> (46%) failed. <b>Table</b> 2 compares selected features of those who <b>survived</b> pneumonia vs those who <b>died</b>. There are a number of instructive observations. Not unexpectedly, there were major differences in mean <b>age</b>, mean pneumonia severity risk score, and mean length of stay between the two groups. Also, the effect of functional status at the time of admission on subsequent <b>mortality</b> was striking. Thus, 4.0%, 11.6%, 20.1%, and 25.2% of those who were walking, walking with assistance, wheelchair, and bedridden, respectively, <b>died</b>. The mean <b>ages</b> for patients in each of these groups were 63.8, 80.0, 73.3, and 74.4 <b>years</b>, respectively. The mean pneumonia severity risk scores for patients in the four functional status categories were 90.6, 117.3, 113.7, and 117.6, respectively. Ten of the <b>610 patients</b> (1.6%) who passed the get-up-and-go test <b>died</b>, compared with 62 of the <b>441 patients</b> (14.0%) who failed this test. The group that passed this test was younger (77.3 <b>years</b> vs 81.6 <b>years</b>), had a lower mean risk score (102.2 vs 121.8), and a lower percentage of patients in risk classes IV and V (73% vs 86%). There were major differences in <b>mortality</b> according to the site of hospitalization, with <b>mortality</b> rates ranging from 5.9 to 13.3%. As shown in the multivariate analysis, site of care remained a significant predictor for <b>mortality</b> after simultaneously <b>adjusting</b> for other factors. Results Characteristics of Patients by <b>Mortality</b> Status*  "
      ],
      "text/plain": [
       "<IPython.core.display.HTML object>"
      ]
     },
     "metadata": {},
     "output_type": "display_data"
    },
    {
     "data": {
      "text/html": [
       "10 :: 0.24844753742218018 :: 1583505<br>For the entire period of recorded human history, the world has never been globally as <b>aged</b> as today. It is therefore not surprising that the proportion of elderly patients admitted to the ICU is increasing, even in circulatory shock. The usefulness of ICU admission in the <b>aged</b> population is a hot topic worldwide. <b>Mortality</b> rates are known to increase with <b>age</b>, but the impact of <b>age</b> on outcomes after circulatory shock has not been well defined. Biston et al. [7] explored this topic, performing a secondary analysis of data from a large randomized trial that compared the effects of dopamine and norepinephrine on outcome in the ICU. <b>Mortality</b> rates were higher in elderly (75–84 <b>years</b>) and very elderly (≥85 <b>years</b>) patients at 28 <b>days</b>, at hospital <b>discharge</b> and after 6 and 12 months of follow-up. Most very elderly patients were <b>dead</b> at 6 (92 %) and 12 months (97 %). <b>Mortality</b> rates increased with <b>age</b> in all types of shock. Using multivariable analysis, the risk of <b>death</b> was higher in very elderly patients as compared to patients <b>aged</b> <75 <b>years</b>. In this analysis, <b>ageing</b> is independently associated with higher <b>mortality</b> rates in patients with circulatory failure, whatever the etiology. By 1 year after admission, most patients <b>aged</b> >85 <b>years</b> had <b>died</b>. Cardiac dysfunction in the intensive care unit   Outcome of elderly patients with circulatory failure"
      ],
      "text/plain": [
       "<IPython.core.display.HTML object>"
      ]
     },
     "metadata": {},
     "output_type": "display_data"
    },
    {
     "data": {
      "text/html": [
       "10 :: 0.24846374988555908 :: 1484761<br>For the entire period of recorded human history, the world has never been globally as <b>aged</b> as today. It is therefore not surprising that the proportion of elderly patients admitted to the ICU is increasing, even in circulatory shock. The usefulness of ICU admission in the <b>aged</b> population is a hot topic worldwide. <b>Mortality</b> rates are known to increase with <b>age</b>, but the impact of <b>age</b> on outcomes after circulatory shock has not been well defined. Biston et al. [7] explored this topic, performing a secondary analysis of data from a large randomized trial that compared the effects of dopamine and norepinephrine on outcome in the ICU. <b>Mortality</b> rates were higher in elderly (75-84 <b>years</b>) and very elderly (C85 <b>years</b>) patients at 28 <b>days</b>, at hospital <b>discharge</b> and after 6 and 12 months of follow-up. Most very elderly patients were <b>dead</b> at 6 (92 %) and 12 months (97 %). <b>Mortality</b> rates increased with <b>age</b> in all types of shock. Using multivariable analysis, the risk of <b>death</b> was higher in very elderly patients as compared to patients <b>aged</b> \\75 <b>years</b>. In this analysis, <b>ageing</b> is independently associated with higher <b>mortality</b> rates in patients with circulatory failure, whatever the etiology. By 1 year after admission, most patients <b>aged</b> [85 <b>years</b> had <b>died</b>. Cardiac dysfunction in the intensive care unit   Outcome of elderly patients with circulatory failure"
      ],
      "text/plain": [
       "<IPython.core.display.HTML object>"
      ]
     },
     "metadata": {},
     "output_type": "display_data"
    },
    {
     "data": {
      "text/html": [
       "10 :: 0.25009793043136597 :: 1812065<br>Two binary logistic regression models showed that males were 5.69 times more likely to exhibit progression to maximum paralysis in ≤2 weeks compared to females, <b>adjusted</b> P=0.017. <b>Older</b> GBS patients with <b>age</b> 8–14 <b>years</b> were 3.9 times more likely to sustain residual paralysis at 60 <b>days</b> compared to younger patients <b>aged</b> 1–7 <b>years</b>, <b>adjusted</b> P=0.034 (<b>Table</b> 4). Factors associated with disease outcomes ::: Results <b>Table</b> 4: Factors associated with level of progression to maximum paralysis and residual paralysis   "
      ],
      "text/plain": [
       "<IPython.core.display.HTML object>"
      ]
     },
     "metadata": {},
     "output_type": "display_data"
    },
    {
     "data": {
      "text/html": [
       "9 :: 0.2006034255027771 :: 485712<br>The mean <b>age</b> of the study participants was 60.3 ± 15.3 <b>years</b> and 213 (66.1%) of the participants were male. The reasons for admission were cardiovascular disease (203, 63.0%), lung disease (49, 15.2%), malignancy (35, 10.9%) and others (35, 10.9%). One hundred and thirty seven (42.5%) patients had received cardiopulmonary resuscitation within 24 h prior to ECMO initiation. After the median (IQR) 2 (0–10) <b>days</b> of admission, the patients received ECMO insertion because of cardiotomy (31, 9.6%), non-operative cardiovascular causes (185, 57.5%), adult respiratory distress syndrome (ARDS) (43, 13.4%), non-ARDS lung causes (44, 13.7%) and other causes (19, 5.9%). Two hundred and thirty (71.4%) and 92 (28.6%) patients received VA and VV ECMO support, respectively. One hundred and six (32.9%) patients were undergoing IABP on the date of ECMO insertion. The median (IQR) <b>duration</b> from ECMO initiation to <b>death</b> or <b>discharge</b> was 21 (8–40) <b>days</b>. The incidence of AKI comprising all KDIGO grades was 82.3%. In-hospital <b>mortality</b> was 51.6%. The median (IQR) <b>durations</b> for AKI and in-hospital <b>mortality</b> were 2 (1–7) <b>days</b> and 9 (4–23) <b>days</b>, respectively. Results   "
      ],
      "text/plain": [
       "<IPython.core.display.HTML object>"
      ]
     },
     "metadata": {},
     "output_type": "display_data"
    },
    {
     "data": {
      "text/html": [
       "9 :: 0.22521042823791504 :: 440392<br>A total of 126 sepsis patients were consecutively enrolled: 71 <b>survivors</b> and 55 non-<b>survivors</b> (43.7%) who <b>died</b> within 6.6 ± 5.7 <b>days</b> after MICU admission. Mean <b>age</b> of each group was over 70 <b>years</b>. Male was predominant in the non-<b>survivor</b> group and as risk factor for <b>mortality</b>. Sepsis diagnosis at MICU admission showed no correlation with <b>mortality</b>. APACHE II score was significantly higher among non-<b>survivors</b>. Principal suspected infection source was the respiratory tract, followed by urogenital tract, most infection caused by gram negative bacteria. Six patients with intra-abdominal infection all <b>died</b> within twenty-eight <b>days</b> after admission (<b>Table</b> 2). 3.1. Characteristics of Study Subjects ::: 3. Results <b>Table</b> 2: Demographic and clinical characteristics of septic patients.   "
      ],
      "text/plain": [
       "<IPython.core.display.HTML object>"
      ]
     },
     "metadata": {},
     "output_type": "display_data"
    },
    {
     "data": {
      "text/html": [
       "9 :: 0.22651243209838867 :: 568037<br>For all-cause <b>mortality</b>, 30/258 (12%, 95% CI 8–15%) patients <b>died</b> within 30 <b>days</b> of hospital admission [23/30 <b>died</b> in-hospital (77%)]. Among patients ≥ 65 <b>years</b>, 22/135 (16%, 95% CI 11–24%) <b>died</b> within 30 <b>days</b> of hospital admission [15/22 <b>died</b> in-hospital (68%)]. Among those who <b>died</b>, the median <b>age</b> at admission was 72 <b>years</b> (range: 35–88 <b>years</b>), the median <b>duration</b> of hospital stay was 6 <b>days</b> (range: 0–28 <b>days</b>), and the median time from symptom onset to <b>death</b> was 12 <b>days</b> (range: 4–32 <b>days</b>). Twenty-two of thirty (73%, 95% CI 58–89%) patients that <b>died</b> were admitted to the ICU [20/22 <b>died</b> in-hospital (90%)] and 27/30 (90%) patients had at least one underlying disease. An influenza virus was detected among 4/30 (13%) patients who <b>died</b>. All-cause <b>mortality</b> by influenza season was similar, with 5/36 <b>deaths</b> (14%) in the 2010–2011 season, 3/23 (13%) in 2011–2012, 6/44 (14%) in 2012–2013 and 16/125 (13%) in 2013–2014. <b>Mortality</b> ::: Results   "
      ],
      "text/plain": [
       "<IPython.core.display.HTML object>"
      ]
     },
     "metadata": {},
     "output_type": "display_data"
    },
    {
     "data": {
      "text/html": [
       "9 :: 0.2294865846633911 :: 157911<br>A total of 126 sepsis patients were consecutively enrolled: 71 <b>survivors</b> and 55 non<b>survivors</b> (43.7%) who <b>died</b> within 6.6 ± 5.7 <b>days</b> after MICU admission. Mean <b>age</b> of each group was over 70 <b>years</b>. Male was predominant in the non-<b>survivor</b> group and as risk factor for <b>mortality</b>. Sepsis diagnosis at MICU admission showed no correlation with <b>mortality</b>. APACHE II score was significantly higher among non-<b>survivors</b>. Principal suspected infection source was the respiratory tract, followed by urogenital tract, most infection caused by gram negative bacteria. Six patients with intra-abdominal infection all <b>died</b> within twenty-eight <b>days</b> after admission ( <b>Table</b> 2) .  Characteristics of Study Subjects. Demographic and clinical characteristics of septic patients.  "
      ],
      "text/plain": [
       "<IPython.core.display.HTML object>"
      ]
     },
     "metadata": {},
     "output_type": "display_data"
    },
    {
     "data": {
      "text/html": [
       "9 :: 0.24025958776474 :: 273907<br>In the period of the study, <b>1789 patients</b> were admitted to the ICU and 13 PGWH patients were included. There were 10 male patients (77 %) and 3 female (23 %), with a mean <b>age</b> of 30 <b>years</b> (range 14-64). There were no self-inflicted lesions (all PGWH were results of aggression). Glasgow Coma Scale at admission was 8 or less in <b>10 patients</b>. On admission, <b>7 patients</b> were anisocoric, 8 presenting shock, 5 had associated body lesions from another gunshot wound (such as limbs or in the thorax). Mean SAPS 3 was 67 (range 35-94) and mean Apache II, 26 (range 8-37). The CT scan findings were: midline shift in <b>8 patients</b>, 7 single lobe haemorrhages (such as frontal or parietal lobe), and <b>6 patients</b> with bleeding in more than one lobe. Six patients had subarachnoid and 3 had intraventricular hemorrhage. Early surgical procedure was made to <b>10 patients</b> (mainly decompressive craniectomy). The mean hospital length of stay was 21 <b>days</b> (range 2 to 136 <b>days</b>). Six patients had wound infection, and three, infection in other sites. The <b>mortality</b> rate for the entire group was 54 % (7 out 13). <b>4 patients</b> progressed to brain <b>death</b>. Of the six patients <b>discharged</b> from the hospital, four had good outcome (defined as modified Rankin scores of 0-3), and two, bad outcome (modified Rankin of 4). Results   "
      ],
      "text/plain": [
       "<IPython.core.display.HTML object>"
      ]
     },
     "metadata": {},
     "output_type": "display_data"
    },
    {
     "data": {
      "text/html": [
       "9 :: 0.2491436004638672 :: 1061936<br>Methods Six months after ICU <b>discharge</b>, <b>survivors</b> went to a follow-up consultation and the QOL-SP was applied. The QOL-SP comprises 15 items grouped in three subscales, which evaluate Basic Physiologic Activities (BPA), Normal Daily Activities (NDA) and Emotional State (ES), and enables the calculation of a global index (QOL-SP Index). Patients from the sepsis group were compared with those from the control group concerning background variables (<b>age</b>, sex, gender, previous health state), ICU variables (reason for admission, APACHE II score and length of ICU stay) and QOL-SP variables. Patients younger than 18 <b>years</b> <b>old</b> and those with an ICU stay ≤ 1 <b>day</b> were excluded. Patients exhibiting nonsevere sepsis at or after ICU admission, and those with severe sepsis/septic shock after ICU admission were also excluded. Introduction   "
      ],
      "text/plain": [
       "<IPython.core.display.HTML object>"
      ]
     },
     "metadata": {},
     "output_type": "display_data"
    },
    {
     "data": {
      "text/html": [
       "9 :: 0.26117193698883057 :: 193577<br>The mean <b>age</b> of the study participants was 60.3 ± 15.3 <b>years</b> and 213 (66.1%) of the participants were male. The reasons for admission were cardiovascular disease (203, 63.0%), lung disease (49, 15.2%), malignancy (35, 10 .9%) and others (35, 10 .9%). One hundred and thirty seven (42.5%) patients had received cardiopulmonary resuscitation within 24 h prior to ECMO initiation. After the median (IQR) 2 (0-10) <b>days</b> of admission, the patients received ECMO insertion because of cardiotomy (31, 9. 6%), non-operative cardiovascular causes (185, 57.5%), adult respiratory distress syndrome (ARDS) (43, 13.4%), non-ARDS lung causes (44, 13.7%) and other causes (19, 5.9%) . Two hundred and thirty (71.4%) and 92 (28.6%) patients received VA and VV ECMO support, respectively. One hundred and six (32.9%) patients were undergoing IABP on the date of ECMO insertion. The median (IQR) <b>duration</b> from ECMO initiation to <b>death</b> or <b>discharge</b> was 21 <b>days</b>. The incidence of AKI comprising all KDIGO grades was 82.3%. In-hospital <b>mortality</b> was 51.6%. The median (IQR) <b>durations</b> for AKI and in-hospital <b>mortality</b> were 2 (1-7) <b>days</b> and 9 (4-23) <b>days</b>, respectively. Results   Is anemia at hospital admission associated with in-hospital acute kidney injury occurrence? Nephron Clinical practice Complications of extracorporeal membrane oxygenation for treatment of cardiogenic shock and cardiac arrest: a meta-analysis of 1,866 adult patients Is anemia at hospital admission associated with in-hospital acute kidney injury occurrence? Nephron Clinical practice Complications of extracorporeal membrane oxygenation for treatment of cardiogenic shock and cardiac arrest: a meta-analysis of 1,866 adult patients"
      ],
      "text/plain": [
       "<IPython.core.display.HTML object>"
      ]
     },
     "metadata": {},
     "output_type": "display_data"
    },
    {
     "data": {
      "text/html": [
       "8 :: 0.24510252475738525 :: 273783<br>Of <b>51 patients</b> treated with TH, <b>27 patients</b> <b>survived</b> to hospital <b>discharge</b>. Seventeen of the hospital <b>survivors</b> were conscious: 6, 3 and <b>8 patients</b> with CPC at <b>discharge</b> 1, 2 and 3, respectively. Five of them passed away later. Approximately 78.6 %, 76.9 % and 75 % of awake patients <b>survived</b> at 6 months, 1 and 2 <b>years</b> after <b>discharge</b>, respectively. The majority (3/5) of <b>dead</b> cases <b>died</b> within 6 months with severe functional disability (score 24-26). The patients' disability scores were shown in <b>table</b>. One-third of awake patients with CPC 2 and 3 who still <b>survived</b> at 6 months after <b>discharge</b> finally recovered to normal physical and cognitive function, while most of patients with CPC1 returned to normal function or minimal disability. Results   "
      ],
      "text/plain": [
       "<IPython.core.display.HTML object>"
      ]
     },
     "metadata": {},
     "output_type": "display_data"
    },
    {
     "data": {
      "text/html": [
       "8 :: 0.2601914405822754 :: 1448192<br>Results: BHT was performed in the <b>15 patients</b> (<b>age</b> 56.4±13.7 <b>years</b>; 10 men, 5 women) after resuscitation from cardiac arrest. The average <b>duration</b> of time onset of cardiac arrest to return of heartbeat was 29.3±12.6 minutes. Eleven patients obtained good neurologic outcome (moderate disabilities and good recovery; 73.3%), no patient <b>died</b> during BHT, and 1 patient <b>died</b> on the 12th hospital <b>day</b>. This outcome rate (73.3%) was statistically the same as the previous rate (70.6%) in the prospective study between 1996 and 2000. Patients   "
      ],
      "text/plain": [
       "<IPython.core.display.HTML object>"
      ]
     },
     "metadata": {},
     "output_type": "display_data"
    },
    {
     "data": {
      "text/html": [
       "7 :: 0.2584715485572815 :: 147888<br>In conclusion, for the patients confirmed with EVD, the <b>survival</b> rate was 51.23 %. Some <b>surviving</b> patients did not become blood EBOV negative until 4 weeks after admission or later. Most non-<b>surviving</b> patients <b>died</b> within 1 week after admission. Patients under the <b>age</b> of 6 <b>years</b> and those with high viral load had a higher fatality rate. Patients who presented confusion, vomiting, abdominal pain, and conjunctivitis at the time of admission were at higher risk of <b>death</b>. Such patients should be the priority of medical attention and should be put under intensive treatment, particularly during the first week of hospitalization. Conclusions   "
      ],
      "text/plain": [
       "<IPython.core.display.HTML object>"
      ]
     },
     "metadata": {},
     "output_type": "display_data"
    },
    {
     "data": {
      "text/html": [
       "7 :: 0.2584715485572815 :: 522569<br>In conclusion, for the patients confirmed with EVD, the <b>survival</b> rate was 51.23 %. Some <b>surviving</b> patients did not become blood EBOV negative until 4 weeks after admission or later. Most non-<b>surviving</b> patients <b>died</b> within 1 week after admission. Patients under the <b>age</b> of 6 <b>years</b> and those with high viral load had a higher fatality rate. Patients who presented confusion, vomiting, abdominal pain, and conjunctivitis at the time of admission were at higher risk of <b>death</b>. Such patients should be the priority of medical attention and should be put under intensive treatment, particularly during the first week of hospitalization. Conclusions   "
      ],
      "text/plain": [
       "<IPython.core.display.HTML object>"
      ]
     },
     "metadata": {},
     "output_type": "display_data"
    },
    {
     "data": {
      "text/html": [
       "7 :: 0.25954365730285645 :: 1474963<br>The Kaplan-Meier <b>survival</b> plots are shown in <b>Figure</b> 2 . <b>Survival</b> up to 5 <b>years</b> since ICU admission was 54.9% (95% CI: 50.2%, 60.1%). <b>Survival</b> at 28 <b>days</b> from ICU admission was 67.2% (95% CI: 62.9%, 71.9%); among those <b>surviving</b> to hospital <b>discharge</b>, 84.5% (79.8%, 89.4%) were alive 5 <b>years</b> post-hospital <b>discharge</b>. Median follow-up time from ICU admission was 449 <b>days</b> (IQR: 13, 1138). Most <b>deaths</b> occurred within 28 <b>days</b> of ICU admission with very few additional <b>deaths</b> occurring post-hospital <b>discharge</b> in our follow-up period. Primary outcome  60% when compared to the group not receiving a rescue therapy (median (IQR): 8 <b>days</b> (4, 17) versus 5 <b>days</b> (3, 8); p<.01). "
      ],
      "text/plain": [
       "<IPython.core.display.HTML object>"
      ]
     },
     "metadata": {},
     "output_type": "display_data"
    },
    {
     "data": {
      "text/html": [
       "6 :: 0.22774672508239746 :: 1168681<br>At a median follow-up of 20 months (Range, seven months -four <b>years</b>), eight patients (50%) <b>died</b> at a median of 79 (Range, 24 to 230 <b>days</b>), with a transplantrelated <b>mortality</b> of 25% and relapse-related <b>mortality</b> of 25%. Five patients (31%) relapsed post-UCBT; four <b>died</b> and one had a successful second UCBT (event-free <b>survival</b> was 44%). Immune reconstitution in alive patients was achieved at a median of eight months. P718   "
      ],
      "text/plain": [
       "<IPython.core.display.HTML object>"
      ]
     },
     "metadata": {},
     "output_type": "display_data"
    },
    {
     "data": {
      "text/html": [
       "6 :: 0.23593151569366455 :: 324201<br>Sociodemographic as well as disease-and treatmentrelated characteristics of study participants who returned the self-report questionnaire at 1 year after <b>discharge</b> from ICU are displayed in <b>Table</b> 1 . Two-thirds of persons were male. Median <b>age</b> at admission to ICU was 56 <b>years</b> (IQR 47-65). The vast majority had a moderate (46%) or severe form (43%) of ARDS (according to the classification provided by the Berlin definition [16] ). Patient characteristics   The Berlin definition of ARDS: an expanded rationale, justification, and supplementary material"
      ],
      "text/plain": [
       "<IPython.core.display.HTML object>"
      ]
     },
     "metadata": {},
     "output_type": "display_data"
    },
    {
     "data": {
      "text/html": [
       "5 :: 0.24145781993865967 :: 161765<br>All patients were male, with a mean <b>age</b> of 74 ± 12 (55-89). <b>3 patients</b> <b>died</b>. The most common diagnosis was community acquired pneumonia (50 %), and second was acute on chronic cardiac failure (25 %). At admission they were all classified in the very high risk group. Also, the <b>8 patients</b> had one or more mayor chronic criteria. The most frequent risk factors were hypertension history or hypotension at admission (75 % respectively), <b>age</b> and sepsis (62.5 % respectively). All patients had early elevation of serum creatinine (sCr) of at least 0.1 mg/dl. Average <b>days</b> between admission to the ICU and beginning of CRRT was 3. Results   "
      ],
      "text/plain": [
       "<IPython.core.display.HTML object>"
      ]
     },
     "metadata": {},
     "output_type": "display_data"
    },
    {
     "data": {
      "text/html": [
       "5 :: 0.24284613132476807 :: 1807743<br>Although the incidence rate of ED visit increased from 2007 through 2014, the rate of hospitalization declined, from 63.4% in 2007 to 38.2% in 2014. Peculiarly, the hospitalization rate was markedly lower in 2009, at 22.5%. The yearly ICU admission rate declined over the study period, from 1.9% in 2007 to 0.9% in 2014 (<b>Table</b> 2). 1. CAP under 18 <b>years</b> of <b>age</b> during 2007–2014 ::: Results <b>Table</b> 2.: The clinical features of patients with pneumonia who visited Emergency Departments by <b>age</b> group and year in 2007–2014   "
      ],
      "text/plain": [
       "<IPython.core.display.HTML object>"
      ]
     },
     "metadata": {},
     "output_type": "display_data"
    },
    {
     "data": {
      "text/html": [
       "5 :: 0.25510668754577637 :: 1769951<br>There were <b>29 patients</b> (16 boys and 13 girls) who met the criteria for ALTE (<b>Table</b> 1). The median patient <b>age</b> was 39.0 <b>days</b> (range, 3-220 <b>days</b>), with a peak incidence of <b>age</b> younger than 1 month (48.3%) and 69.0% of patients younger than 2 months (Fig. 1). Twelve patients (41.4%) were preterm infants, and 8 (27.6%) were low birth weight infants. Among 12 preterm infants, the median gestational <b>age</b> was 35.5 weeks (range, 27.5-36.3 weeks), and <b>2 patients</b> were diagnosed as bronchopulmonary dysplasia and <b>2 patients</b> were diagnosed as apnea of prematurity. Fifteen infants (51.7%) were firstborn. The median maternal <b>age</b> was 31.0 yr (range, 25-42 yr) and no mother presented with a history of smoking. There was no history of SIDS or ALTE in their siblings. Demographic characteristics of the patients ::: RESULTS   "
      ],
      "text/plain": [
       "<IPython.core.display.HTML object>"
      ]
     },
     "metadata": {},
     "output_type": "display_data"
    },
    {
     "data": {
      "text/html": [
       "5 :: 0.2551475763320923 :: 273697<br>Results <b>130 patients</b> were enrolled, 63.8 % were male, the median <b>age</b> -64 ± 16 (19Ð91), median BMI Ð 27.9 ± 5.9 (18.8Ð49), ICU LOS Ð 15.4 ± 6,1 <b>days</b>, <b>mortality</b> rate of 26.9 % (35). 70 % of patients were admitted for medical reasons, 31.5 % had normal weight, and the remaining patients were either overweight or obese. Energy intake in the first 10 <b>days</b> was 12.4 ± 6.6 Kcal/Kg/<b>day</b> (0Ð34.1); excluding the first 3 <b>days</b> it rose to 15.6 ± 7.4Kcal/Kg/<b>day</b> (0Ð34.1). Nutritional support was evaluated over a period of 1,223 <b>days</b> in which 80 % of the <b>days</b> patients received nutritional support, 66 % by enteral route and 14 % by parenteral route. Methods   "
      ],
      "text/plain": [
       "<IPython.core.display.HTML object>"
      ]
     },
     "metadata": {},
     "output_type": "display_data"
    },
    {
     "data": {
      "text/html": [
       "5 :: 0.2621474266052246 :: 545738<br> Results: Incidence of AKI between 2009 and 2015 was 2.99 % in 8033 patient episodes. All factors other than gender were noticeably associated with AKI. Rate of AKI was 2.7 % in elective cases compared to 10.5 % in urgent cases. Revision surgery was associated with an increased rate of AKI when compared to primary surgery. AKI increased with <b>age</b> and the rate of AKI in patients over the <b>age</b> of 80 was 9.9 %. Development of AKI progressively increased from 0.88 % in ASA 1 to 13.3 % in ASA <b>4 patients</b>. Pre-operative anaemia and blood transfusion increased the risk of AKI from 2 % to 4.6 % and 2.2 % to 8.9 % respectively. All patients who developed AKI had post-operative anaemia. AKI affected 6.9 % of those patients who were admitted to the HDU while patients not admitted to HDU demonstrated a rate of AKI of 1.7 %. Patients with AKI had a mean LOS of 28.6 <b>days</b> compared to 9.4 <b>days</b> in those without AKI. Patients with no AKI had a <b>mortality</b> of 1.8 % at one year compared with 5.8 %, 6.5 % and 7.7 % in patients with Stage 1, Stage 2 and Stage 3 AKI respectively. Royal National Orthopaedic Hospital, Middlesex, UK ::: N. Desai, R. Baumber, P. Gunning, A. Sell ::: P211 Identification of risk factors for the development of acute kidney injury after lower limb arthroplasty   "
      ],
      "text/plain": [
       "<IPython.core.display.HTML object>"
      ]
     },
     "metadata": {},
     "output_type": "display_data"
    },
    {
     "data": {
      "text/html": [
       "4 :: 0.2319011092185974 :: 1448634<br>Results: The median <b>age</b> of patients was 5 <b>days</b>, median gestational <b>age</b> was 38.5 weeks (range 34 to 41 weeks), and median weight loss since birth was 8%. Overall, 70% of patients were exclusively breast fed; 5% were exclusively formula fed. The median TSB for admission was 20 mg/dL (range 12 to 26 mg/dL); 8% of patients had a TSB of 25 mg/dL or greater. ABO blood group incompatibility was present in 16% of patients, more than half of whom had a positive direct antiglobulin test. Rh incompatibility was noted in 9% of patients; all patients were direct antiglobulin test negative. All patients received phototherapy; 73% of patients received intravenous fluid; 68% of patients received intensive lactation consultation; 15% of patients required inpatient admission for continued medical care beyond 24 hours. Hypernatremia at 150 meq/L or greater was associated with need for inpatient admission (odds ratio 1.8; 95% confidence interval 1.0 to 3.2; P<.001). <b>Age</b>, gestational <b>age</b>, TSB, percentage of weight loss, and feeding method were not associated with need for inpatient admission. The median <b>discharge</b> TSB was 15. Patients and TSB were followed up after <b>discharge</b>. There were no adverse outcomes. Emergency Department Observation Unit: A Novel Alternative to Inpatient Admission   "
      ],
      "text/plain": [
       "<IPython.core.display.HTML object>"
      ]
     },
     "metadata": {},
     "output_type": "display_data"
    },
    {
     "data": {
      "text/html": [
       "4 :: 0.2559633255004883 :: 874993<br>At six and 24 months, 44 and 34% of the patients were alive, respectively. The median observation time was 116 months (range 30.5-205). Patients with response on <b>day</b> 7 and 28 had significantly higher OS probability than non-responders with an OS rate after two <b>years</b> of 49 and 58%, respectively. Overall <b>survival</b> and OS according to 68  <b>Survival</b>   "
      ],
      "text/plain": [
       "<IPython.core.display.HTML object>"
      ]
     },
     "metadata": {},
     "output_type": "display_data"
    },
    {
     "data": {
      "text/html": [
       "2 :: 0.2570793628692627 :: 709719<br>Overall, the median <b>age</b> of the 2156 children in the analysis cohort was 4 months (IQR, 2-9 months), 59% were boys, and 62% were white. Admission locations were as follows: ICU (16%), step-down unit (3%), ward (76%), and observation unit (5%). RESULTS   "
      ],
      "text/plain": [
       "<IPython.core.display.HTML object>"
      ]
     },
     "metadata": {},
     "output_type": "display_data"
    }
   ],
   "source": [
    "q = model.text_to_dense('results after mechnical ventilation discharged dead died')\n",
    "q = model.text_to_dense('results after mechnical ventilation discharged survived died')\n",
    "q = model.text_to_dense('results after mechnical ventilation discharged dead died survived survivors')\n",
    "q = model.text_to_dense('results after mechnical ventilation discharged dead died survived survivors adjusted age years old')\n",
    "q = model.text_to_dense('results after mechnical ventilation discharged died survived survivors extubated adjusted')\n",
    "q = model.text_to_dense('results outcomes after mechnical ventilation discharged died survived extubated adjusted age')\n",
    "i_d_lists = model.dense_ann_query(q,50)\n",
    "\n",
    "results = score_results(i_d_lists, criteria)\n",
    "print(agg_scores(results))\n",
    "for s,d,i,text,doc in results:\n",
    "    display(HTML(f\"{s} :: {d} :: {i}<br>{text}\"))\n",
    "\n",
    "\n"
   ]
  },
  {
   "cell_type": "code",
   "execution_count": null,
   "metadata": {},
   "outputs": [],
   "source": []
  }
 ],
 "metadata": {
  "kernelspec": {
   "display_name": "Python 3",
   "language": "python",
   "name": "python3"
  },
  "language_info": {
   "codemirror_mode": {
    "name": "ipython",
    "version": 3
   },
   "file_extension": ".py",
   "mimetype": "text/x-python",
   "name": "python",
   "nbconvert_exporter": "python",
   "pygments_lexer": "ipython3",
   "version": "3.6.8"
  }
 },
 "nbformat": 4,
 "nbformat_minor": 4
}
